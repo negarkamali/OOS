{
  "nbformat": 4,
  "nbformat_minor": 0,
  "metadata": {
    "colab": {
      "provenance": [],
      "authorship_tag": "ABX9TyN2z7lMVHTjuo2DOrYhSG8G",
      "include_colab_link": true
    },
    "kernelspec": {
      "name": "python3",
      "display_name": "Python 3"
    },
    "language_info": {
      "name": "python"
    }
  },
  "cells": [
    {
      "cell_type": "markdown",
      "metadata": {
        "id": "view-in-github",
        "colab_type": "text"
      },
      "source": [
        "<a href=\"https://colab.research.google.com/github/negarkamali/OOS/blob/main/Intent_classification_conforml_prediction.ipynb\" target=\"_parent\"><img src=\"https://colab.research.google.com/assets/colab-badge.svg\" alt=\"Open In Colab\"/></a>"
      ]
    },
    {
      "cell_type": "code",
      "execution_count": 3,
      "metadata": {
        "colab": {
          "base_uri": "https://localhost:8080/"
        },
        "id": "jX79rn5Vt4h6",
        "outputId": "0935f3d3-1531-4770-ecc0-60be9e34299a"
      },
      "outputs": [
        {
          "output_type": "stream",
          "name": "stdout",
          "text": [
            "File downloaded successfully!\n"
          ]
        }
      ],
      "source": [
        "import requests\n",
        "import json\n",
        "import re  # Import the regular expression module\n",
        "import pandas as pd\n",
        "\n",
        "url = \"https://raw.githubusercontent.com/clinc/oos-eval/master/data/data_oos_plus.json\"\n",
        "response = requests.get(url)\n",
        "\n",
        "if response.status_code == 200:\n",
        "    # Save the file content to a file in the current working directory\n",
        "    with open(\"data_oos_plus.json\", \"w\") as file:\n",
        "        file.write(response.text)\n",
        "    print(\"File downloaded successfully!\")\n",
        "else:\n",
        "    print(\"Failed to download the file. Status code:\", response.status_code)\n",
        "\n",
        "\n"
      ]
    },
    {
      "cell_type": "code",
      "source": [
        "import json\n",
        "import re\n",
        "import requests\n",
        "\n",
        "url = \"https://raw.githubusercontent.com/clinc/oos-eval/master/data/data_oos_plus.json\"\n",
        "response = requests.get(url)\n",
        "\n",
        "if response.status_code == 200:\n",
        "    # Convert the file content to JSON\n",
        "    data = json.loads(response.text)\n",
        "\n",
        "    # Define a function to clean text\n",
        "    def clean_text(text):\n",
        "        text = text.lower()  # Convert to lowercase\n",
        "        text = re.sub(r'[^a-z0-9\\s]', '', text)  # Remove non-alphanumeric characters\n",
        "        tokens = text.split()  # Simple tokenization (splitting by spaces)\n",
        "        return ' '.join(tokens)\n",
        "\n",
        "    # Clean the data\n",
        "    cleaned_data = {}\n",
        "    for key, value in data.items():\n",
        "        cleaned_data[key] = [(clean_text(item[0]), item[1]) for item in value]\n",
        "\n",
        "    # Save the cleaned data to a JSON file\n",
        "    with open('cleaned_data.json', 'w') as f:\n",
        "        json.dump(cleaned_data, f, indent=4)\n",
        "\n",
        "    print(\"Data cleaned and saved to 'cleaned_data.json'\")\n",
        "else:\n",
        "    print(\"Failed to download the file. Status code:\", response.status_code)\n"
      ],
      "metadata": {
        "colab": {
          "base_uri": "https://localhost:8080/"
        },
        "id": "1rDBlruXxMeA",
        "outputId": "5974423c-a919-4887-ecf2-760e474e2848"
      },
      "execution_count": 2,
      "outputs": [
        {
          "output_type": "stream",
          "name": "stdout",
          "text": [
            "Data cleaned and saved to 'cleaned_data.json'\n"
          ]
        }
      ]
    },
    {
      "cell_type": "code",
      "source": [
        "import json\n",
        "import nltk\n",
        "from nltk.tokenize import word_tokenize\n",
        "\n",
        "# Ensure that you have the punkt tokenizer models downloaded\n",
        "nltk.download('punkt')\n",
        "\n",
        "import json\n",
        "from nltk.tokenize import word_tokenize\n",
        "\n",
        "def tokenize_sentence(sentence):\n",
        "    return word_tokenize(sentence)\n",
        "\n",
        "def tokenize_data(input_path, output_path=None):\n",
        "    # Load the data\n",
        "    with open(input_path, 'r') as f:\n",
        "        data = json.load(f)\n",
        "\n",
        "    # Tokenize the data\n",
        "    tokenized_data = {}\n",
        "    for key, values in data.items():\n",
        "        tokenized_data[key] = [[tokenize_sentence(sentence), label] for sentence, label in values]\n",
        "\n",
        "    # Save the tokenized data (optional)\n",
        "    if output_path:\n",
        "        with open(output_path, 'w') as f:\n",
        "            json.dump(tokenized_data, f, indent=4)\n",
        "\n",
        "    return tokenized_data\n",
        "\n",
        "# Input and output file paths\n",
        "input_path = 'cleaned_data.json'\n",
        "output_path = 'tokenized_data.json'\n",
        "\n",
        "# Tokenize and save the data\n",
        "tokenized_data = tokenize_data(input_path, output_path)\n"
      ],
      "metadata": {
        "colab": {
          "base_uri": "https://localhost:8080/"
        },
        "id": "c-zzWJ_dAW4D",
        "outputId": "c0c14354-20c4-49a0-aa98-df6e743abc34"
      },
      "execution_count": 4,
      "outputs": [
        {
          "output_type": "stream",
          "name": "stderr",
          "text": [
            "[nltk_data] Downloading package punkt to /root/nltk_data...\n",
            "[nltk_data]   Unzipping tokenizers/punkt.zip.\n"
          ]
        }
      ]
    },
    {
      "cell_type": "code",
      "source": [
        "import json\n",
        "import tensorflow_hub as hub\n",
        "import numpy as np\n",
        "import os\n",
        "\n",
        "# Load Universal Sentence Encoder\n",
        "embed = hub.load(\"https://tfhub.dev/google/universal-sentence-encoder/4\")\n",
        "\n",
        "def embed_sentences(sentences):\n",
        "    return embed(sentences)\n",
        "\n",
        "def load_data(file_path):\n",
        "    with open(file_path, 'r') as f:\n",
        "        data = json.load(f)\n",
        "    return data\n",
        "\n",
        "def preprocess_and_save(data, output_file):\n",
        "    for key in data:\n",
        "        sentences = [item[0] for item in data[key]]\n",
        "        embeddings = embed_sentences(sentences)\n",
        "        for i, item in enumerate(data[key]):\n",
        "            item[0] = embeddings[i].numpy().tolist()  # Convert embedding to list\n",
        "    with open(output_file, 'w') as f:\n",
        "        json.dump(data, f)\n",
        "\n",
        "if __name__ == \"__main__\":\n",
        "    input_file = 'cleaned_data.json'\n",
        "    output_file = 'data_oos_plus_embedded.json'\n",
        "    data = load_data(input_file)\n",
        "    preprocess_and_save(data, output_file)"
      ],
      "metadata": {
        "id": "K1T9FYK6CCEc"
      },
      "execution_count": 5,
      "outputs": []
    },
    {
      "cell_type": "code",
      "source": [
        "import json\n",
        "import numpy as np\n",
        "import os\n",
        "from sklearn.preprocessing import LabelEncoder\n",
        "from tensorflow.keras.utils import to_categorical\n",
        "\n",
        "def load_and_preprocess_data():\n",
        "    # Define file path\n",
        "    file_path = 'data_oos_plus_embedded.json'\n",
        "\n",
        "    # Load data from JSON file\n",
        "    with open(file_path, 'r') as f:\n",
        "        data = json.load(f)\n",
        "\n",
        "    # Separate features (X) and labels (y) for in-scope and out-of-scope data\n",
        "    X_train, y_train = zip(*[(embedding, label) for embedding, label in data[\"train\"]])\n",
        "    X_val, y_val = zip(*[(embedding, label) for embedding, label in data[\"val\"]])\n",
        "    X_test, y_test = zip(*[(embedding, label) for embedding, label in data[\"test\"]])\n",
        "\n",
        "    X_train_oos, y_train_oos = zip(*[(embedding, 'oos') for embedding, label in data[\"oos_train\"]])\n",
        "    X_val_oos, y_val_oos = zip(*[(embedding, 'oos') for embedding, label in data[\"oos_val\"]])\n",
        "    X_test_oos, y_test_oos = zip(*[(embedding, 'oos') for embedding, label in data[\"oos_test\"]])\n",
        "\n",
        "    # Convert lists to numpy arrays\n",
        "    X_train = np.array(X_train)\n",
        "    X_val = np.array(X_val)\n",
        "    X_test = np.array(X_test)\n",
        "\n",
        "    X_train_oos = np.array(X_train_oos)\n",
        "    X_val_oos = np.array(X_val_oos)\n",
        "    X_test_oos = np.array(X_test_oos)\n",
        "\n",
        "    print(\"X_train shape:\", (X_train).shape)\n",
        "    print(\"X_train_oos shape:\", (X_train_oos).shape)\n",
        "    # Combine in-scope and out-of-scope data\n",
        "    X_train_combined = np.vstack([X_train, X_train_oos])\n",
        "    X_val_combined = np.vstack([X_val, X_val_oos])\n",
        "    X_test_combined = np.vstack([X_test, X_test_oos])\n",
        "\n",
        "    print(\"X_train_combined shape:\", (X_train_combined).shape)\n",
        "    y_train_combined = y_train + y_train_oos\n",
        "    y_val_combined = y_val + y_val_oos\n",
        "    y_test_combined = y_test + y_test_oos\n",
        "\n",
        "    # Convert labels to integers using LabelEncoder, fitting on the combined label set\n",
        "    label_encoder = LabelEncoder()\n",
        "    y_train_combined = label_encoder.fit_transform(y_train_combined)\n",
        "    y_val_combined = label_encoder.transform(y_val_combined)\n",
        "    y_test_combined = label_encoder.transform(y_test_combined)\n",
        "\n",
        "    # Convert integer labels to one-hot encoding\n",
        "    y_train_combined = to_categorical(y_train_combined)\n",
        "    y_val_combined = to_categorical(y_val_combined)\n",
        "    y_test_combined = to_categorical(y_test_combined)\n",
        "\n",
        "\n",
        "    return (X_train_combined, y_train_combined), (X_val_combined, y_val_combined), (X_test_combined, y_test_combined), label_encoder\n",
        "\n",
        "if __name__ == \"__main__\":\n",
        "    (X_train, y_train), (X_val, y_val), (X_test, y_test), label_encoder = load_and_preprocess_data()\n"
      ],
      "metadata": {
        "colab": {
          "base_uri": "https://localhost:8080/"
        },
        "id": "8kOju9mq29W4",
        "outputId": "05a04a96-3c9a-46b4-eba0-93c5442cebae"
      },
      "execution_count": 6,
      "outputs": [
        {
          "output_type": "stream",
          "name": "stdout",
          "text": [
            "X_train shape: (15000, 512)\n",
            "X_train_oos shape: (250, 512)\n",
            "X_train_combined shape: (15250, 512)\n"
          ]
        }
      ]
    },
    {
      "cell_type": "code",
      "source": [
        "from tensorflow.keras.models import Sequential\n",
        "from tensorflow.keras.layers import Dense, Dropout\n",
        "from sklearn.metrics import recall_score\n",
        "import numpy as np\n",
        "import os"
      ],
      "metadata": {
        "id": "RgEhP9iE5bOn"
      },
      "execution_count": 7,
      "outputs": []
    },
    {
      "cell_type": "markdown",
      "source": [
        "everything from here on is including the out-of-distribution data (combined)"
      ],
      "metadata": {
        "id": "Rx6JGKxKTyzq"
      }
    },
    {
      "cell_type": "code",
      "source": [
        "from sklearn.model_selection import train_test_split\n",
        "# Load preprocessed data\n",
        "(X_train, y_train), (X_val, y_val), (X_test, y_test), label_encoder = load_and_preprocess_data()\n",
        "# Convert y_test from one-hot encoding to label encoding for stratification\n",
        "y_test_labels = np.argmax(y_test, axis=1)\n",
        "\n",
        "# Split test set into calibration and final test set (50-50 split)\n",
        "X_cal, X_test_final, y_cal, y_test_final = train_test_split(\n",
        "    X_test, y_test, test_size=0.5, random_state=42, stratify=y_test\n",
        ")\n"
      ],
      "metadata": {
        "colab": {
          "base_uri": "https://localhost:8080/"
        },
        "id": "kK9ahmBh7X_P",
        "outputId": "b8b82061-8640-4893-8ccf-dab8efc3f6bf"
      },
      "execution_count": 8,
      "outputs": [
        {
          "output_type": "stream",
          "name": "stdout",
          "text": [
            "X_train shape: (15000, 512)\n",
            "X_train_oos shape: (250, 512)\n",
            "X_train_combined shape: (15250, 512)\n"
          ]
        }
      ]
    },
    {
      "cell_type": "code",
      "source": [
        "# Define and compile the model\n",
        "model_MLP = Sequential([\n",
        "    Dense(200, input_shape=(X_train.shape[1],), activation='tanh'),\n",
        "    Dropout(0.5),\n",
        "    Dense(200, activation='tanh'),\n",
        "    Dropout(0.5),\n",
        "    Dense(y_train.shape[1], activation='softmax')\n",
        "])"
      ],
      "metadata": {
        "id": "pnidedX-7X81"
      },
      "execution_count": 30,
      "outputs": []
    },
    {
      "cell_type": "code",
      "source": [
        "model_MLP.compile(optimizer='adam', loss='categorical_crossentropy', metrics=['accuracy'])"
      ],
      "metadata": {
        "id": "y0eZxLVgD7qy"
      },
      "execution_count": 31,
      "outputs": []
    },
    {
      "cell_type": "code",
      "source": [
        "X_val.shape"
      ],
      "metadata": {
        "colab": {
          "base_uri": "https://localhost:8080/"
        },
        "id": "WVaGnLYDUWGE",
        "outputId": "2afb7444-df0c-46f2-bdf3-068c85da2670"
      },
      "execution_count": 13,
      "outputs": [
        {
          "output_type": "execute_result",
          "data": {
            "text/plain": [
              "(3100, 512)"
            ]
          },
          "metadata": {},
          "execution_count": 13
        }
      ]
    },
    {
      "cell_type": "code",
      "source": [
        "X_train.shape"
      ],
      "metadata": {
        "colab": {
          "base_uri": "https://localhost:8080/"
        },
        "id": "GXtYlKhWUfNP",
        "outputId": "c4cb6666-6eda-43ae-ad8a-34ca3ddfa0c2"
      },
      "execution_count": 14,
      "outputs": [
        {
          "output_type": "execute_result",
          "data": {
            "text/plain": [
              "(15250, 512)"
            ]
          },
          "metadata": {},
          "execution_count": 14
        }
      ]
    },
    {
      "cell_type": "code",
      "source": [
        "X_cal.shape"
      ],
      "metadata": {
        "colab": {
          "base_uri": "https://localhost:8080/"
        },
        "id": "lIHFiWtxUhrm",
        "outputId": "2a787c89-c96b-460e-dfaf-b03fcefb3ac2"
      },
      "execution_count": 15,
      "outputs": [
        {
          "output_type": "execute_result",
          "data": {
            "text/plain": [
              "(2750, 512)"
            ]
          },
          "metadata": {},
          "execution_count": 15
        }
      ]
    },
    {
      "cell_type": "code",
      "source": [
        "X_test_final.shape"
      ],
      "metadata": {
        "colab": {
          "base_uri": "https://localhost:8080/"
        },
        "id": "osLfhd66Ukna",
        "outputId": "e1fcb7b7-c8a2-4249-cbce-794932f6fcc2"
      },
      "execution_count": 16,
      "outputs": [
        {
          "output_type": "execute_result",
          "data": {
            "text/plain": [
              "(2750, 512)"
            ]
          },
          "metadata": {},
          "execution_count": 16
        }
      ]
    },
    {
      "cell_type": "code",
      "source": [
        "# Train the model\n",
        "model_MLP.fit(X_train, y_train, validation_data=(X_val, y_val), epochs=50, batch_size=16)"
      ],
      "metadata": {
        "colab": {
          "base_uri": "https://localhost:8080/"
        },
        "id": "Q54u5efbD-9o",
        "outputId": "34fb027a-d196-434d-ec6c-9e396ec86b65"
      },
      "execution_count": 32,
      "outputs": [
        {
          "output_type": "stream",
          "name": "stdout",
          "text": [
            "Epoch 1/50\n",
            "954/954 [==============================] - 9s 7ms/step - loss: 2.2294 - accuracy: 0.5577 - val_loss: 0.6113 - val_accuracy: 0.8768\n",
            "Epoch 2/50\n",
            "954/954 [==============================] - 9s 9ms/step - loss: 0.6087 - accuracy: 0.8453 - val_loss: 0.3721 - val_accuracy: 0.9171\n",
            "Epoch 3/50\n",
            "954/954 [==============================] - 7s 8ms/step - loss: 0.4369 - accuracy: 0.8797 - val_loss: 0.3236 - val_accuracy: 0.9252\n",
            "Epoch 4/50\n",
            "954/954 [==============================] - 8s 9ms/step - loss: 0.3619 - accuracy: 0.8998 - val_loss: 0.2993 - val_accuracy: 0.9284\n",
            "Epoch 5/50\n",
            "954/954 [==============================] - 6s 7ms/step - loss: 0.3132 - accuracy: 0.9112 - val_loss: 0.2918 - val_accuracy: 0.9306\n",
            "Epoch 6/50\n",
            "954/954 [==============================] - 4s 5ms/step - loss: 0.3017 - accuracy: 0.9097 - val_loss: 0.2866 - val_accuracy: 0.9335\n",
            "Epoch 7/50\n",
            "954/954 [==============================] - 4s 4ms/step - loss: 0.2690 - accuracy: 0.9209 - val_loss: 0.2810 - val_accuracy: 0.9361\n",
            "Epoch 8/50\n",
            "954/954 [==============================] - 4s 4ms/step - loss: 0.2524 - accuracy: 0.9262 - val_loss: 0.2779 - val_accuracy: 0.9365\n",
            "Epoch 9/50\n",
            "954/954 [==============================] - 5s 5ms/step - loss: 0.2394 - accuracy: 0.9294 - val_loss: 0.2910 - val_accuracy: 0.9319\n",
            "Epoch 10/50\n",
            "954/954 [==============================] - 4s 4ms/step - loss: 0.2312 - accuracy: 0.9312 - val_loss: 0.2833 - val_accuracy: 0.9339\n",
            "Epoch 11/50\n",
            "954/954 [==============================] - 4s 4ms/step - loss: 0.2268 - accuracy: 0.9317 - val_loss: 0.2878 - val_accuracy: 0.9358\n",
            "Epoch 12/50\n",
            "954/954 [==============================] - 5s 5ms/step - loss: 0.2128 - accuracy: 0.9350 - val_loss: 0.2865 - val_accuracy: 0.9355\n",
            "Epoch 13/50\n",
            "954/954 [==============================] - 4s 4ms/step - loss: 0.2113 - accuracy: 0.9330 - val_loss: 0.2976 - val_accuracy: 0.9342\n",
            "Epoch 14/50\n",
            "954/954 [==============================] - 4s 4ms/step - loss: 0.2059 - accuracy: 0.9374 - val_loss: 0.2794 - val_accuracy: 0.9368\n",
            "Epoch 15/50\n",
            "954/954 [==============================] - 6s 6ms/step - loss: 0.1878 - accuracy: 0.9416 - val_loss: 0.2960 - val_accuracy: 0.9335\n",
            "Epoch 16/50\n",
            "954/954 [==============================] - 4s 4ms/step - loss: 0.1896 - accuracy: 0.9422 - val_loss: 0.2971 - val_accuracy: 0.9352\n",
            "Epoch 17/50\n",
            "954/954 [==============================] - 4s 4ms/step - loss: 0.1917 - accuracy: 0.9401 - val_loss: 0.2909 - val_accuracy: 0.9390\n",
            "Epoch 18/50\n",
            "954/954 [==============================] - 5s 5ms/step - loss: 0.1867 - accuracy: 0.9427 - val_loss: 0.2930 - val_accuracy: 0.9384\n",
            "Epoch 19/50\n",
            "954/954 [==============================] - 4s 4ms/step - loss: 0.1872 - accuracy: 0.9418 - val_loss: 0.2959 - val_accuracy: 0.9358\n",
            "Epoch 20/50\n",
            "954/954 [==============================] - 4s 4ms/step - loss: 0.1872 - accuracy: 0.9415 - val_loss: 0.3042 - val_accuracy: 0.9371\n",
            "Epoch 21/50\n",
            "954/954 [==============================] - 5s 5ms/step - loss: 0.1771 - accuracy: 0.9465 - val_loss: 0.2980 - val_accuracy: 0.9374\n",
            "Epoch 22/50\n",
            "954/954 [==============================] - 4s 4ms/step - loss: 0.1817 - accuracy: 0.9409 - val_loss: 0.3118 - val_accuracy: 0.9381\n",
            "Epoch 23/50\n",
            "954/954 [==============================] - 4s 4ms/step - loss: 0.1737 - accuracy: 0.9462 - val_loss: 0.3093 - val_accuracy: 0.9348\n",
            "Epoch 24/50\n",
            "954/954 [==============================] - 5s 5ms/step - loss: 0.1699 - accuracy: 0.9464 - val_loss: 0.2994 - val_accuracy: 0.9365\n",
            "Epoch 25/50\n",
            "954/954 [==============================] - 4s 4ms/step - loss: 0.1731 - accuracy: 0.9449 - val_loss: 0.2995 - val_accuracy: 0.9365\n",
            "Epoch 26/50\n",
            "954/954 [==============================] - 4s 4ms/step - loss: 0.1635 - accuracy: 0.9473 - val_loss: 0.3166 - val_accuracy: 0.9368\n",
            "Epoch 27/50\n",
            "954/954 [==============================] - 5s 5ms/step - loss: 0.1556 - accuracy: 0.9508 - val_loss: 0.3148 - val_accuracy: 0.9381\n",
            "Epoch 28/50\n",
            "954/954 [==============================] - 4s 4ms/step - loss: 0.1563 - accuracy: 0.9490 - val_loss: 0.3178 - val_accuracy: 0.9348\n",
            "Epoch 29/50\n",
            "954/954 [==============================] - 4s 4ms/step - loss: 0.1635 - accuracy: 0.9474 - val_loss: 0.3216 - val_accuracy: 0.9394\n",
            "Epoch 30/50\n",
            "954/954 [==============================] - 4s 5ms/step - loss: 0.1588 - accuracy: 0.9489 - val_loss: 0.3147 - val_accuracy: 0.9374\n",
            "Epoch 31/50\n",
            "954/954 [==============================] - 4s 4ms/step - loss: 0.1589 - accuracy: 0.9494 - val_loss: 0.3078 - val_accuracy: 0.9371\n",
            "Epoch 32/50\n",
            "954/954 [==============================] - 4s 4ms/step - loss: 0.1566 - accuracy: 0.9510 - val_loss: 0.3202 - val_accuracy: 0.9384\n",
            "Epoch 33/50\n",
            "954/954 [==============================] - 4s 4ms/step - loss: 0.1550 - accuracy: 0.9508 - val_loss: 0.3297 - val_accuracy: 0.9377\n",
            "Epoch 34/50\n",
            "954/954 [==============================] - 5s 5ms/step - loss: 0.1499 - accuracy: 0.9521 - val_loss: 0.3235 - val_accuracy: 0.9374\n",
            "Epoch 35/50\n",
            "954/954 [==============================] - 4s 4ms/step - loss: 0.1517 - accuracy: 0.9523 - val_loss: 0.3247 - val_accuracy: 0.9406\n",
            "Epoch 36/50\n",
            "954/954 [==============================] - 4s 4ms/step - loss: 0.1449 - accuracy: 0.9529 - val_loss: 0.3398 - val_accuracy: 0.9365\n",
            "Epoch 37/50\n",
            "954/954 [==============================] - 5s 5ms/step - loss: 0.1492 - accuracy: 0.9522 - val_loss: 0.3414 - val_accuracy: 0.9355\n",
            "Epoch 38/50\n",
            "954/954 [==============================] - 4s 4ms/step - loss: 0.1486 - accuracy: 0.9537 - val_loss: 0.3407 - val_accuracy: 0.9377\n",
            "Epoch 39/50\n",
            "954/954 [==============================] - 4s 4ms/step - loss: 0.1466 - accuracy: 0.9530 - val_loss: 0.3462 - val_accuracy: 0.9361\n",
            "Epoch 40/50\n",
            "954/954 [==============================] - 5s 5ms/step - loss: 0.1481 - accuracy: 0.9518 - val_loss: 0.3560 - val_accuracy: 0.9329\n",
            "Epoch 41/50\n",
            "954/954 [==============================] - 4s 4ms/step - loss: 0.1501 - accuracy: 0.9539 - val_loss: 0.3443 - val_accuracy: 0.9410\n",
            "Epoch 42/50\n",
            "954/954 [==============================] - 4s 4ms/step - loss: 0.1457 - accuracy: 0.9541 - val_loss: 0.3539 - val_accuracy: 0.9358\n",
            "Epoch 43/50\n",
            "954/954 [==============================] - 5s 5ms/step - loss: 0.1489 - accuracy: 0.9513 - val_loss: 0.3379 - val_accuracy: 0.9352\n",
            "Epoch 44/50\n",
            "954/954 [==============================] - 4s 4ms/step - loss: 0.1485 - accuracy: 0.9527 - val_loss: 0.3351 - val_accuracy: 0.9374\n",
            "Epoch 45/50\n",
            "954/954 [==============================] - 4s 4ms/step - loss: 0.1465 - accuracy: 0.9547 - val_loss: 0.3335 - val_accuracy: 0.9377\n",
            "Epoch 46/50\n",
            "954/954 [==============================] - 5s 5ms/step - loss: 0.1429 - accuracy: 0.9543 - val_loss: 0.3267 - val_accuracy: 0.9387\n",
            "Epoch 47/50\n",
            "954/954 [==============================] - 4s 4ms/step - loss: 0.1399 - accuracy: 0.9563 - val_loss: 0.3550 - val_accuracy: 0.9361\n",
            "Epoch 48/50\n",
            "954/954 [==============================] - 4s 4ms/step - loss: 0.1495 - accuracy: 0.9508 - val_loss: 0.3407 - val_accuracy: 0.9403\n",
            "Epoch 49/50\n",
            "954/954 [==============================] - 5s 5ms/step - loss: 0.1446 - accuracy: 0.9540 - val_loss: 0.3451 - val_accuracy: 0.9400\n",
            "Epoch 50/50\n",
            "954/954 [==============================] - 4s 4ms/step - loss: 0.1430 - accuracy: 0.9543 - val_loss: 0.3327 - val_accuracy: 0.9435\n"
          ]
        },
        {
          "output_type": "execute_result",
          "data": {
            "text/plain": [
              "<keras.src.callbacks.History at 0x7d97b9207490>"
            ]
          },
          "metadata": {},
          "execution_count": 32
        }
      ]
    },
    {
      "cell_type": "code",
      "source": [
        "# Evaluate the model on the test data\n",
        "loss, accuracy = model_MLP.evaluate(X_test_final, y_test_final)\n",
        "print(\"Test Accuracy:\", accuracy)"
      ],
      "metadata": {
        "colab": {
          "base_uri": "https://localhost:8080/"
        },
        "id": "nMTo_npOFu92",
        "outputId": "8876a7dd-1a74-4149-8772-3dddd8c32d8d"
      },
      "execution_count": 33,
      "outputs": [
        {
          "output_type": "stream",
          "name": "stdout",
          "text": [
            "86/86 [==============================] - 0s 2ms/step - loss: 1.0282 - accuracy: 0.8505\n",
            "Test Accuracy: 0.8505454659461975\n"
          ]
        }
      ]
    },
    {
      "cell_type": "code",
      "source": [
        "\n",
        "# Identify the 'oos' class index\n",
        "oos_class_index = label_encoder.transform(['oos'])[0]\n",
        "\n",
        "# Predictions for out-of-scope data\n",
        "oos_predictions = model_MLP.predict(X_test_final[y_test_final[:, oos_class_index] == 1])\n",
        "oos_predictions_labels = np.argmax(oos_predictions, axis=-1)\n",
        "\n",
        "# True labels for out-of-scope data\n",
        "y_test_oos_true_labels = np.full(oos_predictions_labels.shape, oos_class_index)\n",
        "\n",
        "# Calculate recall for out-of-scope data\n",
        "oos_recall = recall_score(y_test_oos_true_labels, oos_predictions_labels, average='micro')\n",
        "print(\"Out-of-scope Recall:\", oos_recall)\n"
      ],
      "metadata": {
        "colab": {
          "base_uri": "https://localhost:8080/"
        },
        "id": "iuPJxOaSFzbq",
        "outputId": "d730ae38-f1ed-4389-abbd-f5947391644d"
      },
      "execution_count": 34,
      "outputs": [
        {
          "output_type": "stream",
          "name": "stdout",
          "text": [
            "16/16 [==============================] - 0s 2ms/step\n",
            "Out-of-scope Recall: 0.47\n"
          ]
        }
      ]
    },
    {
      "cell_type": "markdown",
      "source": [
        "conformal prediction"
      ],
      "metadata": {
        "id": "zT8gCbriF9a7"
      }
    },
    {
      "cell_type": "code",
      "source": [
        " #Convert the target values from one-hot encoding to label encoding\n",
        "\n",
        "y_train_labels = np.argmax(y_train, axis=1)\n",
        "y_cal_labels = np.argmax(y_cal, axis=1)\n",
        "\n",
        "from sklearn.neural_network import MLPClassifier\n",
        "# # Initialize and train the MLP classifier\n",
        "clf = MLPClassifier(random_state=42).fit(X_train, y_train_labels)\n",
        "\n",
        "y_pred_proba = clf.predict_proba(X_test_final)\n",
        "\n"
      ],
      "metadata": {
        "id": "biYVmcNZF9En"
      },
      "execution_count": 51,
      "outputs": []
    },
    {
      "cell_type": "code",
      "source": [
        "!pip install mapie"
      ],
      "metadata": {
        "id": "EfRbxzxkYKb1"
      },
      "execution_count": null,
      "outputs": []
    },
    {
      "cell_type": "code",
      "source": [
        "probabilities = clf.predict_proba(X_cal)\n",
        "assert np.allclose(probabilities.sum(axis=1), 1), \"Probabilities do not sum up to 1\"\n"
      ],
      "metadata": {
        "id": "sqVjWgEtp9uK"
      },
      "execution_count": 52,
      "outputs": []
    },
    {
      "cell_type": "code",
      "source": [
        "\n",
        "# Initialize MAPIE\n",
        "from mapie.classification import MapieClassifier\n",
        "mapie_score = MapieClassifier(estimator=clf, cv=\"prefit\", method=\"raps\")\n",
        "mapie_score.fit(X_cal, y_cal_labels)"
      ],
      "metadata": {
        "colab": {
          "base_uri": "https://localhost:8080/",
          "height": 118
        },
        "id": "9SMnhTnIO18V",
        "outputId": "23e7f003-49ac-4ce0-f6fd-d746ef174c58"
      },
      "execution_count": 57,
      "outputs": [
        {
          "output_type": "execute_result",
          "data": {
            "text/plain": [
              "MapieClassifier(cv='prefit', estimator=MLPClassifier(random_state=42),\n",
              "                method='raps')"
            ],
            "text/html": [
              "<style>#sk-container-id-8 {color: black;background-color: white;}#sk-container-id-8 pre{padding: 0;}#sk-container-id-8 div.sk-toggleable {background-color: white;}#sk-container-id-8 label.sk-toggleable__label {cursor: pointer;display: block;width: 100%;margin-bottom: 0;padding: 0.3em;box-sizing: border-box;text-align: center;}#sk-container-id-8 label.sk-toggleable__label-arrow:before {content: \"▸\";float: left;margin-right: 0.25em;color: #696969;}#sk-container-id-8 label.sk-toggleable__label-arrow:hover:before {color: black;}#sk-container-id-8 div.sk-estimator:hover label.sk-toggleable__label-arrow:before {color: black;}#sk-container-id-8 div.sk-toggleable__content {max-height: 0;max-width: 0;overflow: hidden;text-align: left;background-color: #f0f8ff;}#sk-container-id-8 div.sk-toggleable__content pre {margin: 0.2em;color: black;border-radius: 0.25em;background-color: #f0f8ff;}#sk-container-id-8 input.sk-toggleable__control:checked~div.sk-toggleable__content {max-height: 200px;max-width: 100%;overflow: auto;}#sk-container-id-8 input.sk-toggleable__control:checked~label.sk-toggleable__label-arrow:before {content: \"▾\";}#sk-container-id-8 div.sk-estimator input.sk-toggleable__control:checked~label.sk-toggleable__label {background-color: #d4ebff;}#sk-container-id-8 div.sk-label input.sk-toggleable__control:checked~label.sk-toggleable__label {background-color: #d4ebff;}#sk-container-id-8 input.sk-hidden--visually {border: 0;clip: rect(1px 1px 1px 1px);clip: rect(1px, 1px, 1px, 1px);height: 1px;margin: -1px;overflow: hidden;padding: 0;position: absolute;width: 1px;}#sk-container-id-8 div.sk-estimator {font-family: monospace;background-color: #f0f8ff;border: 1px dotted black;border-radius: 0.25em;box-sizing: border-box;margin-bottom: 0.5em;}#sk-container-id-8 div.sk-estimator:hover {background-color: #d4ebff;}#sk-container-id-8 div.sk-parallel-item::after {content: \"\";width: 100%;border-bottom: 1px solid gray;flex-grow: 1;}#sk-container-id-8 div.sk-label:hover label.sk-toggleable__label {background-color: #d4ebff;}#sk-container-id-8 div.sk-serial::before {content: \"\";position: absolute;border-left: 1px solid gray;box-sizing: border-box;top: 0;bottom: 0;left: 50%;z-index: 0;}#sk-container-id-8 div.sk-serial {display: flex;flex-direction: column;align-items: center;background-color: white;padding-right: 0.2em;padding-left: 0.2em;position: relative;}#sk-container-id-8 div.sk-item {position: relative;z-index: 1;}#sk-container-id-8 div.sk-parallel {display: flex;align-items: stretch;justify-content: center;background-color: white;position: relative;}#sk-container-id-8 div.sk-item::before, #sk-container-id-8 div.sk-parallel-item::before {content: \"\";position: absolute;border-left: 1px solid gray;box-sizing: border-box;top: 0;bottom: 0;left: 50%;z-index: -1;}#sk-container-id-8 div.sk-parallel-item {display: flex;flex-direction: column;z-index: 1;position: relative;background-color: white;}#sk-container-id-8 div.sk-parallel-item:first-child::after {align-self: flex-end;width: 50%;}#sk-container-id-8 div.sk-parallel-item:last-child::after {align-self: flex-start;width: 50%;}#sk-container-id-8 div.sk-parallel-item:only-child::after {width: 0;}#sk-container-id-8 div.sk-dashed-wrapped {border: 1px dashed gray;margin: 0 0.4em 0.5em 0.4em;box-sizing: border-box;padding-bottom: 0.4em;background-color: white;}#sk-container-id-8 div.sk-label label {font-family: monospace;font-weight: bold;display: inline-block;line-height: 1.2em;}#sk-container-id-8 div.sk-label-container {text-align: center;}#sk-container-id-8 div.sk-container {/* jupyter's `normalize.less` sets `[hidden] { display: none; }` but bootstrap.min.css set `[hidden] { display: none !important; }` so we also need the `!important` here to be able to override the default hidden behavior on the sphinx rendered scikit-learn.org. See: https://github.com/scikit-learn/scikit-learn/issues/21755 */display: inline-block !important;position: relative;}#sk-container-id-8 div.sk-text-repr-fallback {display: none;}</style><div id=\"sk-container-id-8\" class=\"sk-top-container\"><div class=\"sk-text-repr-fallback\"><pre>MapieClassifier(cv=&#x27;prefit&#x27;, estimator=MLPClassifier(random_state=42),\n",
              "                method=&#x27;raps&#x27;)</pre><b>In a Jupyter environment, please rerun this cell to show the HTML representation or trust the notebook. <br />On GitHub, the HTML representation is unable to render, please try loading this page with nbviewer.org.</b></div><div class=\"sk-container\" hidden><div class=\"sk-item sk-dashed-wrapped\"><div class=\"sk-label-container\"><div class=\"sk-label sk-toggleable\"><input class=\"sk-toggleable__control sk-hidden--visually\" id=\"sk-estimator-id-16\" type=\"checkbox\" ><label for=\"sk-estimator-id-16\" class=\"sk-toggleable__label sk-toggleable__label-arrow\">MapieClassifier</label><div class=\"sk-toggleable__content\"><pre>MapieClassifier(cv=&#x27;prefit&#x27;, estimator=MLPClassifier(random_state=42),\n",
              "                method=&#x27;raps&#x27;)</pre></div></div></div><div class=\"sk-parallel\"><div class=\"sk-parallel-item\"><div class=\"sk-item\"><div class=\"sk-label-container\"><div class=\"sk-label sk-toggleable\"><input class=\"sk-toggleable__control sk-hidden--visually\" id=\"sk-estimator-id-17\" type=\"checkbox\" ><label for=\"sk-estimator-id-17\" class=\"sk-toggleable__label sk-toggleable__label-arrow\">estimator: MLPClassifier</label><div class=\"sk-toggleable__content\"><pre>MLPClassifier(random_state=42)</pre></div></div></div><div class=\"sk-serial\"><div class=\"sk-item\"><div class=\"sk-estimator sk-toggleable\"><input class=\"sk-toggleable__control sk-hidden--visually\" id=\"sk-estimator-id-18\" type=\"checkbox\" ><label for=\"sk-estimator-id-18\" class=\"sk-toggleable__label sk-toggleable__label-arrow\">MLPClassifier</label><div class=\"sk-toggleable__content\"><pre>MLPClassifier(random_state=42)</pre></div></div></div></div></div></div></div></div></div></div>"
            ]
          },
          "metadata": {},
          "execution_count": 57
        }
      ]
    },
    {
      "cell_type": "code",
      "source": [
        "alpha = [0.05]\n",
        "y_pred_score, y_ps_score = mapie_score.predict(X_test_final, alpha=alpha)"
      ],
      "metadata": {
        "id": "ClDcfOX7Pt8v"
      },
      "execution_count": 58,
      "outputs": []
    },
    {
      "cell_type": "code",
      "source": [
        "\n",
        "results = pd.DataFrame(list(map(np.ravel, y_ps_score)))\n",
        "results['prediction'] = y_pred_score\n",
        "\n",
        "y_test_labels = np.argmax(y_test_final, axis=1)\n",
        "results['label'] = y_test_labels"
      ],
      "metadata": {
        "id": "_HFuu3bNPvLv"
      },
      "execution_count": 60,
      "outputs": []
    },
    {
      "cell_type": "code",
      "source": [
        "results"
      ],
      "metadata": {
        "colab": {
          "base_uri": "https://localhost:8080/",
          "height": 444
        },
        "id": "GzRuE2-8T0RS",
        "outputId": "a61a51e2-9cef-42c6-dcc6-56e34843bf41"
      },
      "execution_count": 61,
      "outputs": [
        {
          "output_type": "execute_result",
          "data": {
            "text/plain": [
              "          0      1      2      3      4      5      6      7      8      9  \\\n",
              "0     False   True  False  False  False  False  False  False  False  False   \n",
              "1     False  False  False  False  False  False  False  False  False  False   \n",
              "2     False  False  False  False  False  False  False  False  False  False   \n",
              "3     False  False  False  False  False  False  False  False  False  False   \n",
              "4     False  False  False  False  False  False  False  False  False  False   \n",
              "...     ...    ...    ...    ...    ...    ...    ...    ...    ...    ...   \n",
              "2745  False  False  False  False  False  False  False  False  False  False   \n",
              "2746  False  False  False  False  False  False  False  False  False   True   \n",
              "2747  False  False  False  False  False  False  False  False  False  False   \n",
              "2748  False  False  False  False  False  False  False  False  False  False   \n",
              "2749  False  False  False  False  False  False  False  False  False  False   \n",
              "\n",
              "      ...    143    144    145    146    147    148    149    150  prediction  \\\n",
              "0     ...  False  False  False  False  False  False  False  False          99   \n",
              "1     ...  False  False  False  False  False  False  False  False         141   \n",
              "2     ...  False  False  False  False  False  False  False  False          49   \n",
              "3     ...  False  False  False  False  False  False  False  False         112   \n",
              "4     ...  False  False  False  False  False  False  False  False         133   \n",
              "...   ...    ...    ...    ...    ...    ...    ...    ...    ...         ...   \n",
              "2745  ...  False  False  False  False  False  False  False  False         116   \n",
              "2746  ...  False  False  False  False  False  False  False  False           9   \n",
              "2747  ...  False  False  False  False  False  False  False  False         129   \n",
              "2748  ...  False  False  False  False  False  False  False  False         102   \n",
              "2749  ...  False  False  False  False  False  False  False  False          52   \n",
              "\n",
              "      label  \n",
              "0        99  \n",
              "1       141  \n",
              "2        49  \n",
              "3       112  \n",
              "4       133  \n",
              "...     ...  \n",
              "2745     80  \n",
              "2746      9  \n",
              "2747     80  \n",
              "2748    102  \n",
              "2749     52  \n",
              "\n",
              "[2750 rows x 153 columns]"
            ],
            "text/html": [
              "\n",
              "  <div id=\"df-f7b01fa0-f9ed-4096-b463-5c416f94c5c0\" class=\"colab-df-container\">\n",
              "    <div>\n",
              "<style scoped>\n",
              "    .dataframe tbody tr th:only-of-type {\n",
              "        vertical-align: middle;\n",
              "    }\n",
              "\n",
              "    .dataframe tbody tr th {\n",
              "        vertical-align: top;\n",
              "    }\n",
              "\n",
              "    .dataframe thead th {\n",
              "        text-align: right;\n",
              "    }\n",
              "</style>\n",
              "<table border=\"1\" class=\"dataframe\">\n",
              "  <thead>\n",
              "    <tr style=\"text-align: right;\">\n",
              "      <th></th>\n",
              "      <th>0</th>\n",
              "      <th>1</th>\n",
              "      <th>2</th>\n",
              "      <th>3</th>\n",
              "      <th>4</th>\n",
              "      <th>5</th>\n",
              "      <th>6</th>\n",
              "      <th>7</th>\n",
              "      <th>8</th>\n",
              "      <th>9</th>\n",
              "      <th>...</th>\n",
              "      <th>143</th>\n",
              "      <th>144</th>\n",
              "      <th>145</th>\n",
              "      <th>146</th>\n",
              "      <th>147</th>\n",
              "      <th>148</th>\n",
              "      <th>149</th>\n",
              "      <th>150</th>\n",
              "      <th>prediction</th>\n",
              "      <th>label</th>\n",
              "    </tr>\n",
              "  </thead>\n",
              "  <tbody>\n",
              "    <tr>\n",
              "      <th>0</th>\n",
              "      <td>False</td>\n",
              "      <td>True</td>\n",
              "      <td>False</td>\n",
              "      <td>False</td>\n",
              "      <td>False</td>\n",
              "      <td>False</td>\n",
              "      <td>False</td>\n",
              "      <td>False</td>\n",
              "      <td>False</td>\n",
              "      <td>False</td>\n",
              "      <td>...</td>\n",
              "      <td>False</td>\n",
              "      <td>False</td>\n",
              "      <td>False</td>\n",
              "      <td>False</td>\n",
              "      <td>False</td>\n",
              "      <td>False</td>\n",
              "      <td>False</td>\n",
              "      <td>False</td>\n",
              "      <td>99</td>\n",
              "      <td>99</td>\n",
              "    </tr>\n",
              "    <tr>\n",
              "      <th>1</th>\n",
              "      <td>False</td>\n",
              "      <td>False</td>\n",
              "      <td>False</td>\n",
              "      <td>False</td>\n",
              "      <td>False</td>\n",
              "      <td>False</td>\n",
              "      <td>False</td>\n",
              "      <td>False</td>\n",
              "      <td>False</td>\n",
              "      <td>False</td>\n",
              "      <td>...</td>\n",
              "      <td>False</td>\n",
              "      <td>False</td>\n",
              "      <td>False</td>\n",
              "      <td>False</td>\n",
              "      <td>False</td>\n",
              "      <td>False</td>\n",
              "      <td>False</td>\n",
              "      <td>False</td>\n",
              "      <td>141</td>\n",
              "      <td>141</td>\n",
              "    </tr>\n",
              "    <tr>\n",
              "      <th>2</th>\n",
              "      <td>False</td>\n",
              "      <td>False</td>\n",
              "      <td>False</td>\n",
              "      <td>False</td>\n",
              "      <td>False</td>\n",
              "      <td>False</td>\n",
              "      <td>False</td>\n",
              "      <td>False</td>\n",
              "      <td>False</td>\n",
              "      <td>False</td>\n",
              "      <td>...</td>\n",
              "      <td>False</td>\n",
              "      <td>False</td>\n",
              "      <td>False</td>\n",
              "      <td>False</td>\n",
              "      <td>False</td>\n",
              "      <td>False</td>\n",
              "      <td>False</td>\n",
              "      <td>False</td>\n",
              "      <td>49</td>\n",
              "      <td>49</td>\n",
              "    </tr>\n",
              "    <tr>\n",
              "      <th>3</th>\n",
              "      <td>False</td>\n",
              "      <td>False</td>\n",
              "      <td>False</td>\n",
              "      <td>False</td>\n",
              "      <td>False</td>\n",
              "      <td>False</td>\n",
              "      <td>False</td>\n",
              "      <td>False</td>\n",
              "      <td>False</td>\n",
              "      <td>False</td>\n",
              "      <td>...</td>\n",
              "      <td>False</td>\n",
              "      <td>False</td>\n",
              "      <td>False</td>\n",
              "      <td>False</td>\n",
              "      <td>False</td>\n",
              "      <td>False</td>\n",
              "      <td>False</td>\n",
              "      <td>False</td>\n",
              "      <td>112</td>\n",
              "      <td>112</td>\n",
              "    </tr>\n",
              "    <tr>\n",
              "      <th>4</th>\n",
              "      <td>False</td>\n",
              "      <td>False</td>\n",
              "      <td>False</td>\n",
              "      <td>False</td>\n",
              "      <td>False</td>\n",
              "      <td>False</td>\n",
              "      <td>False</td>\n",
              "      <td>False</td>\n",
              "      <td>False</td>\n",
              "      <td>False</td>\n",
              "      <td>...</td>\n",
              "      <td>False</td>\n",
              "      <td>False</td>\n",
              "      <td>False</td>\n",
              "      <td>False</td>\n",
              "      <td>False</td>\n",
              "      <td>False</td>\n",
              "      <td>False</td>\n",
              "      <td>False</td>\n",
              "      <td>133</td>\n",
              "      <td>133</td>\n",
              "    </tr>\n",
              "    <tr>\n",
              "      <th>...</th>\n",
              "      <td>...</td>\n",
              "      <td>...</td>\n",
              "      <td>...</td>\n",
              "      <td>...</td>\n",
              "      <td>...</td>\n",
              "      <td>...</td>\n",
              "      <td>...</td>\n",
              "      <td>...</td>\n",
              "      <td>...</td>\n",
              "      <td>...</td>\n",
              "      <td>...</td>\n",
              "      <td>...</td>\n",
              "      <td>...</td>\n",
              "      <td>...</td>\n",
              "      <td>...</td>\n",
              "      <td>...</td>\n",
              "      <td>...</td>\n",
              "      <td>...</td>\n",
              "      <td>...</td>\n",
              "      <td>...</td>\n",
              "      <td>...</td>\n",
              "    </tr>\n",
              "    <tr>\n",
              "      <th>2745</th>\n",
              "      <td>False</td>\n",
              "      <td>False</td>\n",
              "      <td>False</td>\n",
              "      <td>False</td>\n",
              "      <td>False</td>\n",
              "      <td>False</td>\n",
              "      <td>False</td>\n",
              "      <td>False</td>\n",
              "      <td>False</td>\n",
              "      <td>False</td>\n",
              "      <td>...</td>\n",
              "      <td>False</td>\n",
              "      <td>False</td>\n",
              "      <td>False</td>\n",
              "      <td>False</td>\n",
              "      <td>False</td>\n",
              "      <td>False</td>\n",
              "      <td>False</td>\n",
              "      <td>False</td>\n",
              "      <td>116</td>\n",
              "      <td>80</td>\n",
              "    </tr>\n",
              "    <tr>\n",
              "      <th>2746</th>\n",
              "      <td>False</td>\n",
              "      <td>False</td>\n",
              "      <td>False</td>\n",
              "      <td>False</td>\n",
              "      <td>False</td>\n",
              "      <td>False</td>\n",
              "      <td>False</td>\n",
              "      <td>False</td>\n",
              "      <td>False</td>\n",
              "      <td>True</td>\n",
              "      <td>...</td>\n",
              "      <td>False</td>\n",
              "      <td>False</td>\n",
              "      <td>False</td>\n",
              "      <td>False</td>\n",
              "      <td>False</td>\n",
              "      <td>False</td>\n",
              "      <td>False</td>\n",
              "      <td>False</td>\n",
              "      <td>9</td>\n",
              "      <td>9</td>\n",
              "    </tr>\n",
              "    <tr>\n",
              "      <th>2747</th>\n",
              "      <td>False</td>\n",
              "      <td>False</td>\n",
              "      <td>False</td>\n",
              "      <td>False</td>\n",
              "      <td>False</td>\n",
              "      <td>False</td>\n",
              "      <td>False</td>\n",
              "      <td>False</td>\n",
              "      <td>False</td>\n",
              "      <td>False</td>\n",
              "      <td>...</td>\n",
              "      <td>False</td>\n",
              "      <td>False</td>\n",
              "      <td>False</td>\n",
              "      <td>False</td>\n",
              "      <td>False</td>\n",
              "      <td>False</td>\n",
              "      <td>False</td>\n",
              "      <td>False</td>\n",
              "      <td>129</td>\n",
              "      <td>80</td>\n",
              "    </tr>\n",
              "    <tr>\n",
              "      <th>2748</th>\n",
              "      <td>False</td>\n",
              "      <td>False</td>\n",
              "      <td>False</td>\n",
              "      <td>False</td>\n",
              "      <td>False</td>\n",
              "      <td>False</td>\n",
              "      <td>False</td>\n",
              "      <td>False</td>\n",
              "      <td>False</td>\n",
              "      <td>False</td>\n",
              "      <td>...</td>\n",
              "      <td>False</td>\n",
              "      <td>False</td>\n",
              "      <td>False</td>\n",
              "      <td>False</td>\n",
              "      <td>False</td>\n",
              "      <td>False</td>\n",
              "      <td>False</td>\n",
              "      <td>False</td>\n",
              "      <td>102</td>\n",
              "      <td>102</td>\n",
              "    </tr>\n",
              "    <tr>\n",
              "      <th>2749</th>\n",
              "      <td>False</td>\n",
              "      <td>False</td>\n",
              "      <td>False</td>\n",
              "      <td>False</td>\n",
              "      <td>False</td>\n",
              "      <td>False</td>\n",
              "      <td>False</td>\n",
              "      <td>False</td>\n",
              "      <td>False</td>\n",
              "      <td>False</td>\n",
              "      <td>...</td>\n",
              "      <td>False</td>\n",
              "      <td>False</td>\n",
              "      <td>False</td>\n",
              "      <td>False</td>\n",
              "      <td>False</td>\n",
              "      <td>False</td>\n",
              "      <td>False</td>\n",
              "      <td>False</td>\n",
              "      <td>52</td>\n",
              "      <td>52</td>\n",
              "    </tr>\n",
              "  </tbody>\n",
              "</table>\n",
              "<p>2750 rows × 153 columns</p>\n",
              "</div>\n",
              "    <div class=\"colab-df-buttons\">\n",
              "\n",
              "  <div class=\"colab-df-container\">\n",
              "    <button class=\"colab-df-convert\" onclick=\"convertToInteractive('df-f7b01fa0-f9ed-4096-b463-5c416f94c5c0')\"\n",
              "            title=\"Convert this dataframe to an interactive table.\"\n",
              "            style=\"display:none;\">\n",
              "\n",
              "  <svg xmlns=\"http://www.w3.org/2000/svg\" height=\"24px\" viewBox=\"0 -960 960 960\">\n",
              "    <path d=\"M120-120v-720h720v720H120Zm60-500h600v-160H180v160Zm220 220h160v-160H400v160Zm0 220h160v-160H400v160ZM180-400h160v-160H180v160Zm440 0h160v-160H620v160ZM180-180h160v-160H180v160Zm440 0h160v-160H620v160Z\"/>\n",
              "  </svg>\n",
              "    </button>\n",
              "\n",
              "  <style>\n",
              "    .colab-df-container {\n",
              "      display:flex;\n",
              "      gap: 12px;\n",
              "    }\n",
              "\n",
              "    .colab-df-convert {\n",
              "      background-color: #E8F0FE;\n",
              "      border: none;\n",
              "      border-radius: 50%;\n",
              "      cursor: pointer;\n",
              "      display: none;\n",
              "      fill: #1967D2;\n",
              "      height: 32px;\n",
              "      padding: 0 0 0 0;\n",
              "      width: 32px;\n",
              "    }\n",
              "\n",
              "    .colab-df-convert:hover {\n",
              "      background-color: #E2EBFA;\n",
              "      box-shadow: 0px 1px 2px rgba(60, 64, 67, 0.3), 0px 1px 3px 1px rgba(60, 64, 67, 0.15);\n",
              "      fill: #174EA6;\n",
              "    }\n",
              "\n",
              "    .colab-df-buttons div {\n",
              "      margin-bottom: 4px;\n",
              "    }\n",
              "\n",
              "    [theme=dark] .colab-df-convert {\n",
              "      background-color: #3B4455;\n",
              "      fill: #D2E3FC;\n",
              "    }\n",
              "\n",
              "    [theme=dark] .colab-df-convert:hover {\n",
              "      background-color: #434B5C;\n",
              "      box-shadow: 0px 1px 3px 1px rgba(0, 0, 0, 0.15);\n",
              "      filter: drop-shadow(0px 1px 2px rgba(0, 0, 0, 0.3));\n",
              "      fill: #FFFFFF;\n",
              "    }\n",
              "  </style>\n",
              "\n",
              "    <script>\n",
              "      const buttonEl =\n",
              "        document.querySelector('#df-f7b01fa0-f9ed-4096-b463-5c416f94c5c0 button.colab-df-convert');\n",
              "      buttonEl.style.display =\n",
              "        google.colab.kernel.accessAllowed ? 'block' : 'none';\n",
              "\n",
              "      async function convertToInteractive(key) {\n",
              "        const element = document.querySelector('#df-f7b01fa0-f9ed-4096-b463-5c416f94c5c0');\n",
              "        const dataTable =\n",
              "          await google.colab.kernel.invokeFunction('convertToInteractive',\n",
              "                                                    [key], {});\n",
              "        if (!dataTable) return;\n",
              "\n",
              "        const docLinkHtml = 'Like what you see? Visit the ' +\n",
              "          '<a target=\"_blank\" href=https://colab.research.google.com/notebooks/data_table.ipynb>data table notebook</a>'\n",
              "          + ' to learn more about interactive tables.';\n",
              "        element.innerHTML = '';\n",
              "        dataTable['output_type'] = 'display_data';\n",
              "        await google.colab.output.renderOutput(dataTable, element);\n",
              "        const docLink = document.createElement('div');\n",
              "        docLink.innerHTML = docLinkHtml;\n",
              "        element.appendChild(docLink);\n",
              "      }\n",
              "    </script>\n",
              "  </div>\n",
              "\n",
              "\n",
              "<div id=\"df-c8118d8d-319e-4c19-90d2-4c959a276276\">\n",
              "  <button class=\"colab-df-quickchart\" onclick=\"quickchart('df-c8118d8d-319e-4c19-90d2-4c959a276276')\"\n",
              "            title=\"Suggest charts.\"\n",
              "            style=\"display:none;\">\n",
              "\n",
              "<svg xmlns=\"http://www.w3.org/2000/svg\" height=\"24px\"viewBox=\"0 0 24 24\"\n",
              "     width=\"24px\">\n",
              "    <g>\n",
              "        <path d=\"M19 3H5c-1.1 0-2 .9-2 2v14c0 1.1.9 2 2 2h14c1.1 0 2-.9 2-2V5c0-1.1-.9-2-2-2zM9 17H7v-7h2v7zm4 0h-2V7h2v10zm4 0h-2v-4h2v4z\"/>\n",
              "    </g>\n",
              "</svg>\n",
              "  </button>\n",
              "\n",
              "<style>\n",
              "  .colab-df-quickchart {\n",
              "      --bg-color: #E8F0FE;\n",
              "      --fill-color: #1967D2;\n",
              "      --hover-bg-color: #E2EBFA;\n",
              "      --hover-fill-color: #174EA6;\n",
              "      --disabled-fill-color: #AAA;\n",
              "      --disabled-bg-color: #DDD;\n",
              "  }\n",
              "\n",
              "  [theme=dark] .colab-df-quickchart {\n",
              "      --bg-color: #3B4455;\n",
              "      --fill-color: #D2E3FC;\n",
              "      --hover-bg-color: #434B5C;\n",
              "      --hover-fill-color: #FFFFFF;\n",
              "      --disabled-bg-color: #3B4455;\n",
              "      --disabled-fill-color: #666;\n",
              "  }\n",
              "\n",
              "  .colab-df-quickchart {\n",
              "    background-color: var(--bg-color);\n",
              "    border: none;\n",
              "    border-radius: 50%;\n",
              "    cursor: pointer;\n",
              "    display: none;\n",
              "    fill: var(--fill-color);\n",
              "    height: 32px;\n",
              "    padding: 0;\n",
              "    width: 32px;\n",
              "  }\n",
              "\n",
              "  .colab-df-quickchart:hover {\n",
              "    background-color: var(--hover-bg-color);\n",
              "    box-shadow: 0 1px 2px rgba(60, 64, 67, 0.3), 0 1px 3px 1px rgba(60, 64, 67, 0.15);\n",
              "    fill: var(--button-hover-fill-color);\n",
              "  }\n",
              "\n",
              "  .colab-df-quickchart-complete:disabled,\n",
              "  .colab-df-quickchart-complete:disabled:hover {\n",
              "    background-color: var(--disabled-bg-color);\n",
              "    fill: var(--disabled-fill-color);\n",
              "    box-shadow: none;\n",
              "  }\n",
              "\n",
              "  .colab-df-spinner {\n",
              "    border: 2px solid var(--fill-color);\n",
              "    border-color: transparent;\n",
              "    border-bottom-color: var(--fill-color);\n",
              "    animation:\n",
              "      spin 1s steps(1) infinite;\n",
              "  }\n",
              "\n",
              "  @keyframes spin {\n",
              "    0% {\n",
              "      border-color: transparent;\n",
              "      border-bottom-color: var(--fill-color);\n",
              "      border-left-color: var(--fill-color);\n",
              "    }\n",
              "    20% {\n",
              "      border-color: transparent;\n",
              "      border-left-color: var(--fill-color);\n",
              "      border-top-color: var(--fill-color);\n",
              "    }\n",
              "    30% {\n",
              "      border-color: transparent;\n",
              "      border-left-color: var(--fill-color);\n",
              "      border-top-color: var(--fill-color);\n",
              "      border-right-color: var(--fill-color);\n",
              "    }\n",
              "    40% {\n",
              "      border-color: transparent;\n",
              "      border-right-color: var(--fill-color);\n",
              "      border-top-color: var(--fill-color);\n",
              "    }\n",
              "    60% {\n",
              "      border-color: transparent;\n",
              "      border-right-color: var(--fill-color);\n",
              "    }\n",
              "    80% {\n",
              "      border-color: transparent;\n",
              "      border-right-color: var(--fill-color);\n",
              "      border-bottom-color: var(--fill-color);\n",
              "    }\n",
              "    90% {\n",
              "      border-color: transparent;\n",
              "      border-bottom-color: var(--fill-color);\n",
              "    }\n",
              "  }\n",
              "</style>\n",
              "\n",
              "  <script>\n",
              "    async function quickchart(key) {\n",
              "      const quickchartButtonEl =\n",
              "        document.querySelector('#' + key + ' button');\n",
              "      quickchartButtonEl.disabled = true;  // To prevent multiple clicks.\n",
              "      quickchartButtonEl.classList.add('colab-df-spinner');\n",
              "      try {\n",
              "        const charts = await google.colab.kernel.invokeFunction(\n",
              "            'suggestCharts', [key], {});\n",
              "      } catch (error) {\n",
              "        console.error('Error during call to suggestCharts:', error);\n",
              "      }\n",
              "      quickchartButtonEl.classList.remove('colab-df-spinner');\n",
              "      quickchartButtonEl.classList.add('colab-df-quickchart-complete');\n",
              "    }\n",
              "    (() => {\n",
              "      let quickchartButtonEl =\n",
              "        document.querySelector('#df-c8118d8d-319e-4c19-90d2-4c959a276276 button');\n",
              "      quickchartButtonEl.style.display =\n",
              "        google.colab.kernel.accessAllowed ? 'block' : 'none';\n",
              "    })();\n",
              "  </script>\n",
              "</div>\n",
              "    </div>\n",
              "  </div>\n"
            ]
          },
          "metadata": {},
          "execution_count": 61
        }
      ]
    },
    {
      "cell_type": "code",
      "source": [
        "def set_pandas_display_options() -> None:\n",
        "    \"\"\"Set pandas display options.\"\"\"\n",
        "    # Ref: https://stackoverflow.com/a/52432757/\n",
        "    display = pd.options.display\n",
        "\n",
        "    display.max_columns = 1000\n",
        "    display.max_rows = 1000\n",
        "    display.max_colwidth = 199\n",
        "    display.width = 1000\n",
        "    # display.precision = 2  # set as needed\n",
        "    # display.float_format = lambda x: '{:,.2f}'.format(x)  # set as needed\n",
        "set_pandas_display_options()"
      ],
      "metadata": {
        "id": "S1bub605QNfH"
      },
      "execution_count": 62,
      "outputs": []
    },
    {
      "cell_type": "code",
      "source": [
        "filtered_results = results.loc[results['prediction'] != results['label']]\n",
        "print(\"Shape of filtered_results:\", filtered_results.shape)"
      ],
      "metadata": {
        "colab": {
          "base_uri": "https://localhost:8080/"
        },
        "id": "rbkX3Nn4QQJo",
        "outputId": "9f7cb7b9-c2e4-43f6-9882-e2eba2e6e909"
      },
      "execution_count": 63,
      "outputs": [
        {
          "output_type": "stream",
          "name": "stdout",
          "text": [
            "Shape of filtered_results: (340, 153)\n"
          ]
        }
      ]
    },
    {
      "cell_type": "code",
      "source": [
        "import matplotlib.pyplot as plt\n",
        "import seaborn as sns\n",
        "import numpy as np\n",
        "\n",
        "# Calculate the true count\n",
        "results['true_count'] = results.iloc[:, :-2].apply(lambda row: sum(row == True), axis=1)\n",
        "\n",
        "# Plotting with different strategies\n",
        "fig, axes = plt.subplots(nrows=2, ncols=2, figsize=(14, 10))\n",
        "\n",
        "# Regular Histogram\n",
        "axes[0, 0].hist(results['true_count'], bins=30, edgecolor='black')\n",
        "axes[0, 0].set_title('Regular Histogram')\n",
        "axes[0, 0].set_xlabel('Count of True Values')\n",
        "axes[0, 0].set_ylabel('Frequency')\n",
        "\n",
        "# Log Scale\n",
        "axes[0, 1].hist(results['true_count'], bins=30, edgecolor='black', log=True)\n",
        "axes[0, 1].set_title('Histogram with Log Scale')\n",
        "axes[0, 1].set_xlabel('Count of True Values')\n",
        "axes[0, 1].set_ylabel('Log(Frequency)')\n",
        "\n",
        "# KDE Plot\n",
        "sns.kdeplot(results['true_count'], ax=axes[1, 0], fill=True)\n",
        "axes[1, 0].set_title('Kernel Density Estimate Plot')\n",
        "axes[1, 0].set_xlabel('Count of True Values')\n",
        "axes[1, 0].set_ylabel('Density')\n",
        "\n",
        "\n",
        "\n",
        "axes[1, 1].set_xlabel('Count of True Values')\n",
        "axes[1, 1].set_ylabel('Frequency')\n",
        "\n",
        "plt.tight_layout()\n",
        "plt.show()\n"
      ],
      "metadata": {
        "colab": {
          "base_uri": "https://localhost:8080/",
          "height": 741
        },
        "id": "XX5MWz7hUcVc",
        "outputId": "a67d3bc8-c513-4c0c-aa76-96fbaccd4419"
      },
      "execution_count": 68,
      "outputs": [
        {
          "output_type": "display_data",
          "data": {
            "text/plain": [
              "<Figure size 1400x1000 with 4 Axes>"
            ],
            "image/png": "[encoded data removed]"
          },
          "metadata": {}
        }
      ]
    },
    {
      "cell_type": "code",
      "source": [
        "# Assuming y_true is  one-hot encoded ground truth and y_pred is the softmax output of model\n",
        "cross_entropy_losses = -np.sum(y_true * np.log(y_pred + 1e-10), axis=1)  # Added a small value to avoid log(0)\n",
        "\n",
        "# Plot the distribution\n",
        "plt.hist(cross_entropy_losses, bins=50, edgecolor='black')\n",
        "plt.title('Distribution of Cross-Entropy Losses for Intent Classification')\n",
        "plt.xlabel('Cross-Entropy Loss')\n",
        "plt.ylabel('Frequency')\n",
        "plt.show()\n",
        "\n",
        "# Determine the threshold for categorizing difficulty\n",
        "median_loss = np.median(cross_entropy_losses)\n",
        "print(f\"Median Cross-Entropy Loss: {median_loss}\")\n",
        "\n",
        "# Categorize samples based on the threshold\n",
        "easy_samples = np.where(cross_entropy_losses <= median_loss)\n",
        "hard_samples = np.where(cross_entropy_losses > median_loss)\n"
      ],
      "metadata": {
        "id": "iUzzaK53jmpG"
      },
      "execution_count": null,
      "outputs": []
    }
  ]
}