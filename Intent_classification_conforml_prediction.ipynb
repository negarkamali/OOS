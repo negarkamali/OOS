{
  "nbformat": 4,
  "nbformat_minor": 0,
  "metadata": {
    "colab": {
      "provenance": [],
      "toc_visible": true,
      "authorship_tag": "ABX9TyMQHaLpD9cxOpo3Iu8WVPJy",
      "include_colab_link": true
    },
    "kernelspec": {
      "name": "python3",
      "display_name": "Python 3"
    },
    "language_info": {
      "name": "python"
    }
  },
  "cells": [
    {
      "cell_type": "markdown",
      "metadata": {
        "id": "view-in-github",
        "colab_type": "text"
      },
      "source": [
        "<a href=\"https://colab.research.google.com/github/negarkamali/OOS/blob/main/Intent_classification_conforml_prediction.ipynb\" target=\"_parent\"><img src=\"https://colab.research.google.com/assets/colab-badge.svg\" alt=\"Open In Colab\"/></a>"
      ]
    },
    {
      "cell_type": "code",
      "execution_count": 1,
      "metadata": {
        "colab": {
          "base_uri": "https://localhost:8080/"
        },
        "id": "jX79rn5Vt4h6",
        "outputId": "59f632db-2583-4870-e493-64d2b646c7ee"
      },
      "outputs": [
        {
          "output_type": "stream",
          "name": "stdout",
          "text": [
            "File downloaded successfully!\n"
          ]
        }
      ],
      "source": [
        "import requests\n",
        "import json\n",
        "import re  # Import the regular expression module\n",
        "import pandas as pd\n",
        "\n",
        "url = \"https://raw.githubusercontent.com/clinc/oos-eval/master/data/data_oos_plus.json\"\n",
        "response = requests.get(url)\n",
        "\n",
        "if response.status_code == 200:\n",
        "    # Save the file content to a file in the current working directory\n",
        "    with open(\"data_oos_plus.json\", \"w\") as file:\n",
        "        file.write(response.text)\n",
        "    print(\"File downloaded successfully!\")\n",
        "else:\n",
        "    print(\"Failed to download the file. Status code:\", response.status_code)\n",
        "\n",
        "\n"
      ]
    },
    {
      "cell_type": "code",
      "source": [
        "import json\n",
        "import re\n",
        "import requests\n",
        "\n",
        "url = \"https://raw.githubusercontent.com/clinc/oos-eval/master/data/data_oos_plus.json\"\n",
        "response = requests.get(url)\n",
        "\n",
        "if response.status_code == 200:\n",
        "    # Convert the file content to JSON\n",
        "    data = json.loads(response.text)\n",
        "\n",
        "    # Define a function to clean text\n",
        "    def clean_text(text):\n",
        "        text = text.lower()  # Convert to lowercase\n",
        "        text = re.sub(r'[^a-z0-9\\s]', '', text)  # Remove non-alphanumeric characters\n",
        "        tokens = text.split()  # Simple tokenization (splitting by spaces)\n",
        "        return ' '.join(tokens)\n",
        "\n",
        "    # Clean the data\n",
        "    cleaned_data = {}\n",
        "    for key, value in data.items():\n",
        "        cleaned_data[key] = [(clean_text(item[0]), item[1]) for item in value]\n",
        "\n",
        "    # Save the cleaned data to a JSON file\n",
        "    with open('cleaned_data.json', 'w') as f:\n",
        "        json.dump(cleaned_data, f, indent=4)\n",
        "\n",
        "    print(\"Data cleaned and saved to 'cleaned_data.json'\")\n",
        "else:\n",
        "    print(\"Failed to download the file. Status code:\", response.status_code)\n"
      ],
      "metadata": {
        "colab": {
          "base_uri": "https://localhost:8080/"
        },
        "id": "1rDBlruXxMeA",
        "outputId": "d1ada204-ce2e-4504-9bb0-25509bcd86d5"
      },
      "execution_count": 2,
      "outputs": [
        {
          "output_type": "stream",
          "name": "stdout",
          "text": [
            "Data cleaned and saved to 'cleaned_data.json'\n"
          ]
        }
      ]
    },
    {
      "cell_type": "code",
      "source": [
        "import json\n",
        "import nltk\n",
        "from nltk.tokenize import word_tokenize\n",
        "\n",
        "# Ensure that you have the punkt tokenizer models downloaded\n",
        "nltk.download('punkt')\n",
        "\n",
        "import json\n",
        "from nltk.tokenize import word_tokenize\n",
        "\n",
        "def tokenize_sentence(sentence):\n",
        "    return word_tokenize(sentence)\n",
        "\n",
        "def tokenize_data(input_path, output_path=None):\n",
        "    # Load the data\n",
        "    with open(input_path, 'r') as f:\n",
        "        data = json.load(f)\n",
        "\n",
        "    # Tokenize the data\n",
        "    tokenized_data = {}\n",
        "    for key, values in data.items():\n",
        "        tokenized_data[key] = [[tokenize_sentence(sentence), label] for sentence, label in values]\n",
        "\n",
        "    # Save the tokenized data (optional)\n",
        "    if output_path:\n",
        "        with open(output_path, 'w') as f:\n",
        "            json.dump(tokenized_data, f, indent=4)\n",
        "\n",
        "    return tokenized_data\n",
        "\n",
        "# Input and output file paths\n",
        "input_path = 'cleaned_data.json'\n",
        "output_path = 'tokenized_data.json'\n",
        "\n",
        "# Tokenize and save the data\n",
        "tokenized_data = tokenize_data(input_path, output_path)\n"
      ],
      "metadata": {
        "colab": {
          "base_uri": "https://localhost:8080/"
        },
        "id": "c-zzWJ_dAW4D",
        "outputId": "693ce529-ccdb-4d61-fd47-0f38725d1d25"
      },
      "execution_count": 3,
      "outputs": [
        {
          "output_type": "stream",
          "name": "stderr",
          "text": [
            "[nltk_data] Downloading package punkt to /root/nltk_data...\n",
            "[nltk_data]   Unzipping tokenizers/punkt.zip.\n"
          ]
        }
      ]
    },
    {
      "cell_type": "code",
      "source": [
        "import json\n",
        "import tensorflow_hub as hub\n",
        "import numpy as np\n",
        "import os\n",
        "\n",
        "# Load Universal Sentence Encoder\n",
        "embed = hub.load(\"https://tfhub.dev/google/universal-sentence-encoder/4\")\n",
        "\n",
        "def embed_sentences(sentences):\n",
        "    return embed(sentences)\n",
        "\n",
        "def load_data(file_path):\n",
        "    with open(file_path, 'r') as f:\n",
        "        data = json.load(f)\n",
        "    return data\n",
        "\n",
        "def preprocess_and_save(data, output_file):\n",
        "    for key in data:\n",
        "        sentences = [item[0] for item in data[key]]\n",
        "        embeddings = embed_sentences(sentences)\n",
        "        for i, item in enumerate(data[key]):\n",
        "            item[0] = embeddings[i].numpy().tolist()  # Convert embedding to list\n",
        "    with open(output_file, 'w') as f:\n",
        "        json.dump(data, f)\n",
        "\n",
        "if __name__ == \"__main__\":\n",
        "    input_file = 'cleaned_data.json'\n",
        "    output_file = 'data_oos_plus_embedded.json'\n",
        "    data = load_data(input_file)\n",
        "    preprocess_and_save(data, output_file)"
      ],
      "metadata": {
        "id": "K1T9FYK6CCEc"
      },
      "execution_count": 4,
      "outputs": []
    },
    {
      "cell_type": "code",
      "source": [
        "import json\n",
        "import numpy as np\n",
        "import os\n",
        "from sklearn.preprocessing import LabelEncoder\n",
        "from tensorflow.keras.utils import to_categorical\n",
        "\n",
        "\n",
        "# Define file path\n",
        "file_path = 'data_oos_plus_embedded.json'\n",
        "\n",
        "# Load data from JSON file\n",
        "with open(file_path, 'r') as f:\n",
        "    data = json.load(f)\n",
        "\n",
        "# Separate features (X) and labels (y) for in-scope and out-of-scope data\n",
        "X_train_is, y_train_is = zip(*[(embedding, label) for embedding, label in data[\"train\"]])\n",
        "X_val_is, y_val_is = zip(*[(embedding, label) for embedding, label in data[\"val\"]])\n",
        "X_test_is, y_test_is = zip(*[(embedding, label) for embedding, label in data[\"test\"]])\n",
        "\n",
        "X_train_oos, y_train_oos = zip(*[(embedding, 'oos') for embedding, label in data[\"oos_train\"]])\n",
        "X_val_oos, y_val_oos = zip(*[(embedding, 'oos') for embedding, label in data[\"oos_val\"]])\n",
        "X_test_oos, y_test_oos = zip(*[(embedding, 'oos') for embedding, label in data[\"oos_test\"]])\n",
        "\n",
        "# Convert lists to numpy arrays\n",
        "X_train_is = np.array(X_train_is)\n",
        "X_val_is = np.array(X_val_is)\n",
        "X_test_is = np.array(X_test_is)\n",
        "\n",
        "X_train_oos = np.array(X_train_oos)\n",
        "X_val_oos = np.array(X_val_oos)\n",
        "X_test_oos = np.array(X_test_oos)\n",
        "\n",
        "print(\"X_train_is shape:\", (X_train_is).shape)\n",
        "print(\"X_train_oos shape:\", (X_train_oos).shape)\n",
        "# Combine in-scope and out-of-scope data\n",
        "X_train_combined = np.vstack([X_train_is, X_train_oos])\n",
        "X_val_combined = np.vstack([X_val_is, X_val_oos])\n",
        "X_test_combined = np.vstack([X_test_is, X_test_oos])\n",
        "\n",
        "print(\"X_train_combined shape:\", (X_train_combined).shape)\n",
        "y_train_combined = y_train_is + y_train_oos\n",
        "y_val_combined = y_val_is + y_val_oos\n",
        "y_test_combined = y_test_is + y_test_oos\n",
        "print(\"y_test_combined:\", (y_test_combined))\n",
        "\n",
        "# Convert labels to integers using LabelEncoder, fitting on the combined label set\n",
        "# label_encoder = LabelEncoder()\n",
        "# y_train_combined = label_encoder.fit_transform(y_train_combined)\n",
        "# y_val_combined = label_encoder.transform(y_val_combined)\n",
        "# y_test_combined = label_encoder.transform(y_test_combined)\n",
        "\n",
        "# # Convert integer labels to one-hot encoding\n",
        "# y_train_combined = to_categorical(y_train_combined)\n",
        "# y_val_combined = to_categorical(y_val_combined)\n",
        "# y_test_combined = to_categorical(y_test_combined)\n",
        "\n",
        "\n",
        "\n"
      ],
      "metadata": {
        "colab": {
          "base_uri": "https://localhost:8080/"
        },
        "id": "8kOju9mq29W4",
        "outputId": "3afa94bb-0397-40d4-bb29-5301634e183e"
      },
      "execution_count": 8,
      "outputs": [
        {
          "output_type": "stream",
          "name": "stdout",
          "text": [
            "X_train_is shape: (15000, 512)\n",
            "X_train_oos shape: (250, 512)\n",
            "X_train_combined shape: (15250, 512)\n",
            "y_test_combined: ('translate', 'translate', 'translate', 'translate', 'translate', 'translate', 'translate', 'translate', 'translate', 'translate', 'translate', 'translate', 'translate', 'translate', 'translate', 'translate', 'translate', 'translate', 'translate', 'translate', 'translate', 'translate', 'translate', 'translate', 'translate', 'translate', 'translate', 'translate', 'translate', 'translate', 'transfer', 'transfer', 'transfer', 'transfer', 'transfer', 'transfer', 'transfer', 'transfer', 'transfer', 'transfer', 'transfer', 'transfer', 'transfer', 'transfer', 'transfer', 'transfer', 'transfer', 'transfer', 'transfer', 'transfer', 'transfer', 'transfer', 'transfer', 'transfer', 'transfer', 'transfer', 'transfer', 'transfer', 'transfer', 'transfer', 'timer', 'timer', 'timer', 'timer', 'timer', 'timer', 'timer', 'timer', 'timer', 'timer', 'timer', 'timer', 'timer', 'timer', 'timer', 'timer', 'timer', 'timer', 'timer', 'timer', 'timer', 'timer', 'timer', 'timer', 'timer', 'timer', 'timer', 'timer', 'timer', 'timer', 'definition', 'definition', 'definition', 'definition', 'definition', 'definition', 'definition', 'definition', 'definition', 'definition', 'definition', 'definition', 'definition', 'definition', 'definition', 'definition', 'definition', 'definition', 'definition', 'definition', 'definition', 'definition', 'definition', 'definition', 'definition', 'definition', 'definition', 'definition', 'definition', 'definition', 'meaning_of_life', 'meaning_of_life', 'meaning_of_life', 'meaning_of_life', 'meaning_of_life', 'meaning_of_life', 'meaning_of_life', 'meaning_of_life', 'meaning_of_life', 'meaning_of_life', 'meaning_of_life', 'meaning_of_life', 'meaning_of_life', 'meaning_of_life', 'meaning_of_life', 'meaning_of_life', 'meaning_of_life', 'meaning_of_life', 'meaning_of_life', 'meaning_of_life', 'meaning_of_life', 'meaning_of_life', 'meaning_of_life', 'meaning_of_life', 'meaning_of_life', 'meaning_of_life', 'meaning_of_life', 'meaning_of_life', 'meaning_of_life', 'meaning_of_life', 'insurance_change', 'insurance_change', 'insurance_change', 'insurance_change', 'insurance_change', 'insurance_change', 'insurance_change', 'insurance_change', 'insurance_change', 'insurance_change', 'insurance_change', 'insurance_change', 'insurance_change', 'insurance_change', 'insurance_change', 'insurance_change', 'insurance_change', 'insurance_change', 'insurance_change', 'insurance_change', 'insurance_change', 'insurance_change', 'insurance_change', 'insurance_change', 'insurance_change', 'insurance_change', 'insurance_change', 'insurance_change', 'insurance_change', 'insurance_change', 'find_phone', 'find_phone', 'find_phone', 'find_phone', 'find_phone', 'find_phone', 'find_phone', 'find_phone', 'find_phone', 'find_phone', 'find_phone', 'find_phone', 'find_phone', 'find_phone', 'find_phone', 'find_phone', 'find_phone', 'find_phone', 'find_phone', 'find_phone', 'find_phone', 'find_phone', 'find_phone', 'find_phone', 'find_phone', 'find_phone', 'find_phone', 'find_phone', 'find_phone', 'find_phone', 'travel_alert', 'travel_alert', 'travel_alert', 'travel_alert', 'travel_alert', 'travel_alert', 'travel_alert', 'travel_alert', 'travel_alert', 'travel_alert', 'travel_alert', 'travel_alert', 'travel_alert', 'travel_alert', 'travel_alert', 'travel_alert', 'travel_alert', 'travel_alert', 'travel_alert', 'travel_alert', 'travel_alert', 'travel_alert', 'travel_alert', 'travel_alert', 'travel_alert', 'travel_alert', 'travel_alert', 'travel_alert', 'travel_alert', 'travel_alert', 'pto_request', 'pto_request', 'pto_request', 'pto_request', 'pto_request', 'pto_request', 'pto_request', 'pto_request', 'pto_request', 'pto_request', 'pto_request', 'pto_request', 'pto_request', 'pto_request', 'pto_request', 'pto_request', 'pto_request', 'pto_request', 'pto_request', 'pto_request', 'pto_request', 'pto_request', 'pto_request', 'pto_request', 'pto_request', 'pto_request', 'pto_request', 'pto_request', 'pto_request', 'pto_request', 'improve_credit_score', 'improve_credit_score', 'improve_credit_score', 'improve_credit_score', 'improve_credit_score', 'improve_credit_score', 'improve_credit_score', 'improve_credit_score', 'improve_credit_score', 'improve_credit_score', 'improve_credit_score', 'improve_credit_score', 'improve_credit_score', 'improve_credit_score', 'improve_credit_score', 'improve_credit_score', 'improve_credit_score', 'improve_credit_score', 'improve_credit_score', 'improve_credit_score', 'improve_credit_score', 'improve_credit_score', 'improve_credit_score', 'improve_credit_score', 'improve_credit_score', 'improve_credit_score', 'improve_credit_score', 'improve_credit_score', 'improve_credit_score', 'improve_credit_score', 'fun_fact', 'fun_fact', 'fun_fact', 'fun_fact', 'fun_fact', 'fun_fact', 'fun_fact', 'fun_fact', 'fun_fact', 'fun_fact', 'fun_fact', 'fun_fact', 'fun_fact', 'fun_fact', 'fun_fact', 'fun_fact', 'fun_fact', 'fun_fact', 'fun_fact', 'fun_fact', 'fun_fact', 'fun_fact', 'fun_fact', 'fun_fact', 'fun_fact', 'fun_fact', 'fun_fact', 'fun_fact', 'fun_fact', 'fun_fact', 'change_language', 'change_language', 'change_language', 'change_language', 'change_language', 'change_language', 'change_language', 'change_language', 'change_language', 'change_language', 'change_language', 'change_language', 'change_language', 'change_language', 'change_language', 'change_language', 'change_language', 'change_language', 'change_language', 'change_language', 'change_language', 'change_language', 'change_language', 'change_language', 'change_language', 'change_language', 'change_language', 'change_language', 'change_language', 'change_language', 'payday', 'payday', 'payday', 'payday', 'payday', 'payday', 'payday', 'payday', 'payday', 'payday', 'payday', 'payday', 'payday', 'payday', 'payday', 'payday', 'payday', 'payday', 'payday', 'payday', 'payday', 'payday', 'payday', 'payday', 'payday', 'payday', 'payday', 'payday', 'payday', 'payday', 'replacement_card_duration', 'replacement_card_duration', 'replacement_card_duration', 'replacement_card_duration', 'replacement_card_duration', 'replacement_card_duration', 'replacement_card_duration', 'replacement_card_duration', 'replacement_card_duration', 'replacement_card_duration', 'replacement_card_duration', 'replacement_card_duration', 'replacement_card_duration', 'replacement_card_duration', 'replacement_card_duration', 'replacement_card_duration', 'replacement_card_duration', 'replacement_card_duration', 'replacement_card_duration', 'replacement_card_duration', 'replacement_card_duration', 'replacement_card_duration', 'replacement_card_duration', 'replacement_card_duration', 'replacement_card_duration', 'replacement_card_duration', 'replacement_card_duration', 'replacement_card_duration', 'replacement_card_duration', 'replacement_card_duration', 'time', 'time', 'time', 'time', 'time', 'time', 'time', 'time', 'time', 'time', 'time', 'time', 'time', 'time', 'time', 'time', 'time', 'time', 'time', 'time', 'time', 'time', 'time', 'time', 'time', 'time', 'time', 'time', 'time', 'time', 'application_status', 'application_status', 'application_status', 'application_status', 'application_status', 'application_status', 'application_status', 'application_status', 'application_status', 'application_status', 'application_status', 'application_status', 'application_status', 'application_status', 'application_status', 'application_status', 'application_status', 'application_status', 'application_status', 'application_status', 'application_status', 'application_status', 'application_status', 'application_status', 'application_status', 'application_status', 'application_status', 'application_status', 'application_status', 'application_status', 'flight_status', 'flight_status', 'flight_status', 'flight_status', 'flight_status', 'flight_status', 'flight_status', 'flight_status', 'flight_status', 'flight_status', 'flight_status', 'flight_status', 'flight_status', 'flight_status', 'flight_status', 'flight_status', 'flight_status', 'flight_status', 'flight_status', 'flight_status', 'flight_status', 'flight_status', 'flight_status', 'flight_status', 'flight_status', 'flight_status', 'flight_status', 'flight_status', 'flight_status', 'flight_status', 'flip_coin', 'flip_coin', 'flip_coin', 'flip_coin', 'flip_coin', 'flip_coin', 'flip_coin', 'flip_coin', 'flip_coin', 'flip_coin', 'flip_coin', 'flip_coin', 'flip_coin', 'flip_coin', 'flip_coin', 'flip_coin', 'flip_coin', 'flip_coin', 'flip_coin', 'flip_coin', 'flip_coin', 'flip_coin', 'flip_coin', 'flip_coin', 'flip_coin', 'flip_coin', 'flip_coin', 'flip_coin', 'flip_coin', 'flip_coin', 'change_user_name', 'change_user_name', 'change_user_name', 'change_user_name', 'change_user_name', 'change_user_name', 'change_user_name', 'change_user_name', 'change_user_name', 'change_user_name', 'change_user_name', 'change_user_name', 'change_user_name', 'change_user_name', 'change_user_name', 'change_user_name', 'change_user_name', 'change_user_name', 'change_user_name', 'change_user_name', 'change_user_name', 'change_user_name', 'change_user_name', 'change_user_name', 'change_user_name', 'change_user_name', 'change_user_name', 'change_user_name', 'change_user_name', 'change_user_name', 'where_are_you_from', 'where_are_you_from', 'where_are_you_from', 'where_are_you_from', 'where_are_you_from', 'where_are_you_from', 'where_are_you_from', 'where_are_you_from', 'where_are_you_from', 'where_are_you_from', 'where_are_you_from', 'where_are_you_from', 'where_are_you_from', 'where_are_you_from', 'where_are_you_from', 'where_are_you_from', 'where_are_you_from', 'where_are_you_from', 'where_are_you_from', 'where_are_you_from', 'where_are_you_from', 'where_are_you_from', 'where_are_you_from', 'where_are_you_from', 'where_are_you_from', 'where_are_you_from', 'where_are_you_from', 'where_are_you_from', 'where_are_you_from', 'where_are_you_from', 'shopping_list_update', 'shopping_list_update', 'shopping_list_update', 'shopping_list_update', 'shopping_list_update', 'shopping_list_update', 'shopping_list_update', 'shopping_list_update', 'shopping_list_update', 'shopping_list_update', 'shopping_list_update', 'shopping_list_update', 'shopping_list_update', 'shopping_list_update', 'shopping_list_update', 'shopping_list_update', 'shopping_list_update', 'shopping_list_update', 'shopping_list_update', 'shopping_list_update', 'shopping_list_update', 'shopping_list_update', 'shopping_list_update', 'shopping_list_update', 'shopping_list_update', 'shopping_list_update', 'shopping_list_update', 'shopping_list_update', 'shopping_list_update', 'shopping_list_update', 'what_can_i_ask_you', 'what_can_i_ask_you', 'what_can_i_ask_you', 'what_can_i_ask_you', 'what_can_i_ask_you', 'what_can_i_ask_you', 'what_can_i_ask_you', 'what_can_i_ask_you', 'what_can_i_ask_you', 'what_can_i_ask_you', 'what_can_i_ask_you', 'what_can_i_ask_you', 'what_can_i_ask_you', 'what_can_i_ask_you', 'what_can_i_ask_you', 'what_can_i_ask_you', 'what_can_i_ask_you', 'what_can_i_ask_you', 'what_can_i_ask_you', 'what_can_i_ask_you', 'what_can_i_ask_you', 'what_can_i_ask_you', 'what_can_i_ask_you', 'what_can_i_ask_you', 'what_can_i_ask_you', 'what_can_i_ask_you', 'what_can_i_ask_you', 'what_can_i_ask_you', 'what_can_i_ask_you', 'what_can_i_ask_you', 'maybe', 'maybe', 'maybe', 'maybe', 'maybe', 'maybe', 'maybe', 'maybe', 'maybe', 'maybe', 'maybe', 'maybe', 'maybe', 'maybe', 'maybe', 'maybe', 'maybe', 'maybe', 'maybe', 'maybe', 'maybe', 'maybe', 'maybe', 'maybe', 'maybe', 'maybe', 'maybe', 'maybe', 'maybe', 'maybe', 'oil_change_how', 'oil_change_how', 'oil_change_how', 'oil_change_how', 'oil_change_how', 'oil_change_how', 'oil_change_how', 'oil_change_how', 'oil_change_how', 'oil_change_how', 'oil_change_how', 'oil_change_how', 'oil_change_how', 'oil_change_how', 'oil_change_how', 'oil_change_how', 'oil_change_how', 'oil_change_how', 'oil_change_how', 'oil_change_how', 'oil_change_how', 'oil_change_how', 'oil_change_how', 'oil_change_how', 'oil_change_how', 'oil_change_how', 'oil_change_how', 'oil_change_how', 'oil_change_how', 'oil_change_how', 'restaurant_reservation', 'restaurant_reservation', 'restaurant_reservation', 'restaurant_reservation', 'restaurant_reservation', 'restaurant_reservation', 'restaurant_reservation', 'restaurant_reservation', 'restaurant_reservation', 'restaurant_reservation', 'restaurant_reservation', 'restaurant_reservation', 'restaurant_reservation', 'restaurant_reservation', 'restaurant_reservation', 'restaurant_reservation', 'restaurant_reservation', 'restaurant_reservation', 'restaurant_reservation', 'restaurant_reservation', 'restaurant_reservation', 'restaurant_reservation', 'restaurant_reservation', 'restaurant_reservation', 'restaurant_reservation', 'restaurant_reservation', 'restaurant_reservation', 'restaurant_reservation', 'restaurant_reservation', 'restaurant_reservation', 'balance', 'balance', 'balance', 'balance', 'balance', 'balance', 'balance', 'balance', 'balance', 'balance', 'balance', 'balance', 'balance', 'balance', 'balance', 'balance', 'balance', 'balance', 'balance', 'balance', 'balance', 'balance', 'balance', 'balance', 'balance', 'balance', 'balance', 'balance', 'balance', 'balance', 'confirm_reservation', 'confirm_reservation', 'confirm_reservation', 'confirm_reservation', 'confirm_reservation', 'confirm_reservation', 'confirm_reservation', 'confirm_reservation', 'confirm_reservation', 'confirm_reservation', 'confirm_reservation', 'confirm_reservation', 'confirm_reservation', 'confirm_reservation', 'confirm_reservation', 'confirm_reservation', 'confirm_reservation', 'confirm_reservation', 'confirm_reservation', 'confirm_reservation', 'confirm_reservation', 'confirm_reservation', 'confirm_reservation', 'confirm_reservation', 'confirm_reservation', 'confirm_reservation', 'confirm_reservation', 'confirm_reservation', 'confirm_reservation', 'confirm_reservation', 'freeze_account', 'freeze_account', 'freeze_account', 'freeze_account', 'freeze_account', 'freeze_account', 'freeze_account', 'freeze_account', 'freeze_account', 'freeze_account', 'freeze_account', 'freeze_account', 'freeze_account', 'freeze_account', 'freeze_account', 'freeze_account', 'freeze_account', 'freeze_account', 'freeze_account', 'freeze_account', 'freeze_account', 'freeze_account', 'freeze_account', 'freeze_account', 'freeze_account', 'freeze_account', 'freeze_account', 'freeze_account', 'freeze_account', 'freeze_account', 'rollover_401k', 'rollover_401k', 'rollover_401k', 'rollover_401k', 'rollover_401k', 'rollover_401k', 'rollover_401k', 'rollover_401k', 'rollover_401k', 'rollover_401k', 'rollover_401k', 'rollover_401k', 'rollover_401k', 'rollover_401k', 'rollover_401k', 'rollover_401k', 'rollover_401k', 'rollover_401k', 'rollover_401k', 'rollover_401k', 'rollover_401k', 'rollover_401k', 'rollover_401k', 'rollover_401k', 'rollover_401k', 'rollover_401k', 'rollover_401k', 'rollover_401k', 'rollover_401k', 'rollover_401k', 'who_made_you', 'who_made_you', 'who_made_you', 'who_made_you', 'who_made_you', 'who_made_you', 'who_made_you', 'who_made_you', 'who_made_you', 'who_made_you', 'who_made_you', 'who_made_you', 'who_made_you', 'who_made_you', 'who_made_you', 'who_made_you', 'who_made_you', 'who_made_you', 'who_made_you', 'who_made_you', 'who_made_you', 'who_made_you', 'who_made_you', 'who_made_you', 'who_made_you', 'who_made_you', 'who_made_you', 'who_made_you', 'who_made_you', 'who_made_you', 'distance', 'distance', 'distance', 'distance', 'distance', 'distance', 'distance', 'distance', 'distance', 'distance', 'distance', 'distance', 'distance', 'distance', 'distance', 'distance', 'distance', 'distance', 'distance', 'distance', 'distance', 'distance', 'distance', 'distance', 'distance', 'distance', 'distance', 'distance', 'distance', 'distance', 'user_name', 'user_name', 'user_name', 'user_name', 'user_name', 'user_name', 'user_name', 'user_name', 'user_name', 'user_name', 'user_name', 'user_name', 'user_name', 'user_name', 'user_name', 'user_name', 'user_name', 'user_name', 'user_name', 'user_name', 'user_name', 'user_name', 'user_name', 'user_name', 'user_name', 'user_name', 'user_name', 'user_name', 'user_name', 'user_name', 'timezone', 'timezone', 'timezone', 'timezone', 'timezone', 'timezone', 'timezone', 'timezone', 'timezone', 'timezone', 'timezone', 'timezone', 'timezone', 'timezone', 'timezone', 'timezone', 'timezone', 'timezone', 'timezone', 'timezone', 'timezone', 'timezone', 'timezone', 'timezone', 'timezone', 'timezone', 'timezone', 'timezone', 'timezone', 'timezone', 'next_song', 'next_song', 'next_song', 'next_song', 'next_song', 'next_song', 'next_song', 'next_song', 'next_song', 'next_song', 'next_song', 'next_song', 'next_song', 'next_song', 'next_song', 'next_song', 'next_song', 'next_song', 'next_song', 'next_song', 'next_song', 'next_song', 'next_song', 'next_song', 'next_song', 'next_song', 'next_song', 'next_song', 'next_song', 'next_song', 'transactions', 'transactions', 'transactions', 'transactions', 'transactions', 'transactions', 'transactions', 'transactions', 'transactions', 'transactions', 'transactions', 'transactions', 'transactions', 'transactions', 'transactions', 'transactions', 'transactions', 'transactions', 'transactions', 'transactions', 'transactions', 'transactions', 'transactions', 'transactions', 'transactions', 'transactions', 'transactions', 'transactions', 'transactions', 'transactions', 'restaurant_suggestion', 'restaurant_suggestion', 'restaurant_suggestion', 'restaurant_suggestion', 'restaurant_suggestion', 'restaurant_suggestion', 'restaurant_suggestion', 'restaurant_suggestion', 'restaurant_suggestion', 'restaurant_suggestion', 'restaurant_suggestion', 'restaurant_suggestion', 'restaurant_suggestion', 'restaurant_suggestion', 'restaurant_suggestion', 'restaurant_suggestion', 'restaurant_suggestion', 'restaurant_suggestion', 'restaurant_suggestion', 'restaurant_suggestion', 'restaurant_suggestion', 'restaurant_suggestion', 'restaurant_suggestion', 'restaurant_suggestion', 'restaurant_suggestion', 'restaurant_suggestion', 'restaurant_suggestion', 'restaurant_suggestion', 'restaurant_suggestion', 'restaurant_suggestion', 'rewards_balance', 'rewards_balance', 'rewards_balance', 'rewards_balance', 'rewards_balance', 'rewards_balance', 'rewards_balance', 'rewards_balance', 'rewards_balance', 'rewards_balance', 'rewards_balance', 'rewards_balance', 'rewards_balance', 'rewards_balance', 'rewards_balance', 'rewards_balance', 'rewards_balance', 'rewards_balance', 'rewards_balance', 'rewards_balance', 'rewards_balance', 'rewards_balance', 'rewards_balance', 'rewards_balance', 'rewards_balance', 'rewards_balance', 'rewards_balance', 'rewards_balance', 'rewards_balance', 'rewards_balance', 'pay_bill', 'pay_bill', 'pay_bill', 'pay_bill', 'pay_bill', 'pay_bill', 'pay_bill', 'pay_bill', 'pay_bill', 'pay_bill', 'pay_bill', 'pay_bill', 'pay_bill', 'pay_bill', 'pay_bill', 'pay_bill', 'pay_bill', 'pay_bill', 'pay_bill', 'pay_bill', 'pay_bill', 'pay_bill', 'pay_bill', 'pay_bill', 'pay_bill', 'pay_bill', 'pay_bill', 'pay_bill', 'pay_bill', 'pay_bill', 'spending_history', 'spending_history', 'spending_history', 'spending_history', 'spending_history', 'spending_history', 'spending_history', 'spending_history', 'spending_history', 'spending_history', 'spending_history', 'spending_history', 'spending_history', 'spending_history', 'spending_history', 'spending_history', 'spending_history', 'spending_history', 'spending_history', 'spending_history', 'spending_history', 'spending_history', 'spending_history', 'spending_history', 'spending_history', 'spending_history', 'spending_history', 'spending_history', 'spending_history', 'spending_history', 'pto_request_status', 'pto_request_status', 'pto_request_status', 'pto_request_status', 'pto_request_status', 'pto_request_status', 'pto_request_status', 'pto_request_status', 'pto_request_status', 'pto_request_status', 'pto_request_status', 'pto_request_status', 'pto_request_status', 'pto_request_status', 'pto_request_status', 'pto_request_status', 'pto_request_status', 'pto_request_status', 'pto_request_status', 'pto_request_status', 'pto_request_status', 'pto_request_status', 'pto_request_status', 'pto_request_status', 'pto_request_status', 'pto_request_status', 'pto_request_status', 'pto_request_status', 'pto_request_status', 'pto_request_status', 'credit_score', 'credit_score', 'credit_score', 'credit_score', 'credit_score', 'credit_score', 'credit_score', 'credit_score', 'credit_score', 'credit_score', 'credit_score', 'credit_score', 'credit_score', 'credit_score', 'credit_score', 'credit_score', 'credit_score', 'credit_score', 'credit_score', 'credit_score', 'credit_score', 'credit_score', 'credit_score', 'credit_score', 'credit_score', 'credit_score', 'credit_score', 'credit_score', 'credit_score', 'credit_score', 'new_card', 'new_card', 'new_card', 'new_card', 'new_card', 'new_card', 'new_card', 'new_card', 'new_card', 'new_card', 'new_card', 'new_card', 'new_card', 'new_card', 'new_card', 'new_card', 'new_card', 'new_card', 'new_card', 'new_card', 'new_card', 'new_card', 'new_card', 'new_card', 'new_card', 'new_card', 'new_card', 'new_card', 'new_card', 'new_card', 'lost_luggage', 'lost_luggage', 'lost_luggage', 'lost_luggage', 'lost_luggage', 'lost_luggage', 'lost_luggage', 'lost_luggage', 'lost_luggage', 'lost_luggage', 'lost_luggage', 'lost_luggage', 'lost_luggage', 'lost_luggage', 'lost_luggage', 'lost_luggage', 'lost_luggage', 'lost_luggage', 'lost_luggage', 'lost_luggage', 'lost_luggage', 'lost_luggage', 'lost_luggage', 'lost_luggage', 'lost_luggage', 'lost_luggage', 'lost_luggage', 'lost_luggage', 'lost_luggage', 'lost_luggage', 'repeat', 'repeat', 'repeat', 'repeat', 'repeat', 'repeat', 'repeat', 'repeat', 'repeat', 'repeat', 'repeat', 'repeat', 'repeat', 'repeat', 'repeat', 'repeat', 'repeat', 'repeat', 'repeat', 'repeat', 'repeat', 'repeat', 'repeat', 'repeat', 'repeat', 'repeat', 'repeat', 'repeat', 'repeat', 'repeat', 'mpg', 'mpg', 'mpg', 'mpg', 'mpg', 'mpg', 'mpg', 'mpg', 'mpg', 'mpg', 'mpg', 'mpg', 'mpg', 'mpg', 'mpg', 'mpg', 'mpg', 'mpg', 'mpg', 'mpg', 'mpg', 'mpg', 'mpg', 'mpg', 'mpg', 'mpg', 'mpg', 'mpg', 'mpg', 'mpg', 'oil_change_when', 'oil_change_when', 'oil_change_when', 'oil_change_when', 'oil_change_when', 'oil_change_when', 'oil_change_when', 'oil_change_when', 'oil_change_when', 'oil_change_when', 'oil_change_when', 'oil_change_when', 'oil_change_when', 'oil_change_when', 'oil_change_when', 'oil_change_when', 'oil_change_when', 'oil_change_when', 'oil_change_when', 'oil_change_when', 'oil_change_when', 'oil_change_when', 'oil_change_when', 'oil_change_when', 'oil_change_when', 'oil_change_when', 'oil_change_when', 'oil_change_when', 'oil_change_when', 'oil_change_when', 'yes', 'yes', 'yes', 'yes', 'yes', 'yes', 'yes', 'yes', 'yes', 'yes', 'yes', 'yes', 'yes', 'yes', 'yes', 'yes', 'yes', 'yes', 'yes', 'yes', 'yes', 'yes', 'yes', 'yes', 'yes', 'yes', 'yes', 'yes', 'yes', 'yes', 'travel_suggestion', 'travel_suggestion', 'travel_suggestion', 'travel_suggestion', 'travel_suggestion', 'travel_suggestion', 'travel_suggestion', 'travel_suggestion', 'travel_suggestion', 'travel_suggestion', 'travel_suggestion', 'travel_suggestion', 'travel_suggestion', 'travel_suggestion', 'travel_suggestion', 'travel_suggestion', 'travel_suggestion', 'travel_suggestion', 'travel_suggestion', 'travel_suggestion', 'travel_suggestion', 'travel_suggestion', 'travel_suggestion', 'travel_suggestion', 'travel_suggestion', 'travel_suggestion', 'travel_suggestion', 'travel_suggestion', 'travel_suggestion', 'travel_suggestion', 'insurance', 'insurance', 'insurance', 'insurance', 'insurance', 'insurance', 'insurance', 'insurance', 'insurance', 'insurance', 'insurance', 'insurance', 'insurance', 'insurance', 'insurance', 'insurance', 'insurance', 'insurance', 'insurance', 'insurance', 'insurance', 'insurance', 'insurance', 'insurance', 'insurance', 'insurance', 'insurance', 'insurance', 'insurance', 'insurance', 'todo_list_update', 'todo_list_update', 'todo_list_update', 'todo_list_update', 'todo_list_update', 'todo_list_update', 'todo_list_update', 'todo_list_update', 'todo_list_update', 'todo_list_update', 'todo_list_update', 'todo_list_update', 'todo_list_update', 'todo_list_update', 'todo_list_update', 'todo_list_update', 'todo_list_update', 'todo_list_update', 'todo_list_update', 'todo_list_update', 'todo_list_update', 'todo_list_update', 'todo_list_update', 'todo_list_update', 'todo_list_update', 'todo_list_update', 'todo_list_update', 'todo_list_update', 'todo_list_update', 'todo_list_update', 'reminder', 'reminder', 'reminder', 'reminder', 'reminder', 'reminder', 'reminder', 'reminder', 'reminder', 'reminder', 'reminder', 'reminder', 'reminder', 'reminder', 'reminder', 'reminder', 'reminder', 'reminder', 'reminder', 'reminder', 'reminder', 'reminder', 'reminder', 'reminder', 'reminder', 'reminder', 'reminder', 'reminder', 'reminder', 'reminder', 'change_speed', 'change_speed', 'change_speed', 'change_speed', 'change_speed', 'change_speed', 'change_speed', 'change_speed', 'change_speed', 'change_speed', 'change_speed', 'change_speed', 'change_speed', 'change_speed', 'change_speed', 'change_speed', 'change_speed', 'change_speed', 'change_speed', 'change_speed', 'change_speed', 'change_speed', 'change_speed', 'change_speed', 'change_speed', 'change_speed', 'change_speed', 'change_speed', 'change_speed', 'change_speed', 'tire_pressure', 'tire_pressure', 'tire_pressure', 'tire_pressure', 'tire_pressure', 'tire_pressure', 'tire_pressure', 'tire_pressure', 'tire_pressure', 'tire_pressure', 'tire_pressure', 'tire_pressure', 'tire_pressure', 'tire_pressure', 'tire_pressure', 'tire_pressure', 'tire_pressure', 'tire_pressure', 'tire_pressure', 'tire_pressure', 'tire_pressure', 'tire_pressure', 'tire_pressure', 'tire_pressure', 'tire_pressure', 'tire_pressure', 'tire_pressure', 'tire_pressure', 'tire_pressure', 'tire_pressure', 'no', 'no', 'no', 'no', 'no', 'no', 'no', 'no', 'no', 'no', 'no', 'no', 'no', 'no', 'no', 'no', 'no', 'no', 'no', 'no', 'no', 'no', 'no', 'no', 'no', 'no', 'no', 'no', 'no', 'no', 'apr', 'apr', 'apr', 'apr', 'apr', 'apr', 'apr', 'apr', 'apr', 'apr', 'apr', 'apr', 'apr', 'apr', 'apr', 'apr', 'apr', 'apr', 'apr', 'apr', 'apr', 'apr', 'apr', 'apr', 'apr', 'apr', 'apr', 'apr', 'apr', 'apr', 'nutrition_info', 'nutrition_info', 'nutrition_info', 'nutrition_info', 'nutrition_info', 'nutrition_info', 'nutrition_info', 'nutrition_info', 'nutrition_info', 'nutrition_info', 'nutrition_info', 'nutrition_info', 'nutrition_info', 'nutrition_info', 'nutrition_info', 'nutrition_info', 'nutrition_info', 'nutrition_info', 'nutrition_info', 'nutrition_info', 'nutrition_info', 'nutrition_info', 'nutrition_info', 'nutrition_info', 'nutrition_info', 'nutrition_info', 'nutrition_info', 'nutrition_info', 'nutrition_info', 'nutrition_info', 'calendar', 'calendar', 'calendar', 'calendar', 'calendar', 'calendar', 'calendar', 'calendar', 'calendar', 'calendar', 'calendar', 'calendar', 'calendar', 'calendar', 'calendar', 'calendar', 'calendar', 'calendar', 'calendar', 'calendar', 'calendar', 'calendar', 'calendar', 'calendar', 'calendar', 'calendar', 'calendar', 'calendar', 'calendar', 'calendar', 'uber', 'uber', 'uber', 'uber', 'uber', 'uber', 'uber', 'uber', 'uber', 'uber', 'uber', 'uber', 'uber', 'uber', 'uber', 'uber', 'uber', 'uber', 'uber', 'uber', 'uber', 'uber', 'uber', 'uber', 'uber', 'uber', 'uber', 'uber', 'uber', 'uber', 'calculator', 'calculator', 'calculator', 'calculator', 'calculator', 'calculator', 'calculator', 'calculator', 'calculator', 'calculator', 'calculator', 'calculator', 'calculator', 'calculator', 'calculator', 'calculator', 'calculator', 'calculator', 'calculator', 'calculator', 'calculator', 'calculator', 'calculator', 'calculator', 'calculator', 'calculator', 'calculator', 'calculator', 'calculator', 'calculator', 'date', 'date', 'date', 'date', 'date', 'date', 'date', 'date', 'date', 'date', 'date', 'date', 'date', 'date', 'date', 'date', 'date', 'date', 'date', 'date', 'date', 'date', 'date', 'date', 'date', 'date', 'date', 'date', 'date', 'date', 'carry_on', 'carry_on', 'carry_on', 'carry_on', 'carry_on', 'carry_on', 'carry_on', 'carry_on', 'carry_on', 'carry_on', 'carry_on', 'carry_on', 'carry_on', 'carry_on', 'carry_on', 'carry_on', 'carry_on', 'carry_on', 'carry_on', 'carry_on', 'carry_on', 'carry_on', 'carry_on', 'carry_on', 'carry_on', 'carry_on', 'carry_on', 'carry_on', 'carry_on', 'carry_on', 'pto_used', 'pto_used', 'pto_used', 'pto_used', 'pto_used', 'pto_used', 'pto_used', 'pto_used', 'pto_used', 'pto_used', 'pto_used', 'pto_used', 'pto_used', 'pto_used', 'pto_used', 'pto_used', 'pto_used', 'pto_used', 'pto_used', 'pto_used', 'pto_used', 'pto_used', 'pto_used', 'pto_used', 'pto_used', 'pto_used', 'pto_used', 'pto_used', 'pto_used', 'pto_used', 'schedule_maintenance', 'schedule_maintenance', 'schedule_maintenance', 'schedule_maintenance', 'schedule_maintenance', 'schedule_maintenance', 'schedule_maintenance', 'schedule_maintenance', 'schedule_maintenance', 'schedule_maintenance', 'schedule_maintenance', 'schedule_maintenance', 'schedule_maintenance', 'schedule_maintenance', 'schedule_maintenance', 'schedule_maintenance', 'schedule_maintenance', 'schedule_maintenance', 'schedule_maintenance', 'schedule_maintenance', 'schedule_maintenance', 'schedule_maintenance', 'schedule_maintenance', 'schedule_maintenance', 'schedule_maintenance', 'schedule_maintenance', 'schedule_maintenance', 'schedule_maintenance', 'schedule_maintenance', 'schedule_maintenance', 'travel_notification', 'travel_notification', 'travel_notification', 'travel_notification', 'travel_notification', 'travel_notification', 'travel_notification', 'travel_notification', 'travel_notification', 'travel_notification', 'travel_notification', 'travel_notification', 'travel_notification', 'travel_notification', 'travel_notification', 'travel_notification', 'travel_notification', 'travel_notification', 'travel_notification', 'travel_notification', 'travel_notification', 'travel_notification', 'travel_notification', 'travel_notification', 'travel_notification', 'travel_notification', 'travel_notification', 'travel_notification', 'travel_notification', 'travel_notification', 'sync_device', 'sync_device', 'sync_device', 'sync_device', 'sync_device', 'sync_device', 'sync_device', 'sync_device', 'sync_device', 'sync_device', 'sync_device', 'sync_device', 'sync_device', 'sync_device', 'sync_device', 'sync_device', 'sync_device', 'sync_device', 'sync_device', 'sync_device', 'sync_device', 'sync_device', 'sync_device', 'sync_device', 'sync_device', 'sync_device', 'sync_device', 'sync_device', 'sync_device', 'sync_device', 'thank_you', 'thank_you', 'thank_you', 'thank_you', 'thank_you', 'thank_you', 'thank_you', 'thank_you', 'thank_you', 'thank_you', 'thank_you', 'thank_you', 'thank_you', 'thank_you', 'thank_you', 'thank_you', 'thank_you', 'thank_you', 'thank_you', 'thank_you', 'thank_you', 'thank_you', 'thank_you', 'thank_you', 'thank_you', 'thank_you', 'thank_you', 'thank_you', 'thank_you', 'thank_you', 'roll_dice', 'roll_dice', 'roll_dice', 'roll_dice', 'roll_dice', 'roll_dice', 'roll_dice', 'roll_dice', 'roll_dice', 'roll_dice', 'roll_dice', 'roll_dice', 'roll_dice', 'roll_dice', 'roll_dice', 'roll_dice', 'roll_dice', 'roll_dice', 'roll_dice', 'roll_dice', 'roll_dice', 'roll_dice', 'roll_dice', 'roll_dice', 'roll_dice', 'roll_dice', 'roll_dice', 'roll_dice', 'roll_dice', 'roll_dice', 'food_last', 'food_last', 'food_last', 'food_last', 'food_last', 'food_last', 'food_last', 'food_last', 'food_last', 'food_last', 'food_last', 'food_last', 'food_last', 'food_last', 'food_last', 'food_last', 'food_last', 'food_last', 'food_last', 'food_last', 'food_last', 'food_last', 'food_last', 'food_last', 'food_last', 'food_last', 'food_last', 'food_last', 'food_last', 'food_last', 'cook_time', 'cook_time', 'cook_time', 'cook_time', 'cook_time', 'cook_time', 'cook_time', 'cook_time', 'cook_time', 'cook_time', 'cook_time', 'cook_time', 'cook_time', 'cook_time', 'cook_time', 'cook_time', 'cook_time', 'cook_time', 'cook_time', 'cook_time', 'cook_time', 'cook_time', 'cook_time', 'cook_time', 'cook_time', 'cook_time', 'cook_time', 'cook_time', 'cook_time', 'cook_time', 'reminder_update', 'reminder_update', 'reminder_update', 'reminder_update', 'reminder_update', 'reminder_update', 'reminder_update', 'reminder_update', 'reminder_update', 'reminder_update', 'reminder_update', 'reminder_update', 'reminder_update', 'reminder_update', 'reminder_update', 'reminder_update', 'reminder_update', 'reminder_update', 'reminder_update', 'reminder_update', 'reminder_update', 'reminder_update', 'reminder_update', 'reminder_update', 'reminder_update', 'reminder_update', 'reminder_update', 'reminder_update', 'reminder_update', 'reminder_update', 'report_lost_card', 'report_lost_card', 'report_lost_card', 'report_lost_card', 'report_lost_card', 'report_lost_card', 'report_lost_card', 'report_lost_card', 'report_lost_card', 'report_lost_card', 'report_lost_card', 'report_lost_card', 'report_lost_card', 'report_lost_card', 'report_lost_card', 'report_lost_card', 'report_lost_card', 'report_lost_card', 'report_lost_card', 'report_lost_card', 'report_lost_card', 'report_lost_card', 'report_lost_card', 'report_lost_card', 'report_lost_card', 'report_lost_card', 'report_lost_card', 'report_lost_card', 'report_lost_card', 'report_lost_card', 'ingredient_substitution', 'ingredient_substitution', 'ingredient_substitution', 'ingredient_substitution', 'ingredient_substitution', 'ingredient_substitution', 'ingredient_substitution', 'ingredient_substitution', 'ingredient_substitution', 'ingredient_substitution', 'ingredient_substitution', 'ingredient_substitution', 'ingredient_substitution', 'ingredient_substitution', 'ingredient_substitution', 'ingredient_substitution', 'ingredient_substitution', 'ingredient_substitution', 'ingredient_substitution', 'ingredient_substitution', 'ingredient_substitution', 'ingredient_substitution', 'ingredient_substitution', 'ingredient_substitution', 'ingredient_substitution', 'ingredient_substitution', 'ingredient_substitution', 'ingredient_substitution', 'ingredient_substitution', 'ingredient_substitution', 'make_call', 'make_call', 'make_call', 'make_call', 'make_call', 'make_call', 'make_call', 'make_call', 'make_call', 'make_call', 'make_call', 'make_call', 'make_call', 'make_call', 'make_call', 'make_call', 'make_call', 'make_call', 'make_call', 'make_call', 'make_call', 'make_call', 'make_call', 'make_call', 'make_call', 'make_call', 'make_call', 'make_call', 'make_call', 'make_call', 'alarm', 'alarm', 'alarm', 'alarm', 'alarm', 'alarm', 'alarm', 'alarm', 'alarm', 'alarm', 'alarm', 'alarm', 'alarm', 'alarm', 'alarm', 'alarm', 'alarm', 'alarm', 'alarm', 'alarm', 'alarm', 'alarm', 'alarm', 'alarm', 'alarm', 'alarm', 'alarm', 'alarm', 'alarm', 'alarm', 'todo_list', 'todo_list', 'todo_list', 'todo_list', 'todo_list', 'todo_list', 'todo_list', 'todo_list', 'todo_list', 'todo_list', 'todo_list', 'todo_list', 'todo_list', 'todo_list', 'todo_list', 'todo_list', 'todo_list', 'todo_list', 'todo_list', 'todo_list', 'todo_list', 'todo_list', 'todo_list', 'todo_list', 'todo_list', 'todo_list', 'todo_list', 'todo_list', 'todo_list', 'todo_list', 'change_accent', 'change_accent', 'change_accent', 'change_accent', 'change_accent', 'change_accent', 'change_accent', 'change_accent', 'change_accent', 'change_accent', 'change_accent', 'change_accent', 'change_accent', 'change_accent', 'change_accent', 'change_accent', 'change_accent', 'change_accent', 'change_accent', 'change_accent', 'change_accent', 'change_accent', 'change_accent', 'change_accent', 'change_accent', 'change_accent', 'change_accent', 'change_accent', 'change_accent', 'change_accent', 'w2', 'w2', 'w2', 'w2', 'w2', 'w2', 'w2', 'w2', 'w2', 'w2', 'w2', 'w2', 'w2', 'w2', 'w2', 'w2', 'w2', 'w2', 'w2', 'w2', 'w2', 'w2', 'w2', 'w2', 'w2', 'w2', 'w2', 'w2', 'w2', 'w2', 'bill_due', 'bill_due', 'bill_due', 'bill_due', 'bill_due', 'bill_due', 'bill_due', 'bill_due', 'bill_due', 'bill_due', 'bill_due', 'bill_due', 'bill_due', 'bill_due', 'bill_due', 'bill_due', 'bill_due', 'bill_due', 'bill_due', 'bill_due', 'bill_due', 'bill_due', 'bill_due', 'bill_due', 'bill_due', 'bill_due', 'bill_due', 'bill_due', 'bill_due', 'bill_due', 'calories', 'calories', 'calories', 'calories', 'calories', 'calories', 'calories', 'calories', 'calories', 'calories', 'calories', 'calories', 'calories', 'calories', 'calories', 'calories', 'calories', 'calories', 'calories', 'calories', 'calories', 'calories', 'calories', 'calories', 'calories', 'calories', 'calories', 'calories', 'calories', 'calories', 'damaged_card', 'damaged_card', 'damaged_card', 'damaged_card', 'damaged_card', 'damaged_card', 'damaged_card', 'damaged_card', 'damaged_card', 'damaged_card', 'damaged_card', 'damaged_card', 'damaged_card', 'damaged_card', 'damaged_card', 'damaged_card', 'damaged_card', 'damaged_card', 'damaged_card', 'damaged_card', 'damaged_card', 'damaged_card', 'damaged_card', 'damaged_card', 'damaged_card', 'damaged_card', 'damaged_card', 'damaged_card', 'damaged_card', 'damaged_card', 'restaurant_reviews', 'restaurant_reviews', 'restaurant_reviews', 'restaurant_reviews', 'restaurant_reviews', 'restaurant_reviews', 'restaurant_reviews', 'restaurant_reviews', 'restaurant_reviews', 'restaurant_reviews', 'restaurant_reviews', 'restaurant_reviews', 'restaurant_reviews', 'restaurant_reviews', 'restaurant_reviews', 'restaurant_reviews', 'restaurant_reviews', 'restaurant_reviews', 'restaurant_reviews', 'restaurant_reviews', 'restaurant_reviews', 'restaurant_reviews', 'restaurant_reviews', 'restaurant_reviews', 'restaurant_reviews', 'restaurant_reviews', 'restaurant_reviews', 'restaurant_reviews', 'restaurant_reviews', 'restaurant_reviews', 'routing', 'routing', 'routing', 'routing', 'routing', 'routing', 'routing', 'routing', 'routing', 'routing', 'routing', 'routing', 'routing', 'routing', 'routing', 'routing', 'routing', 'routing', 'routing', 'routing', 'routing', 'routing', 'routing', 'routing', 'routing', 'routing', 'routing', 'routing', 'routing', 'routing', 'do_you_have_pets', 'do_you_have_pets', 'do_you_have_pets', 'do_you_have_pets', 'do_you_have_pets', 'do_you_have_pets', 'do_you_have_pets', 'do_you_have_pets', 'do_you_have_pets', 'do_you_have_pets', 'do_you_have_pets', 'do_you_have_pets', 'do_you_have_pets', 'do_you_have_pets', 'do_you_have_pets', 'do_you_have_pets', 'do_you_have_pets', 'do_you_have_pets', 'do_you_have_pets', 'do_you_have_pets', 'do_you_have_pets', 'do_you_have_pets', 'do_you_have_pets', 'do_you_have_pets', 'do_you_have_pets', 'do_you_have_pets', 'do_you_have_pets', 'do_you_have_pets', 'do_you_have_pets', 'do_you_have_pets', 'schedule_meeting', 'schedule_meeting', 'schedule_meeting', 'schedule_meeting', 'schedule_meeting', 'schedule_meeting', 'schedule_meeting', 'schedule_meeting', 'schedule_meeting', 'schedule_meeting', 'schedule_meeting', 'schedule_meeting', 'schedule_meeting', 'schedule_meeting', 'schedule_meeting', 'schedule_meeting', 'schedule_meeting', 'schedule_meeting', 'schedule_meeting', 'schedule_meeting', 'schedule_meeting', 'schedule_meeting', 'schedule_meeting', 'schedule_meeting', 'schedule_meeting', 'schedule_meeting', 'schedule_meeting', 'schedule_meeting', 'schedule_meeting', 'schedule_meeting', 'gas_type', 'gas_type', 'gas_type', 'gas_type', 'gas_type', 'gas_type', 'gas_type', 'gas_type', 'gas_type', 'gas_type', 'gas_type', 'gas_type', 'gas_type', 'gas_type', 'gas_type', 'gas_type', 'gas_type', 'gas_type', 'gas_type', 'gas_type', 'gas_type', 'gas_type', 'gas_type', 'gas_type', 'gas_type', 'gas_type', 'gas_type', 'gas_type', 'gas_type', 'gas_type', 'plug_type', 'plug_type', 'plug_type', 'plug_type', 'plug_type', 'plug_type', 'plug_type', 'plug_type', 'plug_type', 'plug_type', 'plug_type', 'plug_type', 'plug_type', 'plug_type', 'plug_type', 'plug_type', 'plug_type', 'plug_type', 'plug_type', 'plug_type', 'plug_type', 'plug_type', 'plug_type', 'plug_type', 'plug_type', 'plug_type', 'plug_type', 'plug_type', 'plug_type', 'plug_type', 'tire_change', 'tire_change', 'tire_change', 'tire_change', 'tire_change', 'tire_change', 'tire_change', 'tire_change', 'tire_change', 'tire_change', 'tire_change', 'tire_change', 'tire_change', 'tire_change', 'tire_change', 'tire_change', 'tire_change', 'tire_change', 'tire_change', 'tire_change', 'tire_change', 'tire_change', 'tire_change', 'tire_change', 'tire_change', 'tire_change', 'tire_change', 'tire_change', 'tire_change', 'tire_change', 'exchange_rate', 'exchange_rate', 'exchange_rate', 'exchange_rate', 'exchange_rate', 'exchange_rate', 'exchange_rate', 'exchange_rate', 'exchange_rate', 'exchange_rate', 'exchange_rate', 'exchange_rate', 'exchange_rate', 'exchange_rate', 'exchange_rate', 'exchange_rate', 'exchange_rate', 'exchange_rate', 'exchange_rate', 'exchange_rate', 'exchange_rate', 'exchange_rate', 'exchange_rate', 'exchange_rate', 'exchange_rate', 'exchange_rate', 'exchange_rate', 'exchange_rate', 'exchange_rate', 'exchange_rate', 'next_holiday', 'next_holiday', 'next_holiday', 'next_holiday', 'next_holiday', 'next_holiday', 'next_holiday', 'next_holiday', 'next_holiday', 'next_holiday', 'next_holiday', 'next_holiday', 'next_holiday', 'next_holiday', 'next_holiday', 'next_holiday', 'next_holiday', 'next_holiday', 'next_holiday', 'next_holiday', 'next_holiday', 'next_holiday', 'next_holiday', 'next_holiday', 'next_holiday', 'next_holiday', 'next_holiday', 'next_holiday', 'next_holiday', 'next_holiday', 'change_volume', 'change_volume', 'change_volume', 'change_volume', 'change_volume', 'change_volume', 'change_volume', 'change_volume', 'change_volume', 'change_volume', 'change_volume', 'change_volume', 'change_volume', 'change_volume', 'change_volume', 'change_volume', 'change_volume', 'change_volume', 'change_volume', 'change_volume', 'change_volume', 'change_volume', 'change_volume', 'change_volume', 'change_volume', 'change_volume', 'change_volume', 'change_volume', 'change_volume', 'change_volume', 'who_do_you_work_for', 'who_do_you_work_for', 'who_do_you_work_for', 'who_do_you_work_for', 'who_do_you_work_for', 'who_do_you_work_for', 'who_do_you_work_for', 'who_do_you_work_for', 'who_do_you_work_for', 'who_do_you_work_for', 'who_do_you_work_for', 'who_do_you_work_for', 'who_do_you_work_for', 'who_do_you_work_for', 'who_do_you_work_for', 'who_do_you_work_for', 'who_do_you_work_for', 'who_do_you_work_for', 'who_do_you_work_for', 'who_do_you_work_for', 'who_do_you_work_for', 'who_do_you_work_for', 'who_do_you_work_for', 'who_do_you_work_for', 'who_do_you_work_for', 'who_do_you_work_for', 'who_do_you_work_for', 'who_do_you_work_for', 'who_do_you_work_for', 'who_do_you_work_for', 'credit_limit', 'credit_limit', 'credit_limit', 'credit_limit', 'credit_limit', 'credit_limit', 'credit_limit', 'credit_limit', 'credit_limit', 'credit_limit', 'credit_limit', 'credit_limit', 'credit_limit', 'credit_limit', 'credit_limit', 'credit_limit', 'credit_limit', 'credit_limit', 'credit_limit', 'credit_limit', 'credit_limit', 'credit_limit', 'credit_limit', 'credit_limit', 'credit_limit', 'credit_limit', 'credit_limit', 'credit_limit', 'credit_limit', 'credit_limit', 'how_busy', 'how_busy', 'how_busy', 'how_busy', 'how_busy', 'how_busy', 'how_busy', 'how_busy', 'how_busy', 'how_busy', 'how_busy', 'how_busy', 'how_busy', 'how_busy', 'how_busy', 'how_busy', 'how_busy', 'how_busy', 'how_busy', 'how_busy', 'how_busy', 'how_busy', 'how_busy', 'how_busy', 'how_busy', 'how_busy', 'how_busy', 'how_busy', 'how_busy', 'how_busy', 'accept_reservations', 'accept_reservations', 'accept_reservations', 'accept_reservations', 'accept_reservations', 'accept_reservations', 'accept_reservations', 'accept_reservations', 'accept_reservations', 'accept_reservations', 'accept_reservations', 'accept_reservations', 'accept_reservations', 'accept_reservations', 'accept_reservations', 'accept_reservations', 'accept_reservations', 'accept_reservations', 'accept_reservations', 'accept_reservations', 'accept_reservations', 'accept_reservations', 'accept_reservations', 'accept_reservations', 'accept_reservations', 'accept_reservations', 'accept_reservations', 'accept_reservations', 'accept_reservations', 'accept_reservations', 'order_status', 'order_status', 'order_status', 'order_status', 'order_status', 'order_status', 'order_status', 'order_status', 'order_status', 'order_status', 'order_status', 'order_status', 'order_status', 'order_status', 'order_status', 'order_status', 'order_status', 'order_status', 'order_status', 'order_status', 'order_status', 'order_status', 'order_status', 'order_status', 'order_status', 'order_status', 'order_status', 'order_status', 'order_status', 'order_status', 'pin_change', 'pin_change', 'pin_change', 'pin_change', 'pin_change', 'pin_change', 'pin_change', 'pin_change', 'pin_change', 'pin_change', 'pin_change', 'pin_change', 'pin_change', 'pin_change', 'pin_change', 'pin_change', 'pin_change', 'pin_change', 'pin_change', 'pin_change', 'pin_change', 'pin_change', 'pin_change', 'pin_change', 'pin_change', 'pin_change', 'pin_change', 'pin_change', 'pin_change', 'pin_change', 'goodbye', 'goodbye', 'goodbye', 'goodbye', 'goodbye', 'goodbye', 'goodbye', 'goodbye', 'goodbye', 'goodbye', 'goodbye', 'goodbye', 'goodbye', 'goodbye', 'goodbye', 'goodbye', 'goodbye', 'goodbye', 'goodbye', 'goodbye', 'goodbye', 'goodbye', 'goodbye', 'goodbye', 'goodbye', 'goodbye', 'goodbye', 'goodbye', 'goodbye', 'goodbye', 'account_blocked', 'account_blocked', 'account_blocked', 'account_blocked', 'account_blocked', 'account_blocked', 'account_blocked', 'account_blocked', 'account_blocked', 'account_blocked', 'account_blocked', 'account_blocked', 'account_blocked', 'account_blocked', 'account_blocked', 'account_blocked', 'account_blocked', 'account_blocked', 'account_blocked', 'account_blocked', 'account_blocked', 'account_blocked', 'account_blocked', 'account_blocked', 'account_blocked', 'account_blocked', 'account_blocked', 'account_blocked', 'account_blocked', 'account_blocked', 'what_song', 'what_song', 'what_song', 'what_song', 'what_song', 'what_song', 'what_song', 'what_song', 'what_song', 'what_song', 'what_song', 'what_song', 'what_song', 'what_song', 'what_song', 'what_song', 'what_song', 'what_song', 'what_song', 'what_song', 'what_song', 'what_song', 'what_song', 'what_song', 'what_song', 'what_song', 'what_song', 'what_song', 'what_song', 'what_song', 'international_fees', 'international_fees', 'international_fees', 'international_fees', 'international_fees', 'international_fees', 'international_fees', 'international_fees', 'international_fees', 'international_fees', 'international_fees', 'international_fees', 'international_fees', 'international_fees', 'international_fees', 'international_fees', 'international_fees', 'international_fees', 'international_fees', 'international_fees', 'international_fees', 'international_fees', 'international_fees', 'international_fees', 'international_fees', 'international_fees', 'international_fees', 'international_fees', 'international_fees', 'international_fees', 'last_maintenance', 'last_maintenance', 'last_maintenance', 'last_maintenance', 'last_maintenance', 'last_maintenance', 'last_maintenance', 'last_maintenance', 'last_maintenance', 'last_maintenance', 'last_maintenance', 'last_maintenance', 'last_maintenance', 'last_maintenance', 'last_maintenance', 'last_maintenance', 'last_maintenance', 'last_maintenance', 'last_maintenance', 'last_maintenance', 'last_maintenance', 'last_maintenance', 'last_maintenance', 'last_maintenance', 'last_maintenance', 'last_maintenance', 'last_maintenance', 'last_maintenance', 'last_maintenance', 'last_maintenance', 'meeting_schedule', 'meeting_schedule', 'meeting_schedule', 'meeting_schedule', 'meeting_schedule', 'meeting_schedule', 'meeting_schedule', 'meeting_schedule', 'meeting_schedule', 'meeting_schedule', 'meeting_schedule', 'meeting_schedule', 'meeting_schedule', 'meeting_schedule', 'meeting_schedule', 'meeting_schedule', 'meeting_schedule', 'meeting_schedule', 'meeting_schedule', 'meeting_schedule', 'meeting_schedule', 'meeting_schedule', 'meeting_schedule', 'meeting_schedule', 'meeting_schedule', 'meeting_schedule', 'meeting_schedule', 'meeting_schedule', 'meeting_schedule', 'meeting_schedule', 'ingredients_list', 'ingredients_list', 'ingredients_list', 'ingredients_list', 'ingredients_list', 'ingredients_list', 'ingredients_list', 'ingredients_list', 'ingredients_list', 'ingredients_list', 'ingredients_list', 'ingredients_list', 'ingredients_list', 'ingredients_list', 'ingredients_list', 'ingredients_list', 'ingredients_list', 'ingredients_list', 'ingredients_list', 'ingredients_list', 'ingredients_list', 'ingredients_list', 'ingredients_list', 'ingredients_list', 'ingredients_list', 'ingredients_list', 'ingredients_list', 'ingredients_list', 'ingredients_list', 'ingredients_list', 'report_fraud', 'report_fraud', 'report_fraud', 'report_fraud', 'report_fraud', 'report_fraud', 'report_fraud', 'report_fraud', 'report_fraud', 'report_fraud', 'report_fraud', 'report_fraud', 'report_fraud', 'report_fraud', 'report_fraud', 'report_fraud', 'report_fraud', 'report_fraud', 'report_fraud', 'report_fraud', 'report_fraud', 'report_fraud', 'report_fraud', 'report_fraud', 'report_fraud', 'report_fraud', 'report_fraud', 'report_fraud', 'report_fraud', 'report_fraud', 'measurement_conversion', 'measurement_conversion', 'measurement_conversion', 'measurement_conversion', 'measurement_conversion', 'measurement_conversion', 'measurement_conversion', 'measurement_conversion', 'measurement_conversion', 'measurement_conversion', 'measurement_conversion', 'measurement_conversion', 'measurement_conversion', 'measurement_conversion', 'measurement_conversion', 'measurement_conversion', 'measurement_conversion', 'measurement_conversion', 'measurement_conversion', 'measurement_conversion', 'measurement_conversion', 'measurement_conversion', 'measurement_conversion', 'measurement_conversion', 'measurement_conversion', 'measurement_conversion', 'measurement_conversion', 'measurement_conversion', 'measurement_conversion', 'measurement_conversion', 'smart_home', 'smart_home', 'smart_home', 'smart_home', 'smart_home', 'smart_home', 'smart_home', 'smart_home', 'smart_home', 'smart_home', 'smart_home', 'smart_home', 'smart_home', 'smart_home', 'smart_home', 'smart_home', 'smart_home', 'smart_home', 'smart_home', 'smart_home', 'smart_home', 'smart_home', 'smart_home', 'smart_home', 'smart_home', 'smart_home', 'smart_home', 'smart_home', 'smart_home', 'smart_home', 'book_hotel', 'book_hotel', 'book_hotel', 'book_hotel', 'book_hotel', 'book_hotel', 'book_hotel', 'book_hotel', 'book_hotel', 'book_hotel', 'book_hotel', 'book_hotel', 'book_hotel', 'book_hotel', 'book_hotel', 'book_hotel', 'book_hotel', 'book_hotel', 'book_hotel', 'book_hotel', 'book_hotel', 'book_hotel', 'book_hotel', 'book_hotel', 'book_hotel', 'book_hotel', 'book_hotel', 'book_hotel', 'book_hotel', 'book_hotel', 'current_location', 'current_location', 'current_location', 'current_location', 'current_location', 'current_location', 'current_location', 'current_location', 'current_location', 'current_location', 'current_location', 'current_location', 'current_location', 'current_location', 'current_location', 'current_location', 'current_location', 'current_location', 'current_location', 'current_location', 'current_location', 'current_location', 'current_location', 'current_location', 'current_location', 'current_location', 'current_location', 'current_location', 'current_location', 'current_location', 'weather', 'weather', 'weather', 'weather', 'weather', 'weather', 'weather', 'weather', 'weather', 'weather', 'weather', 'weather', 'weather', 'weather', 'weather', 'weather', 'weather', 'weather', 'weather', 'weather', 'weather', 'weather', 'weather', 'weather', 'weather', 'weather', 'weather', 'weather', 'weather', 'weather', 'taxes', 'taxes', 'taxes', 'taxes', 'taxes', 'taxes', 'taxes', 'taxes', 'taxes', 'taxes', 'taxes', 'taxes', 'taxes', 'taxes', 'taxes', 'taxes', 'taxes', 'taxes', 'taxes', 'taxes', 'taxes', 'taxes', 'taxes', 'taxes', 'taxes', 'taxes', 'taxes', 'taxes', 'taxes', 'taxes', 'min_payment', 'min_payment', 'min_payment', 'min_payment', 'min_payment', 'min_payment', 'min_payment', 'min_payment', 'min_payment', 'min_payment', 'min_payment', 'min_payment', 'min_payment', 'min_payment', 'min_payment', 'min_payment', 'min_payment', 'min_payment', 'min_payment', 'min_payment', 'min_payment', 'min_payment', 'min_payment', 'min_payment', 'min_payment', 'min_payment', 'min_payment', 'min_payment', 'min_payment', 'min_payment', 'whisper_mode', 'whisper_mode', 'whisper_mode', 'whisper_mode', 'whisper_mode', 'whisper_mode', 'whisper_mode', 'whisper_mode', 'whisper_mode', 'whisper_mode', 'whisper_mode', 'whisper_mode', 'whisper_mode', 'whisper_mode', 'whisper_mode', 'whisper_mode', 'whisper_mode', 'whisper_mode', 'whisper_mode', 'whisper_mode', 'whisper_mode', 'whisper_mode', 'whisper_mode', 'whisper_mode', 'whisper_mode', 'whisper_mode', 'whisper_mode', 'whisper_mode', 'whisper_mode', 'whisper_mode', 'cancel', 'cancel', 'cancel', 'cancel', 'cancel', 'cancel', 'cancel', 'cancel', 'cancel', 'cancel', 'cancel', 'cancel', 'cancel', 'cancel', 'cancel', 'cancel', 'cancel', 'cancel', 'cancel', 'cancel', 'cancel', 'cancel', 'cancel', 'cancel', 'cancel', 'cancel', 'cancel', 'cancel', 'cancel', 'cancel', 'international_visa', 'international_visa', 'international_visa', 'international_visa', 'international_visa', 'international_visa', 'international_visa', 'international_visa', 'international_visa', 'international_visa', 'international_visa', 'international_visa', 'international_visa', 'international_visa', 'international_visa', 'international_visa', 'international_visa', 'international_visa', 'international_visa', 'international_visa', 'international_visa', 'international_visa', 'international_visa', 'international_visa', 'international_visa', 'international_visa', 'international_visa', 'international_visa', 'international_visa', 'international_visa', 'vaccines', 'vaccines', 'vaccines', 'vaccines', 'vaccines', 'vaccines', 'vaccines', 'vaccines', 'vaccines', 'vaccines', 'vaccines', 'vaccines', 'vaccines', 'vaccines', 'vaccines', 'vaccines', 'vaccines', 'vaccines', 'vaccines', 'vaccines', 'vaccines', 'vaccines', 'vaccines', 'vaccines', 'vaccines', 'vaccines', 'vaccines', 'vaccines', 'vaccines', 'vaccines', 'pto_balance', 'pto_balance', 'pto_balance', 'pto_balance', 'pto_balance', 'pto_balance', 'pto_balance', 'pto_balance', 'pto_balance', 'pto_balance', 'pto_balance', 'pto_balance', 'pto_balance', 'pto_balance', 'pto_balance', 'pto_balance', 'pto_balance', 'pto_balance', 'pto_balance', 'pto_balance', 'pto_balance', 'pto_balance', 'pto_balance', 'pto_balance', 'pto_balance', 'pto_balance', 'pto_balance', 'pto_balance', 'pto_balance', 'pto_balance', 'directions', 'directions', 'directions', 'directions', 'directions', 'directions', 'directions', 'directions', 'directions', 'directions', 'directions', 'directions', 'directions', 'directions', 'directions', 'directions', 'directions', 'directions', 'directions', 'directions', 'directions', 'directions', 'directions', 'directions', 'directions', 'directions', 'directions', 'directions', 'directions', 'directions', 'spelling', 'spelling', 'spelling', 'spelling', 'spelling', 'spelling', 'spelling', 'spelling', 'spelling', 'spelling', 'spelling', 'spelling', 'spelling', 'spelling', 'spelling', 'spelling', 'spelling', 'spelling', 'spelling', 'spelling', 'spelling', 'spelling', 'spelling', 'spelling', 'spelling', 'spelling', 'spelling', 'spelling', 'spelling', 'spelling', 'greeting', 'greeting', 'greeting', 'greeting', 'greeting', 'greeting', 'greeting', 'greeting', 'greeting', 'greeting', 'greeting', 'greeting', 'greeting', 'greeting', 'greeting', 'greeting', 'greeting', 'greeting', 'greeting', 'greeting', 'greeting', 'greeting', 'greeting', 'greeting', 'greeting', 'greeting', 'greeting', 'greeting', 'greeting', 'greeting', 'reset_settings', 'reset_settings', 'reset_settings', 'reset_settings', 'reset_settings', 'reset_settings', 'reset_settings', 'reset_settings', 'reset_settings', 'reset_settings', 'reset_settings', 'reset_settings', 'reset_settings', 'reset_settings', 'reset_settings', 'reset_settings', 'reset_settings', 'reset_settings', 'reset_settings', 'reset_settings', 'reset_settings', 'reset_settings', 'reset_settings', 'reset_settings', 'reset_settings', 'reset_settings', 'reset_settings', 'reset_settings', 'reset_settings', 'reset_settings', 'what_is_your_name', 'what_is_your_name', 'what_is_your_name', 'what_is_your_name', 'what_is_your_name', 'what_is_your_name', 'what_is_your_name', 'what_is_your_name', 'what_is_your_name', 'what_is_your_name', 'what_is_your_name', 'what_is_your_name', 'what_is_your_name', 'what_is_your_name', 'what_is_your_name', 'what_is_your_name', 'what_is_your_name', 'what_is_your_name', 'what_is_your_name', 'what_is_your_name', 'what_is_your_name', 'what_is_your_name', 'what_is_your_name', 'what_is_your_name', 'what_is_your_name', 'what_is_your_name', 'what_is_your_name', 'what_is_your_name', 'what_is_your_name', 'what_is_your_name', 'direct_deposit', 'direct_deposit', 'direct_deposit', 'direct_deposit', 'direct_deposit', 'direct_deposit', 'direct_deposit', 'direct_deposit', 'direct_deposit', 'direct_deposit', 'direct_deposit', 'direct_deposit', 'direct_deposit', 'direct_deposit', 'direct_deposit', 'direct_deposit', 'direct_deposit', 'direct_deposit', 'direct_deposit', 'direct_deposit', 'direct_deposit', 'direct_deposit', 'direct_deposit', 'direct_deposit', 'direct_deposit', 'direct_deposit', 'direct_deposit', 'direct_deposit', 'direct_deposit', 'direct_deposit', 'interest_rate', 'interest_rate', 'interest_rate', 'interest_rate', 'interest_rate', 'interest_rate', 'interest_rate', 'interest_rate', 'interest_rate', 'interest_rate', 'interest_rate', 'interest_rate', 'interest_rate', 'interest_rate', 'interest_rate', 'interest_rate', 'interest_rate', 'interest_rate', 'interest_rate', 'interest_rate', 'interest_rate', 'interest_rate', 'interest_rate', 'interest_rate', 'interest_rate', 'interest_rate', 'interest_rate', 'interest_rate', 'interest_rate', 'interest_rate', 'credit_limit_change', 'credit_limit_change', 'credit_limit_change', 'credit_limit_change', 'credit_limit_change', 'credit_limit_change', 'credit_limit_change', 'credit_limit_change', 'credit_limit_change', 'credit_limit_change', 'credit_limit_change', 'credit_limit_change', 'credit_limit_change', 'credit_limit_change', 'credit_limit_change', 'credit_limit_change', 'credit_limit_change', 'credit_limit_change', 'credit_limit_change', 'credit_limit_change', 'credit_limit_change', 'credit_limit_change', 'credit_limit_change', 'credit_limit_change', 'credit_limit_change', 'credit_limit_change', 'credit_limit_change', 'credit_limit_change', 'credit_limit_change', 'credit_limit_change', 'what_are_your_hobbies', 'what_are_your_hobbies', 'what_are_your_hobbies', 'what_are_your_hobbies', 'what_are_your_hobbies', 'what_are_your_hobbies', 'what_are_your_hobbies', 'what_are_your_hobbies', 'what_are_your_hobbies', 'what_are_your_hobbies', 'what_are_your_hobbies', 'what_are_your_hobbies', 'what_are_your_hobbies', 'what_are_your_hobbies', 'what_are_your_hobbies', 'what_are_your_hobbies', 'what_are_your_hobbies', 'what_are_your_hobbies', 'what_are_your_hobbies', 'what_are_your_hobbies', 'what_are_your_hobbies', 'what_are_your_hobbies', 'what_are_your_hobbies', 'what_are_your_hobbies', 'what_are_your_hobbies', 'what_are_your_hobbies', 'what_are_your_hobbies', 'what_are_your_hobbies', 'what_are_your_hobbies', 'what_are_your_hobbies', 'book_flight', 'book_flight', 'book_flight', 'book_flight', 'book_flight', 'book_flight', 'book_flight', 'book_flight', 'book_flight', 'book_flight', 'book_flight', 'book_flight', 'book_flight', 'book_flight', 'book_flight', 'book_flight', 'book_flight', 'book_flight', 'book_flight', 'book_flight', 'book_flight', 'book_flight', 'book_flight', 'book_flight', 'book_flight', 'book_flight', 'book_flight', 'book_flight', 'book_flight', 'book_flight', 'shopping_list', 'shopping_list', 'shopping_list', 'shopping_list', 'shopping_list', 'shopping_list', 'shopping_list', 'shopping_list', 'shopping_list', 'shopping_list', 'shopping_list', 'shopping_list', 'shopping_list', 'shopping_list', 'shopping_list', 'shopping_list', 'shopping_list', 'shopping_list', 'shopping_list', 'shopping_list', 'shopping_list', 'shopping_list', 'shopping_list', 'shopping_list', 'shopping_list', 'shopping_list', 'shopping_list', 'shopping_list', 'shopping_list', 'shopping_list', 'text', 'text', 'text', 'text', 'text', 'text', 'text', 'text', 'text', 'text', 'text', 'text', 'text', 'text', 'text', 'text', 'text', 'text', 'text', 'text', 'text', 'text', 'text', 'text', 'text', 'text', 'text', 'text', 'text', 'text', 'bill_balance', 'bill_balance', 'bill_balance', 'bill_balance', 'bill_balance', 'bill_balance', 'bill_balance', 'bill_balance', 'bill_balance', 'bill_balance', 'bill_balance', 'bill_balance', 'bill_balance', 'bill_balance', 'bill_balance', 'bill_balance', 'bill_balance', 'bill_balance', 'bill_balance', 'bill_balance', 'bill_balance', 'bill_balance', 'bill_balance', 'bill_balance', 'bill_balance', 'bill_balance', 'bill_balance', 'bill_balance', 'bill_balance', 'bill_balance', 'share_location', 'share_location', 'share_location', 'share_location', 'share_location', 'share_location', 'share_location', 'share_location', 'share_location', 'share_location', 'share_location', 'share_location', 'share_location', 'share_location', 'share_location', 'share_location', 'share_location', 'share_location', 'share_location', 'share_location', 'share_location', 'share_location', 'share_location', 'share_location', 'share_location', 'share_location', 'share_location', 'share_location', 'share_location', 'share_location', 'redeem_rewards', 'redeem_rewards', 'redeem_rewards', 'redeem_rewards', 'redeem_rewards', 'redeem_rewards', 'redeem_rewards', 'redeem_rewards', 'redeem_rewards', 'redeem_rewards', 'redeem_rewards', 'redeem_rewards', 'redeem_rewards', 'redeem_rewards', 'redeem_rewards', 'redeem_rewards', 'redeem_rewards', 'redeem_rewards', 'redeem_rewards', 'redeem_rewards', 'redeem_rewards', 'redeem_rewards', 'redeem_rewards', 'redeem_rewards', 'redeem_rewards', 'redeem_rewards', 'redeem_rewards', 'redeem_rewards', 'redeem_rewards', 'redeem_rewards', 'play_music', 'play_music', 'play_music', 'play_music', 'play_music', 'play_music', 'play_music', 'play_music', 'play_music', 'play_music', 'play_music', 'play_music', 'play_music', 'play_music', 'play_music', 'play_music', 'play_music', 'play_music', 'play_music', 'play_music', 'play_music', 'play_music', 'play_music', 'play_music', 'play_music', 'play_music', 'play_music', 'play_music', 'play_music', 'play_music', 'calendar_update', 'calendar_update', 'calendar_update', 'calendar_update', 'calendar_update', 'calendar_update', 'calendar_update', 'calendar_update', 'calendar_update', 'calendar_update', 'calendar_update', 'calendar_update', 'calendar_update', 'calendar_update', 'calendar_update', 'calendar_update', 'calendar_update', 'calendar_update', 'calendar_update', 'calendar_update', 'calendar_update', 'calendar_update', 'calendar_update', 'calendar_update', 'calendar_update', 'calendar_update', 'calendar_update', 'calendar_update', 'calendar_update', 'calendar_update', 'are_you_a_bot', 'are_you_a_bot', 'are_you_a_bot', 'are_you_a_bot', 'are_you_a_bot', 'are_you_a_bot', 'are_you_a_bot', 'are_you_a_bot', 'are_you_a_bot', 'are_you_a_bot', 'are_you_a_bot', 'are_you_a_bot', 'are_you_a_bot', 'are_you_a_bot', 'are_you_a_bot', 'are_you_a_bot', 'are_you_a_bot', 'are_you_a_bot', 'are_you_a_bot', 'are_you_a_bot', 'are_you_a_bot', 'are_you_a_bot', 'are_you_a_bot', 'are_you_a_bot', 'are_you_a_bot', 'are_you_a_bot', 'are_you_a_bot', 'are_you_a_bot', 'are_you_a_bot', 'are_you_a_bot', 'gas', 'gas', 'gas', 'gas', 'gas', 'gas', 'gas', 'gas', 'gas', 'gas', 'gas', 'gas', 'gas', 'gas', 'gas', 'gas', 'gas', 'gas', 'gas', 'gas', 'gas', 'gas', 'gas', 'gas', 'gas', 'gas', 'gas', 'gas', 'gas', 'gas', 'expiration_date', 'expiration_date', 'expiration_date', 'expiration_date', 'expiration_date', 'expiration_date', 'expiration_date', 'expiration_date', 'expiration_date', 'expiration_date', 'expiration_date', 'expiration_date', 'expiration_date', 'expiration_date', 'expiration_date', 'expiration_date', 'expiration_date', 'expiration_date', 'expiration_date', 'expiration_date', 'expiration_date', 'expiration_date', 'expiration_date', 'expiration_date', 'expiration_date', 'expiration_date', 'expiration_date', 'expiration_date', 'expiration_date', 'expiration_date', 'update_playlist', 'update_playlist', 'update_playlist', 'update_playlist', 'update_playlist', 'update_playlist', 'update_playlist', 'update_playlist', 'update_playlist', 'update_playlist', 'update_playlist', 'update_playlist', 'update_playlist', 'update_playlist', 'update_playlist', 'update_playlist', 'update_playlist', 'update_playlist', 'update_playlist', 'update_playlist', 'update_playlist', 'update_playlist', 'update_playlist', 'update_playlist', 'update_playlist', 'update_playlist', 'update_playlist', 'update_playlist', 'update_playlist', 'update_playlist', 'cancel_reservation', 'cancel_reservation', 'cancel_reservation', 'cancel_reservation', 'cancel_reservation', 'cancel_reservation', 'cancel_reservation', 'cancel_reservation', 'cancel_reservation', 'cancel_reservation', 'cancel_reservation', 'cancel_reservation', 'cancel_reservation', 'cancel_reservation', 'cancel_reservation', 'cancel_reservation', 'cancel_reservation', 'cancel_reservation', 'cancel_reservation', 'cancel_reservation', 'cancel_reservation', 'cancel_reservation', 'cancel_reservation', 'cancel_reservation', 'cancel_reservation', 'cancel_reservation', 'cancel_reservation', 'cancel_reservation', 'cancel_reservation', 'cancel_reservation', 'tell_joke', 'tell_joke', 'tell_joke', 'tell_joke', 'tell_joke', 'tell_joke', 'tell_joke', 'tell_joke', 'tell_joke', 'tell_joke', 'tell_joke', 'tell_joke', 'tell_joke', 'tell_joke', 'tell_joke', 'tell_joke', 'tell_joke', 'tell_joke', 'tell_joke', 'tell_joke', 'tell_joke', 'tell_joke', 'tell_joke', 'tell_joke', 'tell_joke', 'tell_joke', 'tell_joke', 'tell_joke', 'tell_joke', 'tell_joke', 'change_ai_name', 'change_ai_name', 'change_ai_name', 'change_ai_name', 'change_ai_name', 'change_ai_name', 'change_ai_name', 'change_ai_name', 'change_ai_name', 'change_ai_name', 'change_ai_name', 'change_ai_name', 'change_ai_name', 'change_ai_name', 'change_ai_name', 'change_ai_name', 'change_ai_name', 'change_ai_name', 'change_ai_name', 'change_ai_name', 'change_ai_name', 'change_ai_name', 'change_ai_name', 'change_ai_name', 'change_ai_name', 'change_ai_name', 'change_ai_name', 'change_ai_name', 'change_ai_name', 'change_ai_name', 'how_old_are_you', 'how_old_are_you', 'how_old_are_you', 'how_old_are_you', 'how_old_are_you', 'how_old_are_you', 'how_old_are_you', 'how_old_are_you', 'how_old_are_you', 'how_old_are_you', 'how_old_are_you', 'how_old_are_you', 'how_old_are_you', 'how_old_are_you', 'how_old_are_you', 'how_old_are_you', 'how_old_are_you', 'how_old_are_you', 'how_old_are_you', 'how_old_are_you', 'how_old_are_you', 'how_old_are_you', 'how_old_are_you', 'how_old_are_you', 'how_old_are_you', 'how_old_are_you', 'how_old_are_you', 'how_old_are_you', 'how_old_are_you', 'how_old_are_you', 'car_rental', 'car_rental', 'car_rental', 'car_rental', 'car_rental', 'car_rental', 'car_rental', 'car_rental', 'car_rental', 'car_rental', 'car_rental', 'car_rental', 'car_rental', 'car_rental', 'car_rental', 'car_rental', 'car_rental', 'car_rental', 'car_rental', 'car_rental', 'car_rental', 'car_rental', 'car_rental', 'car_rental', 'car_rental', 'car_rental', 'car_rental', 'car_rental', 'car_rental', 'car_rental', 'jump_start', 'jump_start', 'jump_start', 'jump_start', 'jump_start', 'jump_start', 'jump_start', 'jump_start', 'jump_start', 'jump_start', 'jump_start', 'jump_start', 'jump_start', 'jump_start', 'jump_start', 'jump_start', 'jump_start', 'jump_start', 'jump_start', 'jump_start', 'jump_start', 'jump_start', 'jump_start', 'jump_start', 'jump_start', 'jump_start', 'jump_start', 'jump_start', 'jump_start', 'jump_start', 'meal_suggestion', 'meal_suggestion', 'meal_suggestion', 'meal_suggestion', 'meal_suggestion', 'meal_suggestion', 'meal_suggestion', 'meal_suggestion', 'meal_suggestion', 'meal_suggestion', 'meal_suggestion', 'meal_suggestion', 'meal_suggestion', 'meal_suggestion', 'meal_suggestion', 'meal_suggestion', 'meal_suggestion', 'meal_suggestion', 'meal_suggestion', 'meal_suggestion', 'meal_suggestion', 'meal_suggestion', 'meal_suggestion', 'meal_suggestion', 'meal_suggestion', 'meal_suggestion', 'meal_suggestion', 'meal_suggestion', 'meal_suggestion', 'meal_suggestion', 'recipe', 'recipe', 'recipe', 'recipe', 'recipe', 'recipe', 'recipe', 'recipe', 'recipe', 'recipe', 'recipe', 'recipe', 'recipe', 'recipe', 'recipe', 'recipe', 'recipe', 'recipe', 'recipe', 'recipe', 'recipe', 'recipe', 'recipe', 'recipe', 'recipe', 'recipe', 'recipe', 'recipe', 'recipe', 'recipe', 'income', 'income', 'income', 'income', 'income', 'income', 'income', 'income', 'income', 'income', 'income', 'income', 'income', 'income', 'income', 'income', 'income', 'income', 'income', 'income', 'income', 'income', 'income', 'income', 'income', 'income', 'income', 'income', 'income', 'income', 'order', 'order', 'order', 'order', 'order', 'order', 'order', 'order', 'order', 'order', 'order', 'order', 'order', 'order', 'order', 'order', 'order', 'order', 'order', 'order', 'order', 'order', 'order', 'order', 'order', 'order', 'order', 'order', 'order', 'order', 'traffic', 'traffic', 'traffic', 'traffic', 'traffic', 'traffic', 'traffic', 'traffic', 'traffic', 'traffic', 'traffic', 'traffic', 'traffic', 'traffic', 'traffic', 'traffic', 'traffic', 'traffic', 'traffic', 'traffic', 'traffic', 'traffic', 'traffic', 'traffic', 'traffic', 'traffic', 'traffic', 'traffic', 'traffic', 'traffic', 'order_checks', 'order_checks', 'order_checks', 'order_checks', 'order_checks', 'order_checks', 'order_checks', 'order_checks', 'order_checks', 'order_checks', 'order_checks', 'order_checks', 'order_checks', 'order_checks', 'order_checks', 'order_checks', 'order_checks', 'order_checks', 'order_checks', 'order_checks', 'order_checks', 'order_checks', 'order_checks', 'order_checks', 'order_checks', 'order_checks', 'order_checks', 'order_checks', 'order_checks', 'order_checks', 'card_declined', 'card_declined', 'card_declined', 'card_declined', 'card_declined', 'card_declined', 'card_declined', 'card_declined', 'card_declined', 'card_declined', 'card_declined', 'card_declined', 'card_declined', 'card_declined', 'card_declined', 'card_declined', 'card_declined', 'card_declined', 'card_declined', 'card_declined', 'card_declined', 'card_declined', 'card_declined', 'card_declined', 'card_declined', 'card_declined', 'card_declined', 'card_declined', 'card_declined', 'card_declined', 'oos', 'oos', 'oos', 'oos', 'oos', 'oos', 'oos', 'oos', 'oos', 'oos', 'oos', 'oos', 'oos', 'oos', 'oos', 'oos', 'oos', 'oos', 'oos', 'oos', 'oos', 'oos', 'oos', 'oos', 'oos', 'oos', 'oos', 'oos', 'oos', 'oos', 'oos', 'oos', 'oos', 'oos', 'oos', 'oos', 'oos', 'oos', 'oos', 'oos', 'oos', 'oos', 'oos', 'oos', 'oos', 'oos', 'oos', 'oos', 'oos', 'oos', 'oos', 'oos', 'oos', 'oos', 'oos', 'oos', 'oos', 'oos', 'oos', 'oos', 'oos', 'oos', 'oos', 'oos', 'oos', 'oos', 'oos', 'oos', 'oos', 'oos', 'oos', 'oos', 'oos', 'oos', 'oos', 'oos', 'oos', 'oos', 'oos', 'oos', 'oos', 'oos', 'oos', 'oos', 'oos', 'oos', 'oos', 'oos', 'oos', 'oos', 'oos', 'oos', 'oos', 'oos', 'oos', 'oos', 'oos', 'oos', 'oos', 'oos', 'oos', 'oos', 'oos', 'oos', 'oos', 'oos', 'oos', 'oos', 'oos', 'oos', 'oos', 'oos', 'oos', 'oos', 'oos', 'oos', 'oos', 'oos', 'oos', 'oos', 'oos', 'oos', 'oos', 'oos', 'oos', 'oos', 'oos', 'oos', 'oos', 'oos', 'oos', 'oos', 'oos', 'oos', 'oos', 'oos', 'oos', 'oos', 'oos', 'oos', 'oos', 'oos', 'oos', 'oos', 'oos', 'oos', 'oos', 'oos', 'oos', 'oos', 'oos', 'oos', 'oos', 'oos', 'oos', 'oos', 'oos', 'oos', 'oos', 'oos', 'oos', 'oos', 'oos', 'oos', 'oos', 'oos', 'oos', 'oos', 'oos', 'oos', 'oos', 'oos', 'oos', 'oos', 'oos', 'oos', 'oos', 'oos', 'oos', 'oos', 'oos', 'oos', 'oos', 'oos', 'oos', 'oos', 'oos', 'oos', 'oos', 'oos', 'oos', 'oos', 'oos', 'oos', 'oos', 'oos', 'oos', 'oos', 'oos', 'oos', 'oos', 'oos', 'oos', 'oos', 'oos', 'oos', 'oos', 'oos', 'oos', 'oos', 'oos', 'oos', 'oos', 'oos', 'oos', 'oos', 'oos', 'oos', 'oos', 'oos', 'oos', 'oos', 'oos', 'oos', 'oos', 'oos', 'oos', 'oos', 'oos', 'oos', 'oos', 'oos', 'oos', 'oos', 'oos', 'oos', 'oos', 'oos', 'oos', 'oos', 'oos', 'oos', 'oos', 'oos', 'oos', 'oos', 'oos', 'oos', 'oos', 'oos', 'oos', 'oos', 'oos', 'oos', 'oos', 'oos', 'oos', 'oos', 'oos', 'oos', 'oos', 'oos', 'oos', 'oos', 'oos', 'oos', 'oos', 'oos', 'oos', 'oos', 'oos', 'oos', 'oos', 'oos', 'oos', 'oos', 'oos', 'oos', 'oos', 'oos', 'oos', 'oos', 'oos', 'oos', 'oos', 'oos', 'oos', 'oos', 'oos', 'oos', 'oos', 'oos', 'oos', 'oos', 'oos', 'oos', 'oos', 'oos', 'oos', 'oos', 'oos', 'oos', 'oos', 'oos', 'oos', 'oos', 'oos', 'oos', 'oos', 'oos', 'oos', 'oos', 'oos', 'oos', 'oos', 'oos', 'oos', 'oos', 'oos', 'oos', 'oos', 'oos', 'oos', 'oos', 'oos', 'oos', 'oos', 'oos', 'oos', 'oos', 'oos', 'oos', 'oos', 'oos', 'oos', 'oos', 'oos', 'oos', 'oos', 'oos', 'oos', 'oos', 'oos', 'oos', 'oos', 'oos', 'oos', 'oos', 'oos', 'oos', 'oos', 'oos', 'oos', 'oos', 'oos', 'oos', 'oos', 'oos', 'oos', 'oos', 'oos', 'oos', 'oos', 'oos', 'oos', 'oos', 'oos', 'oos', 'oos', 'oos', 'oos', 'oos', 'oos', 'oos', 'oos', 'oos', 'oos', 'oos', 'oos', 'oos', 'oos', 'oos', 'oos', 'oos', 'oos', 'oos', 'oos', 'oos', 'oos', 'oos', 'oos', 'oos', 'oos', 'oos', 'oos', 'oos', 'oos', 'oos', 'oos', 'oos', 'oos', 'oos', 'oos', 'oos', 'oos', 'oos', 'oos', 'oos', 'oos', 'oos', 'oos', 'oos', 'oos', 'oos', 'oos', 'oos', 'oos', 'oos', 'oos', 'oos', 'oos', 'oos', 'oos', 'oos', 'oos', 'oos', 'oos', 'oos', 'oos', 'oos', 'oos', 'oos', 'oos', 'oos', 'oos', 'oos', 'oos', 'oos', 'oos', 'oos', 'oos', 'oos', 'oos', 'oos', 'oos', 'oos', 'oos', 'oos', 'oos', 'oos', 'oos', 'oos', 'oos', 'oos', 'oos', 'oos', 'oos', 'oos', 'oos', 'oos', 'oos', 'oos', 'oos', 'oos', 'oos', 'oos', 'oos', 'oos', 'oos', 'oos', 'oos', 'oos', 'oos', 'oos', 'oos', 'oos', 'oos', 'oos', 'oos', 'oos', 'oos', 'oos', 'oos', 'oos', 'oos', 'oos', 'oos', 'oos', 'oos', 'oos', 'oos', 'oos', 'oos', 'oos', 'oos', 'oos', 'oos', 'oos', 'oos', 'oos', 'oos', 'oos', 'oos', 'oos', 'oos', 'oos', 'oos', 'oos', 'oos', 'oos', 'oos', 'oos', 'oos', 'oos', 'oos', 'oos', 'oos', 'oos', 'oos', 'oos', 'oos', 'oos', 'oos', 'oos', 'oos', 'oos', 'oos', 'oos', 'oos', 'oos', 'oos', 'oos', 'oos', 'oos', 'oos', 'oos', 'oos', 'oos', 'oos', 'oos', 'oos', 'oos', 'oos', 'oos', 'oos', 'oos', 'oos', 'oos', 'oos', 'oos', 'oos', 'oos', 'oos', 'oos', 'oos', 'oos', 'oos', 'oos', 'oos', 'oos', 'oos', 'oos', 'oos', 'oos', 'oos', 'oos', 'oos', 'oos', 'oos', 'oos', 'oos', 'oos', 'oos', 'oos', 'oos', 'oos', 'oos', 'oos', 'oos', 'oos', 'oos', 'oos', 'oos', 'oos', 'oos', 'oos', 'oos', 'oos', 'oos', 'oos', 'oos', 'oos', 'oos', 'oos', 'oos', 'oos', 'oos', 'oos', 'oos', 'oos', 'oos', 'oos', 'oos', 'oos', 'oos', 'oos', 'oos', 'oos', 'oos', 'oos', 'oos', 'oos', 'oos', 'oos', 'oos', 'oos', 'oos', 'oos', 'oos', 'oos', 'oos', 'oos', 'oos', 'oos', 'oos', 'oos', 'oos', 'oos', 'oos', 'oos', 'oos', 'oos', 'oos', 'oos', 'oos', 'oos', 'oos', 'oos', 'oos', 'oos', 'oos', 'oos', 'oos', 'oos', 'oos', 'oos', 'oos', 'oos', 'oos', 'oos', 'oos', 'oos', 'oos', 'oos', 'oos', 'oos', 'oos', 'oos', 'oos', 'oos', 'oos', 'oos', 'oos', 'oos', 'oos', 'oos', 'oos', 'oos', 'oos', 'oos', 'oos', 'oos', 'oos', 'oos', 'oos', 'oos', 'oos', 'oos', 'oos', 'oos', 'oos', 'oos', 'oos', 'oos', 'oos', 'oos', 'oos', 'oos', 'oos', 'oos', 'oos', 'oos', 'oos', 'oos', 'oos', 'oos', 'oos', 'oos', 'oos', 'oos', 'oos', 'oos', 'oos', 'oos', 'oos', 'oos', 'oos', 'oos', 'oos', 'oos', 'oos', 'oos', 'oos', 'oos', 'oos', 'oos', 'oos', 'oos', 'oos', 'oos', 'oos', 'oos', 'oos', 'oos', 'oos', 'oos', 'oos', 'oos', 'oos', 'oos', 'oos', 'oos', 'oos', 'oos', 'oos', 'oos', 'oos', 'oos', 'oos', 'oos', 'oos', 'oos', 'oos', 'oos', 'oos', 'oos', 'oos', 'oos', 'oos', 'oos', 'oos', 'oos', 'oos', 'oos', 'oos', 'oos', 'oos', 'oos', 'oos', 'oos', 'oos', 'oos', 'oos', 'oos', 'oos', 'oos', 'oos', 'oos', 'oos', 'oos', 'oos', 'oos', 'oos', 'oos', 'oos', 'oos', 'oos', 'oos', 'oos', 'oos', 'oos', 'oos', 'oos', 'oos', 'oos', 'oos', 'oos', 'oos', 'oos', 'oos', 'oos', 'oos', 'oos', 'oos', 'oos', 'oos', 'oos', 'oos', 'oos', 'oos', 'oos', 'oos', 'oos', 'oos', 'oos', 'oos', 'oos', 'oos', 'oos', 'oos', 'oos', 'oos', 'oos', 'oos', 'oos', 'oos', 'oos', 'oos', 'oos', 'oos', 'oos', 'oos', 'oos', 'oos', 'oos', 'oos', 'oos', 'oos', 'oos', 'oos', 'oos', 'oos', 'oos', 'oos', 'oos', 'oos', 'oos', 'oos', 'oos', 'oos', 'oos', 'oos', 'oos', 'oos', 'oos', 'oos', 'oos', 'oos', 'oos', 'oos', 'oos', 'oos', 'oos', 'oos', 'oos', 'oos', 'oos', 'oos', 'oos', 'oos', 'oos', 'oos', 'oos', 'oos', 'oos', 'oos', 'oos', 'oos', 'oos', 'oos', 'oos', 'oos', 'oos', 'oos', 'oos', 'oos', 'oos', 'oos', 'oos', 'oos', 'oos', 'oos', 'oos', 'oos', 'oos', 'oos', 'oos', 'oos', 'oos', 'oos', 'oos', 'oos', 'oos', 'oos', 'oos', 'oos', 'oos', 'oos', 'oos', 'oos', 'oos', 'oos', 'oos', 'oos', 'oos', 'oos', 'oos', 'oos', 'oos', 'oos', 'oos', 'oos', 'oos', 'oos', 'oos', 'oos', 'oos', 'oos', 'oos', 'oos', 'oos', 'oos', 'oos', 'oos', 'oos', 'oos', 'oos', 'oos', 'oos', 'oos', 'oos', 'oos', 'oos', 'oos', 'oos', 'oos', 'oos', 'oos', 'oos', 'oos', 'oos', 'oos', 'oos', 'oos', 'oos', 'oos', 'oos', 'oos', 'oos', 'oos', 'oos', 'oos', 'oos', 'oos', 'oos', 'oos', 'oos', 'oos', 'oos', 'oos', 'oos', 'oos', 'oos', 'oos', 'oos', 'oos', 'oos', 'oos', 'oos', 'oos', 'oos', 'oos', 'oos', 'oos', 'oos', 'oos', 'oos', 'oos', 'oos', 'oos', 'oos', 'oos', 'oos', 'oos', 'oos', 'oos', 'oos', 'oos', 'oos', 'oos', 'oos', 'oos', 'oos', 'oos', 'oos', 'oos', 'oos', 'oos', 'oos', 'oos')\n"
          ]
        }
      ]
    },
    {
      "cell_type": "code",
      "source": [
        "from tensorflow.keras.models import Sequential\n",
        "from tensorflow.keras.layers import Dense, Dropout\n",
        "from sklearn.metrics import recall_score\n",
        "import numpy as np\n",
        "import os"
      ],
      "metadata": {
        "id": "RgEhP9iE5bOn"
      },
      "execution_count": 6,
      "outputs": []
    },
    {
      "cell_type": "markdown",
      "source": [
        "everything from here on is including the out-of-distribution data (combined)"
      ],
      "metadata": {
        "id": "Rx6JGKxKTyzq"
      }
    },
    {
      "cell_type": "code",
      "source": [
        "# from sklearn.model_selection import train_test_split\n",
        "# # Load preprocessed data\n",
        "# (X_train, y_train), (X_val, y_val), (X_test, y_test), label_encoder = load_and_preprocess_data()\n",
        "# # Convert y_test from one-hot encoding to label encoding for stratification\n",
        "# y_test_labels = np.argmax(y_test, axis=1)\n",
        "\n",
        "# # Split test set into calibration and final test set (50-50 split)\n",
        "# X_cal, X_test_final, y_cal, y_test_final = train_test_split(\n",
        "#     X_test, y_test, test_size=0.5, random_state=42, stratify=y_test\n",
        "# )\n"
      ],
      "metadata": {
        "id": "kK9ahmBh7X_P"
      },
      "execution_count": 7,
      "outputs": []
    },
    {
      "cell_type": "code",
      "source": [
        "# Define and compile the model\n",
        "# model_MLP = Sequential([\n",
        "#     Dense(200, input_shape=(X_train.shape[1],), activation='tanh'),\n",
        "#     Dropout(0.5),\n",
        "#     Dense(200, activation='tanh'),\n",
        "#     Dropout(0.5),\n",
        "#     Dense(y_train.shape[1], activation='softmax')\n",
        "# ])\n",
        "\n",
        "from sklearn.neural_network import MLPClassifier\n",
        "\n",
        "# Number of unique classes\n",
        "num_classes = len(np.unique(y_train_combined))\n",
        "\n",
        "# Define the MLP model\n",
        "model_MLP = MLPClassifier(\n",
        "    hidden_layer_sizes=(200, 200), # Two hidden layers each with 200 units\n",
        "    activation='tanh',\n",
        "    solver='adam',                # Optimizer\n",
        "    alpha=0,                      # Regularization (L2 penalty), set to 0 for now\n",
        "    batch_size='auto',            # Auto batch size\n",
        "    learning_rate='constant',     # Learning rate schedule\n",
        "    max_iter=200,                 # Maximum number of iterations\n",
        "    shuffle=True,                 # Shuffle data for each epoch\n",
        "    random_state=42,              # Random seed for reproducibility\n",
        "    verbose=True                  # Print out progress\n",
        ")\n",
        "\n",
        "\n",
        "model_MLP.fit(X_train_combined, y_train_combined)\n"
      ],
      "metadata": {
        "colab": {
          "base_uri": "https://localhost:8080/",
          "height": 1000
        },
        "id": "pnidedX-7X81",
        "outputId": "73b6b753-7c13-4d28-98f7-ad6b50933cc5"
      },
      "execution_count": 9,
      "outputs": [
        {
          "output_type": "stream",
          "name": "stdout",
          "text": [
            "Iteration 1, loss = 3.96773398\n",
            "Iteration 2, loss = 1.17215028\n",
            "Iteration 3, loss = 0.47850517\n",
            "Iteration 4, loss = 0.31205548\n",
            "Iteration 5, loss = 0.23570650\n",
            "Iteration 6, loss = 0.18818021\n",
            "Iteration 7, loss = 0.15674429\n",
            "Iteration 8, loss = 0.13202468\n",
            "Iteration 9, loss = 0.11155655\n",
            "Iteration 10, loss = 0.09677796\n",
            "Iteration 11, loss = 0.08315279\n",
            "Iteration 12, loss = 0.07269317\n",
            "Iteration 13, loss = 0.06404950\n",
            "Iteration 14, loss = 0.05624684\n",
            "Iteration 15, loss = 0.04947828\n",
            "Iteration 16, loss = 0.04409805\n",
            "Iteration 17, loss = 0.03923931\n",
            "Iteration 18, loss = 0.03510974\n",
            "Iteration 19, loss = 0.03086062\n",
            "Iteration 20, loss = 0.02813885\n",
            "Iteration 21, loss = 0.02553045\n",
            "Iteration 22, loss = 0.02280518\n",
            "Iteration 23, loss = 0.02073667\n",
            "Iteration 24, loss = 0.01894732\n",
            "Iteration 25, loss = 0.01701186\n",
            "Iteration 26, loss = 0.01623894\n",
            "Iteration 27, loss = 0.01420287\n",
            "Iteration 28, loss = 0.01300334\n",
            "Iteration 29, loss = 0.01189060\n",
            "Iteration 30, loss = 0.01101830\n",
            "Iteration 31, loss = 0.01007789\n",
            "Iteration 32, loss = 0.00956082\n",
            "Iteration 33, loss = 0.00858679\n",
            "Iteration 34, loss = 0.00817163\n",
            "Iteration 35, loss = 0.00729862\n",
            "Iteration 36, loss = 0.00677806\n",
            "Iteration 37, loss = 0.00649779\n",
            "Iteration 38, loss = 0.00597694\n",
            "Iteration 39, loss = 0.00591348\n",
            "Iteration 40, loss = 0.00547836\n",
            "Iteration 41, loss = 0.00492886\n",
            "Iteration 42, loss = 0.00449710\n",
            "Iteration 43, loss = 0.00434001\n",
            "Iteration 44, loss = 0.00415050\n",
            "Iteration 45, loss = 0.00380021\n",
            "Iteration 46, loss = 0.00365472\n",
            "Iteration 47, loss = 0.00344038\n",
            "Iteration 48, loss = 0.00360500\n",
            "Iteration 49, loss = 0.00298110\n",
            "Iteration 50, loss = 0.00351906\n",
            "Iteration 51, loss = 0.00317781\n",
            "Iteration 52, loss = 0.00254280\n",
            "Iteration 53, loss = 0.00231540\n",
            "Iteration 54, loss = 0.00220899\n",
            "Iteration 55, loss = 0.00215475\n",
            "Iteration 56, loss = 0.00200265\n",
            "Iteration 57, loss = 0.00191290\n",
            "Iteration 58, loss = 0.00179702\n",
            "Iteration 59, loss = 0.00212777\n",
            "Iteration 60, loss = 0.00169225\n",
            "Iteration 61, loss = 0.00168460\n",
            "Iteration 62, loss = 0.00143959\n",
            "Iteration 63, loss = 0.00136328\n",
            "Iteration 64, loss = 0.00127933\n",
            "Iteration 65, loss = 0.00126152\n",
            "Iteration 66, loss = 0.00125367\n",
            "Iteration 67, loss = 0.00131524\n",
            "Iteration 68, loss = 0.00107794\n",
            "Iteration 69, loss = 0.00108872\n",
            "Iteration 70, loss = 0.00098406\n",
            "Iteration 71, loss = 0.00145979\n",
            "Iteration 72, loss = 0.00094926\n",
            "Iteration 73, loss = 0.00086599\n",
            "Iteration 74, loss = 0.00080475\n",
            "Iteration 75, loss = 0.00077446\n",
            "Iteration 76, loss = 0.00073110\n",
            "Iteration 77, loss = 0.00069766\n",
            "Iteration 78, loss = 0.00066513\n",
            "Iteration 79, loss = 0.00064699\n",
            "Training loss did not improve more than tol=0.000100 for 10 consecutive epochs. Stopping.\n"
          ]
        },
        {
          "output_type": "execute_result",
          "data": {
            "text/plain": [
              "MLPClassifier(activation='tanh', alpha=0, hidden_layer_sizes=(200, 200),\n",
              "              random_state=42, verbose=True)"
            ],
            "text/html": [
              "<style>#sk-container-id-1 {color: black;background-color: white;}#sk-container-id-1 pre{padding: 0;}#sk-container-id-1 div.sk-toggleable {background-color: white;}#sk-container-id-1 label.sk-toggleable__label {cursor: pointer;display: block;width: 100%;margin-bottom: 0;padding: 0.3em;box-sizing: border-box;text-align: center;}#sk-container-id-1 label.sk-toggleable__label-arrow:before {content: \"▸\";float: left;margin-right: 0.25em;color: #696969;}#sk-container-id-1 label.sk-toggleable__label-arrow:hover:before {color: black;}#sk-container-id-1 div.sk-estimator:hover label.sk-toggleable__label-arrow:before {color: black;}#sk-container-id-1 div.sk-toggleable__content {max-height: 0;max-width: 0;overflow: hidden;text-align: left;background-color: #f0f8ff;}#sk-container-id-1 div.sk-toggleable__content pre {margin: 0.2em;color: black;border-radius: 0.25em;background-color: #f0f8ff;}#sk-container-id-1 input.sk-toggleable__control:checked~div.sk-toggleable__content {max-height: 200px;max-width: 100%;overflow: auto;}#sk-container-id-1 input.sk-toggleable__control:checked~label.sk-toggleable__label-arrow:before {content: \"▾\";}#sk-container-id-1 div.sk-estimator input.sk-toggleable__control:checked~label.sk-toggleable__label {background-color: #d4ebff;}#sk-container-id-1 div.sk-label input.sk-toggleable__control:checked~label.sk-toggleable__label {background-color: #d4ebff;}#sk-container-id-1 input.sk-hidden--visually {border: 0;clip: rect(1px 1px 1px 1px);clip: rect(1px, 1px, 1px, 1px);height: 1px;margin: -1px;overflow: hidden;padding: 0;position: absolute;width: 1px;}#sk-container-id-1 div.sk-estimator {font-family: monospace;background-color: #f0f8ff;border: 1px dotted black;border-radius: 0.25em;box-sizing: border-box;margin-bottom: 0.5em;}#sk-container-id-1 div.sk-estimator:hover {background-color: #d4ebff;}#sk-container-id-1 div.sk-parallel-item::after {content: \"\";width: 100%;border-bottom: 1px solid gray;flex-grow: 1;}#sk-container-id-1 div.sk-label:hover label.sk-toggleable__label {background-color: #d4ebff;}#sk-container-id-1 div.sk-serial::before {content: \"\";position: absolute;border-left: 1px solid gray;box-sizing: border-box;top: 0;bottom: 0;left: 50%;z-index: 0;}#sk-container-id-1 div.sk-serial {display: flex;flex-direction: column;align-items: center;background-color: white;padding-right: 0.2em;padding-left: 0.2em;position: relative;}#sk-container-id-1 div.sk-item {position: relative;z-index: 1;}#sk-container-id-1 div.sk-parallel {display: flex;align-items: stretch;justify-content: center;background-color: white;position: relative;}#sk-container-id-1 div.sk-item::before, #sk-container-id-1 div.sk-parallel-item::before {content: \"\";position: absolute;border-left: 1px solid gray;box-sizing: border-box;top: 0;bottom: 0;left: 50%;z-index: -1;}#sk-container-id-1 div.sk-parallel-item {display: flex;flex-direction: column;z-index: 1;position: relative;background-color: white;}#sk-container-id-1 div.sk-parallel-item:first-child::after {align-self: flex-end;width: 50%;}#sk-container-id-1 div.sk-parallel-item:last-child::after {align-self: flex-start;width: 50%;}#sk-container-id-1 div.sk-parallel-item:only-child::after {width: 0;}#sk-container-id-1 div.sk-dashed-wrapped {border: 1px dashed gray;margin: 0 0.4em 0.5em 0.4em;box-sizing: border-box;padding-bottom: 0.4em;background-color: white;}#sk-container-id-1 div.sk-label label {font-family: monospace;font-weight: bold;display: inline-block;line-height: 1.2em;}#sk-container-id-1 div.sk-label-container {text-align: center;}#sk-container-id-1 div.sk-container {/* jupyter's `normalize.less` sets `[hidden] { display: none; }` but bootstrap.min.css set `[hidden] { display: none !important; }` so we also need the `!important` here to be able to override the default hidden behavior on the sphinx rendered scikit-learn.org. See: https://github.com/scikit-learn/scikit-learn/issues/21755 */display: inline-block !important;position: relative;}#sk-container-id-1 div.sk-text-repr-fallback {display: none;}</style><div id=\"sk-container-id-1\" class=\"sk-top-container\"><div class=\"sk-text-repr-fallback\"><pre>MLPClassifier(activation=&#x27;tanh&#x27;, alpha=0, hidden_layer_sizes=(200, 200),\n",
              "              random_state=42, verbose=True)</pre><b>In a Jupyter environment, please rerun this cell to show the HTML representation or trust the notebook. <br />On GitHub, the HTML representation is unable to render, please try loading this page with nbviewer.org.</b></div><div class=\"sk-container\" hidden><div class=\"sk-item\"><div class=\"sk-estimator sk-toggleable\"><input class=\"sk-toggleable__control sk-hidden--visually\" id=\"sk-estimator-id-1\" type=\"checkbox\" checked><label for=\"sk-estimator-id-1\" class=\"sk-toggleable__label sk-toggleable__label-arrow\">MLPClassifier</label><div class=\"sk-toggleable__content\"><pre>MLPClassifier(activation=&#x27;tanh&#x27;, alpha=0, hidden_layer_sizes=(200, 200),\n",
              "              random_state=42, verbose=True)</pre></div></div></div></div></div>"
            ]
          },
          "metadata": {},
          "execution_count": 9
        }
      ]
    },
    {
      "cell_type": "code",
      "source": [
        "# model_MLP.compile(optimizer='adam', loss='categorical_crossentropy', metrics=['accuracy'])"
      ],
      "metadata": {
        "id": "y0eZxLVgD7qy"
      },
      "execution_count": 12,
      "outputs": []
    },
    {
      "cell_type": "code",
      "source": [
        "X_val_combined.shape"
      ],
      "metadata": {
        "colab": {
          "base_uri": "https://localhost:8080/"
        },
        "id": "WVaGnLYDUWGE",
        "outputId": "652b6e8e-b59f-48cc-bed8-194a458cbeed"
      },
      "execution_count": 14,
      "outputs": [
        {
          "output_type": "execute_result",
          "data": {
            "text/plain": [
              "(3100, 512)"
            ]
          },
          "metadata": {},
          "execution_count": 14
        }
      ]
    },
    {
      "cell_type": "code",
      "source": [
        "X_train_combined.shape"
      ],
      "metadata": {
        "colab": {
          "base_uri": "https://localhost:8080/"
        },
        "id": "GXtYlKhWUfNP",
        "outputId": "0130257e-86c9-4ee8-a850-2f3a13d8bce3"
      },
      "execution_count": 15,
      "outputs": [
        {
          "output_type": "execute_result",
          "data": {
            "text/plain": [
              "(15250, 512)"
            ]
          },
          "metadata": {},
          "execution_count": 15
        }
      ]
    },
    {
      "cell_type": "code",
      "source": [
        "X_test_combined.shape"
      ],
      "metadata": {
        "colab": {
          "base_uri": "https://localhost:8080/"
        },
        "id": "osLfhd66Ukna",
        "outputId": "d3968d68-4858-48f3-ad61-0ee62b55d4be"
      },
      "execution_count": 16,
      "outputs": [
        {
          "output_type": "execute_result",
          "data": {
            "text/plain": [
              "(5500, 512)"
            ]
          },
          "metadata": {},
          "execution_count": 16
        }
      ]
    },
    {
      "cell_type": "code",
      "source": [
        "# Evaluate the model on the test data\n",
        "#test acuuracy - classification repport\n",
        "#https://scikit-learn.org/stable/modules/generated/sklearn.metrics.classification_report.html\n",
        "from sklearn.metrics import accuracy_score\n",
        "y_pred_is = model_MLP.predict(X_test_is)\n",
        "# Calculate accuracy\n",
        "accuracy_is = accuracy_score(y_test_is, y_pred_is)\n",
        "print(\"In-distribution Test Accuracy:\", accuracy_is)\n",
        "\n",
        "\n",
        "y_pred_oos = model_MLP.predict(X_test_oos)\n",
        "# Calculate accuracy\n",
        "accuracy_oos = accuracy_score(y_test_oos, y_pred_oos)\n",
        "print(\"Out-of-distribution Test Accuracy:\", accuracy_oos)\n",
        "\n",
        "\n",
        "y_pred_full = model_MLP.predict(X_test_combined)\n",
        "# Calculate accuracy\n",
        "accuracy_full = accuracy_score(y_test_combined, y_pred_full)\n",
        "print(\"Full Data Test Accuracy:\", accuracy_full)\n",
        "\n",
        "from sklearn.metrics import recall_score\n",
        "# Calculate recall for out-of-scope class\n",
        "recall_oos = recall_score(y_test_oos, y_pred_oos, average='weighted')\n",
        "print(\"Out-of-distribution Recall:\", recall_oos)\n",
        "print(y_test_oos[1:10],y_pred_oos[1:10])"
      ],
      "metadata": {
        "colab": {
          "base_uri": "https://localhost:8080/"
        },
        "id": "nMTo_npOFu92",
        "outputId": "7b2badb3-99f4-4071-a3ea-e2023a6bf963"
      },
      "execution_count": 32,
      "outputs": [
        {
          "output_type": "stream",
          "name": "stdout",
          "text": [
            "In-distribution Test Accuracy: 0.9353333333333333\n",
            "Out-of-distribution Test Accuracy: 0.506\n",
            "Full Data Test Accuracy: 0.8572727272727273\n",
            "Out-of-distribution Recall: 0.506\n",
            "('oos', 'oos', 'oos', 'oos', 'oos', 'oos', 'oos', 'oos', 'oos') ['oos' 'oos' 'smart_home' 'oos' 'order' 'ingredients_list' 'mpg'\n",
            " 'how_old_are_you' 'oos']\n"
          ]
        },
        {
          "output_type": "stream",
          "name": "stderr",
          "text": [
            "/usr/local/lib/python3.10/dist-packages/sklearn/metrics/_classification.py:1344: UndefinedMetricWarning: Recall is ill-defined and being set to 0.0 in labels with no true samples. Use `zero_division` parameter to control this behavior.\n",
            "  _warn_prf(average, modifier, msg_start, len(result))\n"
          ]
        }
      ]
    },
    {
      "cell_type": "code",
      "source": [
        "\n",
        "# # Identify the 'oos' class index\n",
        "# oos_class_index = label_encoder.transform(['oos'])[0]\n",
        "\n",
        "# # Predictions for out-of-scope data\n",
        "# oos_predictions = model_MLP.predict(X_test_final[y_test_final[:, oos_class_index] == 1])\n",
        "# oos_predictions_labels = np.argmax(oos_predictions, axis=-1)\n",
        "\n",
        "# # True labels for out-of-scope data\n",
        "# y_test_oos_true_labels = np.full(oos_predictions_labels.shape, oos_class_index)\n",
        "\n",
        "# # Calculate recall for out-of-scope data\n",
        "# oos_recall = recall_score(y_test_oos_true_labels, oos_predictions_labels, average='micro')\n",
        "# print(\"Out-of-scope Recall:\", oos_recall)\n"
      ],
      "metadata": {
        "colab": {
          "base_uri": "https://localhost:8080/"
        },
        "id": "iuPJxOaSFzbq",
        "outputId": "d5178a72-cef0-4f82-ecdf-cfd878bf2741"
      },
      "execution_count": 63,
      "outputs": [
        {
          "output_type": "stream",
          "name": "stdout",
          "text": [
            "16/16 [==============================] - 0s 2ms/step\n",
            "Out-of-scope Recall: 0.478\n"
          ]
        }
      ]
    },
    {
      "cell_type": "markdown",
      "source": [
        "conformal prediction"
      ],
      "metadata": {
        "id": "zT8gCbriF9a7"
      }
    },
    {
      "cell_type": "code",
      "source": [
        "#  #Convert the target values from one-hot encoding to label encoding\n",
        "\n",
        "# y_train_labels = np.argmax(y_train, axis=1)\n",
        "# y_cal_labels = np.argmax(y_val, axis=1)\n",
        "\n",
        "\n",
        "# from sklearn.neural_network import MLPClassifier\n",
        "# # # Initialize and train the MLP classifier\n",
        "# clf = MLPClassifier(random_state=42).fit(X_train, y_train_labels)\n",
        "\n",
        "# y_pred_proba = clf.predict_proba(X_test)"
      ],
      "metadata": {
        "id": "biYVmcNZF9En"
      },
      "execution_count": 74,
      "outputs": []
    },
    {
      "cell_type": "code",
      "source": [
        "# y_val_labels = np.argmax(y_val, axis=1) #to use in calibration set\n",
        "# y_test_labels = np.argmax(y_test, axis=1)"
      ],
      "metadata": {
        "id": "8I9O_bKddvrO"
      },
      "execution_count": 24,
      "outputs": []
    },
    {
      "cell_type": "code",
      "source": [
        "!pip install mapie"
      ],
      "metadata": {
        "colab": {
          "base_uri": "https://localhost:8080/"
        },
        "id": "EfRbxzxkYKb1",
        "outputId": "28f8296b-a44f-48ca-9f7c-37df4430bd92"
      },
      "execution_count": 22,
      "outputs": [
        {
          "output_type": "stream",
          "name": "stdout",
          "text": [
            "Collecting mapie\n",
            "  Downloading MAPIE-0.7.0-py3-none-any.whl (132 kB)\n",
            "\u001b[?25l     \u001b[90m━━━━━━━━━━━━━━━━━━━━━━━━━━━━━━━━━━━━━━━━\u001b[0m \u001b[32m0.0/132.5 kB\u001b[0m \u001b[31m?\u001b[0m eta \u001b[36m-:--:--\u001b[0m\r\u001b[2K     \u001b[90m━━━━━━━━━━━━━━━━━━━━━━━━━━━━━━━━━━━━━━━━\u001b[0m \u001b[32m132.5/132.5 kB\u001b[0m \u001b[31m4.0 MB/s\u001b[0m eta \u001b[36m0:00:00\u001b[0m\n",
            "\u001b[?25hRequirement already satisfied: scikit-learn in /usr/local/lib/python3.10/dist-packages (from mapie) (1.2.2)\n",
            "Requirement already satisfied: scipy in /usr/local/lib/python3.10/dist-packages (from mapie) (1.11.3)\n",
            "Requirement already satisfied: numpy>=1.21 in /usr/local/lib/python3.10/dist-packages (from mapie) (1.23.5)\n",
            "Requirement already satisfied: packaging in /usr/local/lib/python3.10/dist-packages (from mapie) (23.2)\n",
            "Requirement already satisfied: joblib>=1.1.1 in /usr/local/lib/python3.10/dist-packages (from scikit-learn->mapie) (1.3.2)\n",
            "Requirement already satisfied: threadpoolctl>=2.0.0 in /usr/local/lib/python3.10/dist-packages (from scikit-learn->mapie) (3.2.0)\n",
            "Installing collected packages: mapie\n",
            "Successfully installed mapie-0.7.0\n"
          ]
        }
      ]
    },
    {
      "cell_type": "code",
      "source": [
        "\n",
        "# y_test_oos\n",
        "# # Convert labels to integers using LabelEncoder, fitting on the combined label set\n",
        "# label_encoder = LabelEncoder()\n",
        "# y_train_oos = label_encoder.fit_transform(y_train_oos)\n",
        "# y_val_oos = label_encoder.transform(y_val_oos)\n",
        "# y_test_oos = label_encoder.transform(y_test_oos)\n",
        "\n",
        "# # # Convert integer labels to one-hot encoding\n",
        "# y_train_oos = to_categorical(y_train_oos)\n",
        "# y_val_oos = to_categorical(y_val_oos)\n",
        "# y_test_oos = to_categorical(y_test_oos)\n",
        "\n",
        "\n",
        "# y_val_oos_labels = np.argmax(y_val_oos, axis=1)"
      ],
      "metadata": {
        "id": "JjN1R0ZPgTkY"
      },
      "execution_count": 78,
      "outputs": []
    },
    {
      "cell_type": "code",
      "source": [
        "# # X_train, y_train = zip(*[(embedding, label) for embedding, label in data[\"train\"]])\n",
        "# # X_val, y_val = zip(*[(embedding, label) for embedding, label in data[\"val\"]])\n",
        "# X_test, y_test = zip(*[(embedding, label) for embedding, label in data[\"test\"]])\n",
        "# print(y_test)\n",
        "# # X_train = np.array(X_train)\n",
        "# #X_val = np.array(X_val)\n",
        "# X_test = np.array(X_test)\n",
        "\n",
        "\n",
        "# # Convert labels to integers using LabelEncoder, fitting on the combined label set\n",
        "# label_encoder = LabelEncoder()\n",
        "# y_train = label_encoder.fit_transform(y_train)\n",
        "# # y_val = label_encoder.transform(y_val)\n",
        "# y_test = label_encoder.transform(y_test)\n",
        "\n",
        "# # # Convert integer labels to one-hot encoding\n",
        "# # y_train = to_categorical(y_train)\n",
        "# # y_val = to_categorical(y_val)\n",
        "# y_test = to_categorical(y_test)\n"
      ],
      "metadata": {
        "colab": {
          "base_uri": "https://localhost:8080/",
          "height": 437
        },
        "id": "ZixNrSIEAVOc",
        "outputId": "dddca0b5-6665-45fb-b86a-d05b2481e55c"
      },
      "execution_count": 88,
      "outputs": [
        {
          "output_type": "stream",
          "name": "stdout",
          "text": [
            "('translate', 'translate', 'translate', 'translate', 'translate', 'translate', 'translate', 'translate', 'translate', 'translate', 'translate', 'translate', 'translate', 'translate', 'translate', 'translate', 'translate', 'translate', 'translate', 'translate', 'translate', 'translate', 'translate', 'translate', 'translate', 'translate', 'translate', 'translate', 'translate', 'translate', 'transfer', 'transfer', 'transfer', 'transfer', 'transfer', 'transfer', 'transfer', 'transfer', 'transfer', 'transfer', 'transfer', 'transfer', 'transfer', 'transfer', 'transfer', 'transfer', 'transfer', 'transfer', 'transfer', 'transfer', 'transfer', 'transfer', 'transfer', 'transfer', 'transfer', 'transfer', 'transfer', 'transfer', 'transfer', 'transfer', 'timer', 'timer', 'timer', 'timer', 'timer', 'timer', 'timer', 'timer', 'timer', 'timer', 'timer', 'timer', 'timer', 'timer', 'timer', 'timer', 'timer', 'timer', 'timer', 'timer', 'timer', 'timer', 'timer', 'timer', 'timer', 'timer', 'timer', 'timer', 'timer', 'timer', 'definition', 'definition', 'definition', 'definition', 'definition', 'definition', 'definition', 'definition', 'definition', 'definition', 'definition', 'definition', 'definition', 'definition', 'definition', 'definition', 'definition', 'definition', 'definition', 'definition', 'definition', 'definition', 'definition', 'definition', 'definition', 'definition', 'definition', 'definition', 'definition', 'definition', 'meaning_of_life', 'meaning_of_life', 'meaning_of_life', 'meaning_of_life', 'meaning_of_life', 'meaning_of_life', 'meaning_of_life', 'meaning_of_life', 'meaning_of_life', 'meaning_of_life', 'meaning_of_life', 'meaning_of_life', 'meaning_of_life', 'meaning_of_life', 'meaning_of_life', 'meaning_of_life', 'meaning_of_life', 'meaning_of_life', 'meaning_of_life', 'meaning_of_life', 'meaning_of_life', 'meaning_of_life', 'meaning_of_life', 'meaning_of_life', 'meaning_of_life', 'meaning_of_life', 'meaning_of_life', 'meaning_of_life', 'meaning_of_life', 'meaning_of_life', 'insurance_change', 'insurance_change', 'insurance_change', 'insurance_change', 'insurance_change', 'insurance_change', 'insurance_change', 'insurance_change', 'insurance_change', 'insurance_change', 'insurance_change', 'insurance_change', 'insurance_change', 'insurance_change', 'insurance_change', 'insurance_change', 'insurance_change', 'insurance_change', 'insurance_change', 'insurance_change', 'insurance_change', 'insurance_change', 'insurance_change', 'insurance_change', 'insurance_change', 'insurance_change', 'insurance_change', 'insurance_change', 'insurance_change', 'insurance_change', 'find_phone', 'find_phone', 'find_phone', 'find_phone', 'find_phone', 'find_phone', 'find_phone', 'find_phone', 'find_phone', 'find_phone', 'find_phone', 'find_phone', 'find_phone', 'find_phone', 'find_phone', 'find_phone', 'find_phone', 'find_phone', 'find_phone', 'find_phone', 'find_phone', 'find_phone', 'find_phone', 'find_phone', 'find_phone', 'find_phone', 'find_phone', 'find_phone', 'find_phone', 'find_phone', 'travel_alert', 'travel_alert', 'travel_alert', 'travel_alert', 'travel_alert', 'travel_alert', 'travel_alert', 'travel_alert', 'travel_alert', 'travel_alert', 'travel_alert', 'travel_alert', 'travel_alert', 'travel_alert', 'travel_alert', 'travel_alert', 'travel_alert', 'travel_alert', 'travel_alert', 'travel_alert', 'travel_alert', 'travel_alert', 'travel_alert', 'travel_alert', 'travel_alert', 'travel_alert', 'travel_alert', 'travel_alert', 'travel_alert', 'travel_alert', 'pto_request', 'pto_request', 'pto_request', 'pto_request', 'pto_request', 'pto_request', 'pto_request', 'pto_request', 'pto_request', 'pto_request', 'pto_request', 'pto_request', 'pto_request', 'pto_request', 'pto_request', 'pto_request', 'pto_request', 'pto_request', 'pto_request', 'pto_request', 'pto_request', 'pto_request', 'pto_request', 'pto_request', 'pto_request', 'pto_request', 'pto_request', 'pto_request', 'pto_request', 'pto_request', 'improve_credit_score', 'improve_credit_score', 'improve_credit_score', 'improve_credit_score', 'improve_credit_score', 'improve_credit_score', 'improve_credit_score', 'improve_credit_score', 'improve_credit_score', 'improve_credit_score', 'improve_credit_score', 'improve_credit_score', 'improve_credit_score', 'improve_credit_score', 'improve_credit_score', 'improve_credit_score', 'improve_credit_score', 'improve_credit_score', 'improve_credit_score', 'improve_credit_score', 'improve_credit_score', 'improve_credit_score', 'improve_credit_score', 'improve_credit_score', 'improve_credit_score', 'improve_credit_score', 'improve_credit_score', 'improve_credit_score', 'improve_credit_score', 'improve_credit_score', 'fun_fact', 'fun_fact', 'fun_fact', 'fun_fact', 'fun_fact', 'fun_fact', 'fun_fact', 'fun_fact', 'fun_fact', 'fun_fact', 'fun_fact', 'fun_fact', 'fun_fact', 'fun_fact', 'fun_fact', 'fun_fact', 'fun_fact', 'fun_fact', 'fun_fact', 'fun_fact', 'fun_fact', 'fun_fact', 'fun_fact', 'fun_fact', 'fun_fact', 'fun_fact', 'fun_fact', 'fun_fact', 'fun_fact', 'fun_fact', 'change_language', 'change_language', 'change_language', 'change_language', 'change_language', 'change_language', 'change_language', 'change_language', 'change_language', 'change_language', 'change_language', 'change_language', 'change_language', 'change_language', 'change_language', 'change_language', 'change_language', 'change_language', 'change_language', 'change_language', 'change_language', 'change_language', 'change_language', 'change_language', 'change_language', 'change_language', 'change_language', 'change_language', 'change_language', 'change_language', 'payday', 'payday', 'payday', 'payday', 'payday', 'payday', 'payday', 'payday', 'payday', 'payday', 'payday', 'payday', 'payday', 'payday', 'payday', 'payday', 'payday', 'payday', 'payday', 'payday', 'payday', 'payday', 'payday', 'payday', 'payday', 'payday', 'payday', 'payday', 'payday', 'payday', 'replacement_card_duration', 'replacement_card_duration', 'replacement_card_duration', 'replacement_card_duration', 'replacement_card_duration', 'replacement_card_duration', 'replacement_card_duration', 'replacement_card_duration', 'replacement_card_duration', 'replacement_card_duration', 'replacement_card_duration', 'replacement_card_duration', 'replacement_card_duration', 'replacement_card_duration', 'replacement_card_duration', 'replacement_card_duration', 'replacement_card_duration', 'replacement_card_duration', 'replacement_card_duration', 'replacement_card_duration', 'replacement_card_duration', 'replacement_card_duration', 'replacement_card_duration', 'replacement_card_duration', 'replacement_card_duration', 'replacement_card_duration', 'replacement_card_duration', 'replacement_card_duration', 'replacement_card_duration', 'replacement_card_duration', 'time', 'time', 'time', 'time', 'time', 'time', 'time', 'time', 'time', 'time', 'time', 'time', 'time', 'time', 'time', 'time', 'time', 'time', 'time', 'time', 'time', 'time', 'time', 'time', 'time', 'time', 'time', 'time', 'time', 'time', 'application_status', 'application_status', 'application_status', 'application_status', 'application_status', 'application_status', 'application_status', 'application_status', 'application_status', 'application_status', 'application_status', 'application_status', 'application_status', 'application_status', 'application_status', 'application_status', 'application_status', 'application_status', 'application_status', 'application_status', 'application_status', 'application_status', 'application_status', 'application_status', 'application_status', 'application_status', 'application_status', 'application_status', 'application_status', 'application_status', 'flight_status', 'flight_status', 'flight_status', 'flight_status', 'flight_status', 'flight_status', 'flight_status', 'flight_status', 'flight_status', 'flight_status', 'flight_status', 'flight_status', 'flight_status', 'flight_status', 'flight_status', 'flight_status', 'flight_status', 'flight_status', 'flight_status', 'flight_status', 'flight_status', 'flight_status', 'flight_status', 'flight_status', 'flight_status', 'flight_status', 'flight_status', 'flight_status', 'flight_status', 'flight_status', 'flip_coin', 'flip_coin', 'flip_coin', 'flip_coin', 'flip_coin', 'flip_coin', 'flip_coin', 'flip_coin', 'flip_coin', 'flip_coin', 'flip_coin', 'flip_coin', 'flip_coin', 'flip_coin', 'flip_coin', 'flip_coin', 'flip_coin', 'flip_coin', 'flip_coin', 'flip_coin', 'flip_coin', 'flip_coin', 'flip_coin', 'flip_coin', 'flip_coin', 'flip_coin', 'flip_coin', 'flip_coin', 'flip_coin', 'flip_coin', 'change_user_name', 'change_user_name', 'change_user_name', 'change_user_name', 'change_user_name', 'change_user_name', 'change_user_name', 'change_user_name', 'change_user_name', 'change_user_name', 'change_user_name', 'change_user_name', 'change_user_name', 'change_user_name', 'change_user_name', 'change_user_name', 'change_user_name', 'change_user_name', 'change_user_name', 'change_user_name', 'change_user_name', 'change_user_name', 'change_user_name', 'change_user_name', 'change_user_name', 'change_user_name', 'change_user_name', 'change_user_name', 'change_user_name', 'change_user_name', 'where_are_you_from', 'where_are_you_from', 'where_are_you_from', 'where_are_you_from', 'where_are_you_from', 'where_are_you_from', 'where_are_you_from', 'where_are_you_from', 'where_are_you_from', 'where_are_you_from', 'where_are_you_from', 'where_are_you_from', 'where_are_you_from', 'where_are_you_from', 'where_are_you_from', 'where_are_you_from', 'where_are_you_from', 'where_are_you_from', 'where_are_you_from', 'where_are_you_from', 'where_are_you_from', 'where_are_you_from', 'where_are_you_from', 'where_are_you_from', 'where_are_you_from', 'where_are_you_from', 'where_are_you_from', 'where_are_you_from', 'where_are_you_from', 'where_are_you_from', 'shopping_list_update', 'shopping_list_update', 'shopping_list_update', 'shopping_list_update', 'shopping_list_update', 'shopping_list_update', 'shopping_list_update', 'shopping_list_update', 'shopping_list_update', 'shopping_list_update', 'shopping_list_update', 'shopping_list_update', 'shopping_list_update', 'shopping_list_update', 'shopping_list_update', 'shopping_list_update', 'shopping_list_update', 'shopping_list_update', 'shopping_list_update', 'shopping_list_update', 'shopping_list_update', 'shopping_list_update', 'shopping_list_update', 'shopping_list_update', 'shopping_list_update', 'shopping_list_update', 'shopping_list_update', 'shopping_list_update', 'shopping_list_update', 'shopping_list_update', 'what_can_i_ask_you', 'what_can_i_ask_you', 'what_can_i_ask_you', 'what_can_i_ask_you', 'what_can_i_ask_you', 'what_can_i_ask_you', 'what_can_i_ask_you', 'what_can_i_ask_you', 'what_can_i_ask_you', 'what_can_i_ask_you', 'what_can_i_ask_you', 'what_can_i_ask_you', 'what_can_i_ask_you', 'what_can_i_ask_you', 'what_can_i_ask_you', 'what_can_i_ask_you', 'what_can_i_ask_you', 'what_can_i_ask_you', 'what_can_i_ask_you', 'what_can_i_ask_you', 'what_can_i_ask_you', 'what_can_i_ask_you', 'what_can_i_ask_you', 'what_can_i_ask_you', 'what_can_i_ask_you', 'what_can_i_ask_you', 'what_can_i_ask_you', 'what_can_i_ask_you', 'what_can_i_ask_you', 'what_can_i_ask_you', 'maybe', 'maybe', 'maybe', 'maybe', 'maybe', 'maybe', 'maybe', 'maybe', 'maybe', 'maybe', 'maybe', 'maybe', 'maybe', 'maybe', 'maybe', 'maybe', 'maybe', 'maybe', 'maybe', 'maybe', 'maybe', 'maybe', 'maybe', 'maybe', 'maybe', 'maybe', 'maybe', 'maybe', 'maybe', 'maybe', 'oil_change_how', 'oil_change_how', 'oil_change_how', 'oil_change_how', 'oil_change_how', 'oil_change_how', 'oil_change_how', 'oil_change_how', 'oil_change_how', 'oil_change_how', 'oil_change_how', 'oil_change_how', 'oil_change_how', 'oil_change_how', 'oil_change_how', 'oil_change_how', 'oil_change_how', 'oil_change_how', 'oil_change_how', 'oil_change_how', 'oil_change_how', 'oil_change_how', 'oil_change_how', 'oil_change_how', 'oil_change_how', 'oil_change_how', 'oil_change_how', 'oil_change_how', 'oil_change_how', 'oil_change_how', 'restaurant_reservation', 'restaurant_reservation', 'restaurant_reservation', 'restaurant_reservation', 'restaurant_reservation', 'restaurant_reservation', 'restaurant_reservation', 'restaurant_reservation', 'restaurant_reservation', 'restaurant_reservation', 'restaurant_reservation', 'restaurant_reservation', 'restaurant_reservation', 'restaurant_reservation', 'restaurant_reservation', 'restaurant_reservation', 'restaurant_reservation', 'restaurant_reservation', 'restaurant_reservation', 'restaurant_reservation', 'restaurant_reservation', 'restaurant_reservation', 'restaurant_reservation', 'restaurant_reservation', 'restaurant_reservation', 'restaurant_reservation', 'restaurant_reservation', 'restaurant_reservation', 'restaurant_reservation', 'restaurant_reservation', 'balance', 'balance', 'balance', 'balance', 'balance', 'balance', 'balance', 'balance', 'balance', 'balance', 'balance', 'balance', 'balance', 'balance', 'balance', 'balance', 'balance', 'balance', 'balance', 'balance', 'balance', 'balance', 'balance', 'balance', 'balance', 'balance', 'balance', 'balance', 'balance', 'balance', 'confirm_reservation', 'confirm_reservation', 'confirm_reservation', 'confirm_reservation', 'confirm_reservation', 'confirm_reservation', 'confirm_reservation', 'confirm_reservation', 'confirm_reservation', 'confirm_reservation', 'confirm_reservation', 'confirm_reservation', 'confirm_reservation', 'confirm_reservation', 'confirm_reservation', 'confirm_reservation', 'confirm_reservation', 'confirm_reservation', 'confirm_reservation', 'confirm_reservation', 'confirm_reservation', 'confirm_reservation', 'confirm_reservation', 'confirm_reservation', 'confirm_reservation', 'confirm_reservation', 'confirm_reservation', 'confirm_reservation', 'confirm_reservation', 'confirm_reservation', 'freeze_account', 'freeze_account', 'freeze_account', 'freeze_account', 'freeze_account', 'freeze_account', 'freeze_account', 'freeze_account', 'freeze_account', 'freeze_account', 'freeze_account', 'freeze_account', 'freeze_account', 'freeze_account', 'freeze_account', 'freeze_account', 'freeze_account', 'freeze_account', 'freeze_account', 'freeze_account', 'freeze_account', 'freeze_account', 'freeze_account', 'freeze_account', 'freeze_account', 'freeze_account', 'freeze_account', 'freeze_account', 'freeze_account', 'freeze_account', 'rollover_401k', 'rollover_401k', 'rollover_401k', 'rollover_401k', 'rollover_401k', 'rollover_401k', 'rollover_401k', 'rollover_401k', 'rollover_401k', 'rollover_401k', 'rollover_401k', 'rollover_401k', 'rollover_401k', 'rollover_401k', 'rollover_401k', 'rollover_401k', 'rollover_401k', 'rollover_401k', 'rollover_401k', 'rollover_401k', 'rollover_401k', 'rollover_401k', 'rollover_401k', 'rollover_401k', 'rollover_401k', 'rollover_401k', 'rollover_401k', 'rollover_401k', 'rollover_401k', 'rollover_401k', 'who_made_you', 'who_made_you', 'who_made_you', 'who_made_you', 'who_made_you', 'who_made_you', 'who_made_you', 'who_made_you', 'who_made_you', 'who_made_you', 'who_made_you', 'who_made_you', 'who_made_you', 'who_made_you', 'who_made_you', 'who_made_you', 'who_made_you', 'who_made_you', 'who_made_you', 'who_made_you', 'who_made_you', 'who_made_you', 'who_made_you', 'who_made_you', 'who_made_you', 'who_made_you', 'who_made_you', 'who_made_you', 'who_made_you', 'who_made_you', 'distance', 'distance', 'distance', 'distance', 'distance', 'distance', 'distance', 'distance', 'distance', 'distance', 'distance', 'distance', 'distance', 'distance', 'distance', 'distance', 'distance', 'distance', 'distance', 'distance', 'distance', 'distance', 'distance', 'distance', 'distance', 'distance', 'distance', 'distance', 'distance', 'distance', 'user_name', 'user_name', 'user_name', 'user_name', 'user_name', 'user_name', 'user_name', 'user_name', 'user_name', 'user_name', 'user_name', 'user_name', 'user_name', 'user_name', 'user_name', 'user_name', 'user_name', 'user_name', 'user_name', 'user_name', 'user_name', 'user_name', 'user_name', 'user_name', 'user_name', 'user_name', 'user_name', 'user_name', 'user_name', 'user_name', 'timezone', 'timezone', 'timezone', 'timezone', 'timezone', 'timezone', 'timezone', 'timezone', 'timezone', 'timezone', 'timezone', 'timezone', 'timezone', 'timezone', 'timezone', 'timezone', 'timezone', 'timezone', 'timezone', 'timezone', 'timezone', 'timezone', 'timezone', 'timezone', 'timezone', 'timezone', 'timezone', 'timezone', 'timezone', 'timezone', 'next_song', 'next_song', 'next_song', 'next_song', 'next_song', 'next_song', 'next_song', 'next_song', 'next_song', 'next_song', 'next_song', 'next_song', 'next_song', 'next_song', 'next_song', 'next_song', 'next_song', 'next_song', 'next_song', 'next_song', 'next_song', 'next_song', 'next_song', 'next_song', 'next_song', 'next_song', 'next_song', 'next_song', 'next_song', 'next_song', 'transactions', 'transactions', 'transactions', 'transactions', 'transactions', 'transactions', 'transactions', 'transactions', 'transactions', 'transactions', 'transactions', 'transactions', 'transactions', 'transactions', 'transactions', 'transactions', 'transactions', 'transactions', 'transactions', 'transactions', 'transactions', 'transactions', 'transactions', 'transactions', 'transactions', 'transactions', 'transactions', 'transactions', 'transactions', 'transactions', 'restaurant_suggestion', 'restaurant_suggestion', 'restaurant_suggestion', 'restaurant_suggestion', 'restaurant_suggestion', 'restaurant_suggestion', 'restaurant_suggestion', 'restaurant_suggestion', 'restaurant_suggestion', 'restaurant_suggestion', 'restaurant_suggestion', 'restaurant_suggestion', 'restaurant_suggestion', 'restaurant_suggestion', 'restaurant_suggestion', 'restaurant_suggestion', 'restaurant_suggestion', 'restaurant_suggestion', 'restaurant_suggestion', 'restaurant_suggestion', 'restaurant_suggestion', 'restaurant_suggestion', 'restaurant_suggestion', 'restaurant_suggestion', 'restaurant_suggestion', 'restaurant_suggestion', 'restaurant_suggestion', 'restaurant_suggestion', 'restaurant_suggestion', 'restaurant_suggestion', 'rewards_balance', 'rewards_balance', 'rewards_balance', 'rewards_balance', 'rewards_balance', 'rewards_balance', 'rewards_balance', 'rewards_balance', 'rewards_balance', 'rewards_balance', 'rewards_balance', 'rewards_balance', 'rewards_balance', 'rewards_balance', 'rewards_balance', 'rewards_balance', 'rewards_balance', 'rewards_balance', 'rewards_balance', 'rewards_balance', 'rewards_balance', 'rewards_balance', 'rewards_balance', 'rewards_balance', 'rewards_balance', 'rewards_balance', 'rewards_balance', 'rewards_balance', 'rewards_balance', 'rewards_balance', 'pay_bill', 'pay_bill', 'pay_bill', 'pay_bill', 'pay_bill', 'pay_bill', 'pay_bill', 'pay_bill', 'pay_bill', 'pay_bill', 'pay_bill', 'pay_bill', 'pay_bill', 'pay_bill', 'pay_bill', 'pay_bill', 'pay_bill', 'pay_bill', 'pay_bill', 'pay_bill', 'pay_bill', 'pay_bill', 'pay_bill', 'pay_bill', 'pay_bill', 'pay_bill', 'pay_bill', 'pay_bill', 'pay_bill', 'pay_bill', 'spending_history', 'spending_history', 'spending_history', 'spending_history', 'spending_history', 'spending_history', 'spending_history', 'spending_history', 'spending_history', 'spending_history', 'spending_history', 'spending_history', 'spending_history', 'spending_history', 'spending_history', 'spending_history', 'spending_history', 'spending_history', 'spending_history', 'spending_history', 'spending_history', 'spending_history', 'spending_history', 'spending_history', 'spending_history', 'spending_history', 'spending_history', 'spending_history', 'spending_history', 'spending_history', 'pto_request_status', 'pto_request_status', 'pto_request_status', 'pto_request_status', 'pto_request_status', 'pto_request_status', 'pto_request_status', 'pto_request_status', 'pto_request_status', 'pto_request_status', 'pto_request_status', 'pto_request_status', 'pto_request_status', 'pto_request_status', 'pto_request_status', 'pto_request_status', 'pto_request_status', 'pto_request_status', 'pto_request_status', 'pto_request_status', 'pto_request_status', 'pto_request_status', 'pto_request_status', 'pto_request_status', 'pto_request_status', 'pto_request_status', 'pto_request_status', 'pto_request_status', 'pto_request_status', 'pto_request_status', 'credit_score', 'credit_score', 'credit_score', 'credit_score', 'credit_score', 'credit_score', 'credit_score', 'credit_score', 'credit_score', 'credit_score', 'credit_score', 'credit_score', 'credit_score', 'credit_score', 'credit_score', 'credit_score', 'credit_score', 'credit_score', 'credit_score', 'credit_score', 'credit_score', 'credit_score', 'credit_score', 'credit_score', 'credit_score', 'credit_score', 'credit_score', 'credit_score', 'credit_score', 'credit_score', 'new_card', 'new_card', 'new_card', 'new_card', 'new_card', 'new_card', 'new_card', 'new_card', 'new_card', 'new_card', 'new_card', 'new_card', 'new_card', 'new_card', 'new_card', 'new_card', 'new_card', 'new_card', 'new_card', 'new_card', 'new_card', 'new_card', 'new_card', 'new_card', 'new_card', 'new_card', 'new_card', 'new_card', 'new_card', 'new_card', 'lost_luggage', 'lost_luggage', 'lost_luggage', 'lost_luggage', 'lost_luggage', 'lost_luggage', 'lost_luggage', 'lost_luggage', 'lost_luggage', 'lost_luggage', 'lost_luggage', 'lost_luggage', 'lost_luggage', 'lost_luggage', 'lost_luggage', 'lost_luggage', 'lost_luggage', 'lost_luggage', 'lost_luggage', 'lost_luggage', 'lost_luggage', 'lost_luggage', 'lost_luggage', 'lost_luggage', 'lost_luggage', 'lost_luggage', 'lost_luggage', 'lost_luggage', 'lost_luggage', 'lost_luggage', 'repeat', 'repeat', 'repeat', 'repeat', 'repeat', 'repeat', 'repeat', 'repeat', 'repeat', 'repeat', 'repeat', 'repeat', 'repeat', 'repeat', 'repeat', 'repeat', 'repeat', 'repeat', 'repeat', 'repeat', 'repeat', 'repeat', 'repeat', 'repeat', 'repeat', 'repeat', 'repeat', 'repeat', 'repeat', 'repeat', 'mpg', 'mpg', 'mpg', 'mpg', 'mpg', 'mpg', 'mpg', 'mpg', 'mpg', 'mpg', 'mpg', 'mpg', 'mpg', 'mpg', 'mpg', 'mpg', 'mpg', 'mpg', 'mpg', 'mpg', 'mpg', 'mpg', 'mpg', 'mpg', 'mpg', 'mpg', 'mpg', 'mpg', 'mpg', 'mpg', 'oil_change_when', 'oil_change_when', 'oil_change_when', 'oil_change_when', 'oil_change_when', 'oil_change_when', 'oil_change_when', 'oil_change_when', 'oil_change_when', 'oil_change_when', 'oil_change_when', 'oil_change_when', 'oil_change_when', 'oil_change_when', 'oil_change_when', 'oil_change_when', 'oil_change_when', 'oil_change_when', 'oil_change_when', 'oil_change_when', 'oil_change_when', 'oil_change_when', 'oil_change_when', 'oil_change_when', 'oil_change_when', 'oil_change_when', 'oil_change_when', 'oil_change_when', 'oil_change_when', 'oil_change_when', 'yes', 'yes', 'yes', 'yes', 'yes', 'yes', 'yes', 'yes', 'yes', 'yes', 'yes', 'yes', 'yes', 'yes', 'yes', 'yes', 'yes', 'yes', 'yes', 'yes', 'yes', 'yes', 'yes', 'yes', 'yes', 'yes', 'yes', 'yes', 'yes', 'yes', 'travel_suggestion', 'travel_suggestion', 'travel_suggestion', 'travel_suggestion', 'travel_suggestion', 'travel_suggestion', 'travel_suggestion', 'travel_suggestion', 'travel_suggestion', 'travel_suggestion', 'travel_suggestion', 'travel_suggestion', 'travel_suggestion', 'travel_suggestion', 'travel_suggestion', 'travel_suggestion', 'travel_suggestion', 'travel_suggestion', 'travel_suggestion', 'travel_suggestion', 'travel_suggestion', 'travel_suggestion', 'travel_suggestion', 'travel_suggestion', 'travel_suggestion', 'travel_suggestion', 'travel_suggestion', 'travel_suggestion', 'travel_suggestion', 'travel_suggestion', 'insurance', 'insurance', 'insurance', 'insurance', 'insurance', 'insurance', 'insurance', 'insurance', 'insurance', 'insurance', 'insurance', 'insurance', 'insurance', 'insurance', 'insurance', 'insurance', 'insurance', 'insurance', 'insurance', 'insurance', 'insurance', 'insurance', 'insurance', 'insurance', 'insurance', 'insurance', 'insurance', 'insurance', 'insurance', 'insurance', 'todo_list_update', 'todo_list_update', 'todo_list_update', 'todo_list_update', 'todo_list_update', 'todo_list_update', 'todo_list_update', 'todo_list_update', 'todo_list_update', 'todo_list_update', 'todo_list_update', 'todo_list_update', 'todo_list_update', 'todo_list_update', 'todo_list_update', 'todo_list_update', 'todo_list_update', 'todo_list_update', 'todo_list_update', 'todo_list_update', 'todo_list_update', 'todo_list_update', 'todo_list_update', 'todo_list_update', 'todo_list_update', 'todo_list_update', 'todo_list_update', 'todo_list_update', 'todo_list_update', 'todo_list_update', 'reminder', 'reminder', 'reminder', 'reminder', 'reminder', 'reminder', 'reminder', 'reminder', 'reminder', 'reminder', 'reminder', 'reminder', 'reminder', 'reminder', 'reminder', 'reminder', 'reminder', 'reminder', 'reminder', 'reminder', 'reminder', 'reminder', 'reminder', 'reminder', 'reminder', 'reminder', 'reminder', 'reminder', 'reminder', 'reminder', 'change_speed', 'change_speed', 'change_speed', 'change_speed', 'change_speed', 'change_speed', 'change_speed', 'change_speed', 'change_speed', 'change_speed', 'change_speed', 'change_speed', 'change_speed', 'change_speed', 'change_speed', 'change_speed', 'change_speed', 'change_speed', 'change_speed', 'change_speed', 'change_speed', 'change_speed', 'change_speed', 'change_speed', 'change_speed', 'change_speed', 'change_speed', 'change_speed', 'change_speed', 'change_speed', 'tire_pressure', 'tire_pressure', 'tire_pressure', 'tire_pressure', 'tire_pressure', 'tire_pressure', 'tire_pressure', 'tire_pressure', 'tire_pressure', 'tire_pressure', 'tire_pressure', 'tire_pressure', 'tire_pressure', 'tire_pressure', 'tire_pressure', 'tire_pressure', 'tire_pressure', 'tire_pressure', 'tire_pressure', 'tire_pressure', 'tire_pressure', 'tire_pressure', 'tire_pressure', 'tire_pressure', 'tire_pressure', 'tire_pressure', 'tire_pressure', 'tire_pressure', 'tire_pressure', 'tire_pressure', 'no', 'no', 'no', 'no', 'no', 'no', 'no', 'no', 'no', 'no', 'no', 'no', 'no', 'no', 'no', 'no', 'no', 'no', 'no', 'no', 'no', 'no', 'no', 'no', 'no', 'no', 'no', 'no', 'no', 'no', 'apr', 'apr', 'apr', 'apr', 'apr', 'apr', 'apr', 'apr', 'apr', 'apr', 'apr', 'apr', 'apr', 'apr', 'apr', 'apr', 'apr', 'apr', 'apr', 'apr', 'apr', 'apr', 'apr', 'apr', 'apr', 'apr', 'apr', 'apr', 'apr', 'apr', 'nutrition_info', 'nutrition_info', 'nutrition_info', 'nutrition_info', 'nutrition_info', 'nutrition_info', 'nutrition_info', 'nutrition_info', 'nutrition_info', 'nutrition_info', 'nutrition_info', 'nutrition_info', 'nutrition_info', 'nutrition_info', 'nutrition_info', 'nutrition_info', 'nutrition_info', 'nutrition_info', 'nutrition_info', 'nutrition_info', 'nutrition_info', 'nutrition_info', 'nutrition_info', 'nutrition_info', 'nutrition_info', 'nutrition_info', 'nutrition_info', 'nutrition_info', 'nutrition_info', 'nutrition_info', 'calendar', 'calendar', 'calendar', 'calendar', 'calendar', 'calendar', 'calendar', 'calendar', 'calendar', 'calendar', 'calendar', 'calendar', 'calendar', 'calendar', 'calendar', 'calendar', 'calendar', 'calendar', 'calendar', 'calendar', 'calendar', 'calendar', 'calendar', 'calendar', 'calendar', 'calendar', 'calendar', 'calendar', 'calendar', 'calendar', 'uber', 'uber', 'uber', 'uber', 'uber', 'uber', 'uber', 'uber', 'uber', 'uber', 'uber', 'uber', 'uber', 'uber', 'uber', 'uber', 'uber', 'uber', 'uber', 'uber', 'uber', 'uber', 'uber', 'uber', 'uber', 'uber', 'uber', 'uber', 'uber', 'uber', 'calculator', 'calculator', 'calculator', 'calculator', 'calculator', 'calculator', 'calculator', 'calculator', 'calculator', 'calculator', 'calculator', 'calculator', 'calculator', 'calculator', 'calculator', 'calculator', 'calculator', 'calculator', 'calculator', 'calculator', 'calculator', 'calculator', 'calculator', 'calculator', 'calculator', 'calculator', 'calculator', 'calculator', 'calculator', 'calculator', 'date', 'date', 'date', 'date', 'date', 'date', 'date', 'date', 'date', 'date', 'date', 'date', 'date', 'date', 'date', 'date', 'date', 'date', 'date', 'date', 'date', 'date', 'date', 'date', 'date', 'date', 'date', 'date', 'date', 'date', 'carry_on', 'carry_on', 'carry_on', 'carry_on', 'carry_on', 'carry_on', 'carry_on', 'carry_on', 'carry_on', 'carry_on', 'carry_on', 'carry_on', 'carry_on', 'carry_on', 'carry_on', 'carry_on', 'carry_on', 'carry_on', 'carry_on', 'carry_on', 'carry_on', 'carry_on', 'carry_on', 'carry_on', 'carry_on', 'carry_on', 'carry_on', 'carry_on', 'carry_on', 'carry_on', 'pto_used', 'pto_used', 'pto_used', 'pto_used', 'pto_used', 'pto_used', 'pto_used', 'pto_used', 'pto_used', 'pto_used', 'pto_used', 'pto_used', 'pto_used', 'pto_used', 'pto_used', 'pto_used', 'pto_used', 'pto_used', 'pto_used', 'pto_used', 'pto_used', 'pto_used', 'pto_used', 'pto_used', 'pto_used', 'pto_used', 'pto_used', 'pto_used', 'pto_used', 'pto_used', 'schedule_maintenance', 'schedule_maintenance', 'schedule_maintenance', 'schedule_maintenance', 'schedule_maintenance', 'schedule_maintenance', 'schedule_maintenance', 'schedule_maintenance', 'schedule_maintenance', 'schedule_maintenance', 'schedule_maintenance', 'schedule_maintenance', 'schedule_maintenance', 'schedule_maintenance', 'schedule_maintenance', 'schedule_maintenance', 'schedule_maintenance', 'schedule_maintenance', 'schedule_maintenance', 'schedule_maintenance', 'schedule_maintenance', 'schedule_maintenance', 'schedule_maintenance', 'schedule_maintenance', 'schedule_maintenance', 'schedule_maintenance', 'schedule_maintenance', 'schedule_maintenance', 'schedule_maintenance', 'schedule_maintenance', 'travel_notification', 'travel_notification', 'travel_notification', 'travel_notification', 'travel_notification', 'travel_notification', 'travel_notification', 'travel_notification', 'travel_notification', 'travel_notification', 'travel_notification', 'travel_notification', 'travel_notification', 'travel_notification', 'travel_notification', 'travel_notification', 'travel_notification', 'travel_notification', 'travel_notification', 'travel_notification', 'travel_notification', 'travel_notification', 'travel_notification', 'travel_notification', 'travel_notification', 'travel_notification', 'travel_notification', 'travel_notification', 'travel_notification', 'travel_notification', 'sync_device', 'sync_device', 'sync_device', 'sync_device', 'sync_device', 'sync_device', 'sync_device', 'sync_device', 'sync_device', 'sync_device', 'sync_device', 'sync_device', 'sync_device', 'sync_device', 'sync_device', 'sync_device', 'sync_device', 'sync_device', 'sync_device', 'sync_device', 'sync_device', 'sync_device', 'sync_device', 'sync_device', 'sync_device', 'sync_device', 'sync_device', 'sync_device', 'sync_device', 'sync_device', 'thank_you', 'thank_you', 'thank_you', 'thank_you', 'thank_you', 'thank_you', 'thank_you', 'thank_you', 'thank_you', 'thank_you', 'thank_you', 'thank_you', 'thank_you', 'thank_you', 'thank_you', 'thank_you', 'thank_you', 'thank_you', 'thank_you', 'thank_you', 'thank_you', 'thank_you', 'thank_you', 'thank_you', 'thank_you', 'thank_you', 'thank_you', 'thank_you', 'thank_you', 'thank_you', 'roll_dice', 'roll_dice', 'roll_dice', 'roll_dice', 'roll_dice', 'roll_dice', 'roll_dice', 'roll_dice', 'roll_dice', 'roll_dice', 'roll_dice', 'roll_dice', 'roll_dice', 'roll_dice', 'roll_dice', 'roll_dice', 'roll_dice', 'roll_dice', 'roll_dice', 'roll_dice', 'roll_dice', 'roll_dice', 'roll_dice', 'roll_dice', 'roll_dice', 'roll_dice', 'roll_dice', 'roll_dice', 'roll_dice', 'roll_dice', 'food_last', 'food_last', 'food_last', 'food_last', 'food_last', 'food_last', 'food_last', 'food_last', 'food_last', 'food_last', 'food_last', 'food_last', 'food_last', 'food_last', 'food_last', 'food_last', 'food_last', 'food_last', 'food_last', 'food_last', 'food_last', 'food_last', 'food_last', 'food_last', 'food_last', 'food_last', 'food_last', 'food_last', 'food_last', 'food_last', 'cook_time', 'cook_time', 'cook_time', 'cook_time', 'cook_time', 'cook_time', 'cook_time', 'cook_time', 'cook_time', 'cook_time', 'cook_time', 'cook_time', 'cook_time', 'cook_time', 'cook_time', 'cook_time', 'cook_time', 'cook_time', 'cook_time', 'cook_time', 'cook_time', 'cook_time', 'cook_time', 'cook_time', 'cook_time', 'cook_time', 'cook_time', 'cook_time', 'cook_time', 'cook_time', 'reminder_update', 'reminder_update', 'reminder_update', 'reminder_update', 'reminder_update', 'reminder_update', 'reminder_update', 'reminder_update', 'reminder_update', 'reminder_update', 'reminder_update', 'reminder_update', 'reminder_update', 'reminder_update', 'reminder_update', 'reminder_update', 'reminder_update', 'reminder_update', 'reminder_update', 'reminder_update', 'reminder_update', 'reminder_update', 'reminder_update', 'reminder_update', 'reminder_update', 'reminder_update', 'reminder_update', 'reminder_update', 'reminder_update', 'reminder_update', 'report_lost_card', 'report_lost_card', 'report_lost_card', 'report_lost_card', 'report_lost_card', 'report_lost_card', 'report_lost_card', 'report_lost_card', 'report_lost_card', 'report_lost_card', 'report_lost_card', 'report_lost_card', 'report_lost_card', 'report_lost_card', 'report_lost_card', 'report_lost_card', 'report_lost_card', 'report_lost_card', 'report_lost_card', 'report_lost_card', 'report_lost_card', 'report_lost_card', 'report_lost_card', 'report_lost_card', 'report_lost_card', 'report_lost_card', 'report_lost_card', 'report_lost_card', 'report_lost_card', 'report_lost_card', 'ingredient_substitution', 'ingredient_substitution', 'ingredient_substitution', 'ingredient_substitution', 'ingredient_substitution', 'ingredient_substitution', 'ingredient_substitution', 'ingredient_substitution', 'ingredient_substitution', 'ingredient_substitution', 'ingredient_substitution', 'ingredient_substitution', 'ingredient_substitution', 'ingredient_substitution', 'ingredient_substitution', 'ingredient_substitution', 'ingredient_substitution', 'ingredient_substitution', 'ingredient_substitution', 'ingredient_substitution', 'ingredient_substitution', 'ingredient_substitution', 'ingredient_substitution', 'ingredient_substitution', 'ingredient_substitution', 'ingredient_substitution', 'ingredient_substitution', 'ingredient_substitution', 'ingredient_substitution', 'ingredient_substitution', 'make_call', 'make_call', 'make_call', 'make_call', 'make_call', 'make_call', 'make_call', 'make_call', 'make_call', 'make_call', 'make_call', 'make_call', 'make_call', 'make_call', 'make_call', 'make_call', 'make_call', 'make_call', 'make_call', 'make_call', 'make_call', 'make_call', 'make_call', 'make_call', 'make_call', 'make_call', 'make_call', 'make_call', 'make_call', 'make_call', 'alarm', 'alarm', 'alarm', 'alarm', 'alarm', 'alarm', 'alarm', 'alarm', 'alarm', 'alarm', 'alarm', 'alarm', 'alarm', 'alarm', 'alarm', 'alarm', 'alarm', 'alarm', 'alarm', 'alarm', 'alarm', 'alarm', 'alarm', 'alarm', 'alarm', 'alarm', 'alarm', 'alarm', 'alarm', 'alarm', 'todo_list', 'todo_list', 'todo_list', 'todo_list', 'todo_list', 'todo_list', 'todo_list', 'todo_list', 'todo_list', 'todo_list', 'todo_list', 'todo_list', 'todo_list', 'todo_list', 'todo_list', 'todo_list', 'todo_list', 'todo_list', 'todo_list', 'todo_list', 'todo_list', 'todo_list', 'todo_list', 'todo_list', 'todo_list', 'todo_list', 'todo_list', 'todo_list', 'todo_list', 'todo_list', 'change_accent', 'change_accent', 'change_accent', 'change_accent', 'change_accent', 'change_accent', 'change_accent', 'change_accent', 'change_accent', 'change_accent', 'change_accent', 'change_accent', 'change_accent', 'change_accent', 'change_accent', 'change_accent', 'change_accent', 'change_accent', 'change_accent', 'change_accent', 'change_accent', 'change_accent', 'change_accent', 'change_accent', 'change_accent', 'change_accent', 'change_accent', 'change_accent', 'change_accent', 'change_accent', 'w2', 'w2', 'w2', 'w2', 'w2', 'w2', 'w2', 'w2', 'w2', 'w2', 'w2', 'w2', 'w2', 'w2', 'w2', 'w2', 'w2', 'w2', 'w2', 'w2', 'w2', 'w2', 'w2', 'w2', 'w2', 'w2', 'w2', 'w2', 'w2', 'w2', 'bill_due', 'bill_due', 'bill_due', 'bill_due', 'bill_due', 'bill_due', 'bill_due', 'bill_due', 'bill_due', 'bill_due', 'bill_due', 'bill_due', 'bill_due', 'bill_due', 'bill_due', 'bill_due', 'bill_due', 'bill_due', 'bill_due', 'bill_due', 'bill_due', 'bill_due', 'bill_due', 'bill_due', 'bill_due', 'bill_due', 'bill_due', 'bill_due', 'bill_due', 'bill_due', 'calories', 'calories', 'calories', 'calories', 'calories', 'calories', 'calories', 'calories', 'calories', 'calories', 'calories', 'calories', 'calories', 'calories', 'calories', 'calories', 'calories', 'calories', 'calories', 'calories', 'calories', 'calories', 'calories', 'calories', 'calories', 'calories', 'calories', 'calories', 'calories', 'calories', 'damaged_card', 'damaged_card', 'damaged_card', 'damaged_card', 'damaged_card', 'damaged_card', 'damaged_card', 'damaged_card', 'damaged_card', 'damaged_card', 'damaged_card', 'damaged_card', 'damaged_card', 'damaged_card', 'damaged_card', 'damaged_card', 'damaged_card', 'damaged_card', 'damaged_card', 'damaged_card', 'damaged_card', 'damaged_card', 'damaged_card', 'damaged_card', 'damaged_card', 'damaged_card', 'damaged_card', 'damaged_card', 'damaged_card', 'damaged_card', 'restaurant_reviews', 'restaurant_reviews', 'restaurant_reviews', 'restaurant_reviews', 'restaurant_reviews', 'restaurant_reviews', 'restaurant_reviews', 'restaurant_reviews', 'restaurant_reviews', 'restaurant_reviews', 'restaurant_reviews', 'restaurant_reviews', 'restaurant_reviews', 'restaurant_reviews', 'restaurant_reviews', 'restaurant_reviews', 'restaurant_reviews', 'restaurant_reviews', 'restaurant_reviews', 'restaurant_reviews', 'restaurant_reviews', 'restaurant_reviews', 'restaurant_reviews', 'restaurant_reviews', 'restaurant_reviews', 'restaurant_reviews', 'restaurant_reviews', 'restaurant_reviews', 'restaurant_reviews', 'restaurant_reviews', 'routing', 'routing', 'routing', 'routing', 'routing', 'routing', 'routing', 'routing', 'routing', 'routing', 'routing', 'routing', 'routing', 'routing', 'routing', 'routing', 'routing', 'routing', 'routing', 'routing', 'routing', 'routing', 'routing', 'routing', 'routing', 'routing', 'routing', 'routing', 'routing', 'routing', 'do_you_have_pets', 'do_you_have_pets', 'do_you_have_pets', 'do_you_have_pets', 'do_you_have_pets', 'do_you_have_pets', 'do_you_have_pets', 'do_you_have_pets', 'do_you_have_pets', 'do_you_have_pets', 'do_you_have_pets', 'do_you_have_pets', 'do_you_have_pets', 'do_you_have_pets', 'do_you_have_pets', 'do_you_have_pets', 'do_you_have_pets', 'do_you_have_pets', 'do_you_have_pets', 'do_you_have_pets', 'do_you_have_pets', 'do_you_have_pets', 'do_you_have_pets', 'do_you_have_pets', 'do_you_have_pets', 'do_you_have_pets', 'do_you_have_pets', 'do_you_have_pets', 'do_you_have_pets', 'do_you_have_pets', 'schedule_meeting', 'schedule_meeting', 'schedule_meeting', 'schedule_meeting', 'schedule_meeting', 'schedule_meeting', 'schedule_meeting', 'schedule_meeting', 'schedule_meeting', 'schedule_meeting', 'schedule_meeting', 'schedule_meeting', 'schedule_meeting', 'schedule_meeting', 'schedule_meeting', 'schedule_meeting', 'schedule_meeting', 'schedule_meeting', 'schedule_meeting', 'schedule_meeting', 'schedule_meeting', 'schedule_meeting', 'schedule_meeting', 'schedule_meeting', 'schedule_meeting', 'schedule_meeting', 'schedule_meeting', 'schedule_meeting', 'schedule_meeting', 'schedule_meeting', 'gas_type', 'gas_type', 'gas_type', 'gas_type', 'gas_type', 'gas_type', 'gas_type', 'gas_type', 'gas_type', 'gas_type', 'gas_type', 'gas_type', 'gas_type', 'gas_type', 'gas_type', 'gas_type', 'gas_type', 'gas_type', 'gas_type', 'gas_type', 'gas_type', 'gas_type', 'gas_type', 'gas_type', 'gas_type', 'gas_type', 'gas_type', 'gas_type', 'gas_type', 'gas_type', 'plug_type', 'plug_type', 'plug_type', 'plug_type', 'plug_type', 'plug_type', 'plug_type', 'plug_type', 'plug_type', 'plug_type', 'plug_type', 'plug_type', 'plug_type', 'plug_type', 'plug_type', 'plug_type', 'plug_type', 'plug_type', 'plug_type', 'plug_type', 'plug_type', 'plug_type', 'plug_type', 'plug_type', 'plug_type', 'plug_type', 'plug_type', 'plug_type', 'plug_type', 'plug_type', 'tire_change', 'tire_change', 'tire_change', 'tire_change', 'tire_change', 'tire_change', 'tire_change', 'tire_change', 'tire_change', 'tire_change', 'tire_change', 'tire_change', 'tire_change', 'tire_change', 'tire_change', 'tire_change', 'tire_change', 'tire_change', 'tire_change', 'tire_change', 'tire_change', 'tire_change', 'tire_change', 'tire_change', 'tire_change', 'tire_change', 'tire_change', 'tire_change', 'tire_change', 'tire_change', 'exchange_rate', 'exchange_rate', 'exchange_rate', 'exchange_rate', 'exchange_rate', 'exchange_rate', 'exchange_rate', 'exchange_rate', 'exchange_rate', 'exchange_rate', 'exchange_rate', 'exchange_rate', 'exchange_rate', 'exchange_rate', 'exchange_rate', 'exchange_rate', 'exchange_rate', 'exchange_rate', 'exchange_rate', 'exchange_rate', 'exchange_rate', 'exchange_rate', 'exchange_rate', 'exchange_rate', 'exchange_rate', 'exchange_rate', 'exchange_rate', 'exchange_rate', 'exchange_rate', 'exchange_rate', 'next_holiday', 'next_holiday', 'next_holiday', 'next_holiday', 'next_holiday', 'next_holiday', 'next_holiday', 'next_holiday', 'next_holiday', 'next_holiday', 'next_holiday', 'next_holiday', 'next_holiday', 'next_holiday', 'next_holiday', 'next_holiday', 'next_holiday', 'next_holiday', 'next_holiday', 'next_holiday', 'next_holiday', 'next_holiday', 'next_holiday', 'next_holiday', 'next_holiday', 'next_holiday', 'next_holiday', 'next_holiday', 'next_holiday', 'next_holiday', 'change_volume', 'change_volume', 'change_volume', 'change_volume', 'change_volume', 'change_volume', 'change_volume', 'change_volume', 'change_volume', 'change_volume', 'change_volume', 'change_volume', 'change_volume', 'change_volume', 'change_volume', 'change_volume', 'change_volume', 'change_volume', 'change_volume', 'change_volume', 'change_volume', 'change_volume', 'change_volume', 'change_volume', 'change_volume', 'change_volume', 'change_volume', 'change_volume', 'change_volume', 'change_volume', 'who_do_you_work_for', 'who_do_you_work_for', 'who_do_you_work_for', 'who_do_you_work_for', 'who_do_you_work_for', 'who_do_you_work_for', 'who_do_you_work_for', 'who_do_you_work_for', 'who_do_you_work_for', 'who_do_you_work_for', 'who_do_you_work_for', 'who_do_you_work_for', 'who_do_you_work_for', 'who_do_you_work_for', 'who_do_you_work_for', 'who_do_you_work_for', 'who_do_you_work_for', 'who_do_you_work_for', 'who_do_you_work_for', 'who_do_you_work_for', 'who_do_you_work_for', 'who_do_you_work_for', 'who_do_you_work_for', 'who_do_you_work_for', 'who_do_you_work_for', 'who_do_you_work_for', 'who_do_you_work_for', 'who_do_you_work_for', 'who_do_you_work_for', 'who_do_you_work_for', 'credit_limit', 'credit_limit', 'credit_limit', 'credit_limit', 'credit_limit', 'credit_limit', 'credit_limit', 'credit_limit', 'credit_limit', 'credit_limit', 'credit_limit', 'credit_limit', 'credit_limit', 'credit_limit', 'credit_limit', 'credit_limit', 'credit_limit', 'credit_limit', 'credit_limit', 'credit_limit', 'credit_limit', 'credit_limit', 'credit_limit', 'credit_limit', 'credit_limit', 'credit_limit', 'credit_limit', 'credit_limit', 'credit_limit', 'credit_limit', 'how_busy', 'how_busy', 'how_busy', 'how_busy', 'how_busy', 'how_busy', 'how_busy', 'how_busy', 'how_busy', 'how_busy', 'how_busy', 'how_busy', 'how_busy', 'how_busy', 'how_busy', 'how_busy', 'how_busy', 'how_busy', 'how_busy', 'how_busy', 'how_busy', 'how_busy', 'how_busy', 'how_busy', 'how_busy', 'how_busy', 'how_busy', 'how_busy', 'how_busy', 'how_busy', 'accept_reservations', 'accept_reservations', 'accept_reservations', 'accept_reservations', 'accept_reservations', 'accept_reservations', 'accept_reservations', 'accept_reservations', 'accept_reservations', 'accept_reservations', 'accept_reservations', 'accept_reservations', 'accept_reservations', 'accept_reservations', 'accept_reservations', 'accept_reservations', 'accept_reservations', 'accept_reservations', 'accept_reservations', 'accept_reservations', 'accept_reservations', 'accept_reservations', 'accept_reservations', 'accept_reservations', 'accept_reservations', 'accept_reservations', 'accept_reservations', 'accept_reservations', 'accept_reservations', 'accept_reservations', 'order_status', 'order_status', 'order_status', 'order_status', 'order_status', 'order_status', 'order_status', 'order_status', 'order_status', 'order_status', 'order_status', 'order_status', 'order_status', 'order_status', 'order_status', 'order_status', 'order_status', 'order_status', 'order_status', 'order_status', 'order_status', 'order_status', 'order_status', 'order_status', 'order_status', 'order_status', 'order_status', 'order_status', 'order_status', 'order_status', 'pin_change', 'pin_change', 'pin_change', 'pin_change', 'pin_change', 'pin_change', 'pin_change', 'pin_change', 'pin_change', 'pin_change', 'pin_change', 'pin_change', 'pin_change', 'pin_change', 'pin_change', 'pin_change', 'pin_change', 'pin_change', 'pin_change', 'pin_change', 'pin_change', 'pin_change', 'pin_change', 'pin_change', 'pin_change', 'pin_change', 'pin_change', 'pin_change', 'pin_change', 'pin_change', 'goodbye', 'goodbye', 'goodbye', 'goodbye', 'goodbye', 'goodbye', 'goodbye', 'goodbye', 'goodbye', 'goodbye', 'goodbye', 'goodbye', 'goodbye', 'goodbye', 'goodbye', 'goodbye', 'goodbye', 'goodbye', 'goodbye', 'goodbye', 'goodbye', 'goodbye', 'goodbye', 'goodbye', 'goodbye', 'goodbye', 'goodbye', 'goodbye', 'goodbye', 'goodbye', 'account_blocked', 'account_blocked', 'account_blocked', 'account_blocked', 'account_blocked', 'account_blocked', 'account_blocked', 'account_blocked', 'account_blocked', 'account_blocked', 'account_blocked', 'account_blocked', 'account_blocked', 'account_blocked', 'account_blocked', 'account_blocked', 'account_blocked', 'account_blocked', 'account_blocked', 'account_blocked', 'account_blocked', 'account_blocked', 'account_blocked', 'account_blocked', 'account_blocked', 'account_blocked', 'account_blocked', 'account_blocked', 'account_blocked', 'account_blocked', 'what_song', 'what_song', 'what_song', 'what_song', 'what_song', 'what_song', 'what_song', 'what_song', 'what_song', 'what_song', 'what_song', 'what_song', 'what_song', 'what_song', 'what_song', 'what_song', 'what_song', 'what_song', 'what_song', 'what_song', 'what_song', 'what_song', 'what_song', 'what_song', 'what_song', 'what_song', 'what_song', 'what_song', 'what_song', 'what_song', 'international_fees', 'international_fees', 'international_fees', 'international_fees', 'international_fees', 'international_fees', 'international_fees', 'international_fees', 'international_fees', 'international_fees', 'international_fees', 'international_fees', 'international_fees', 'international_fees', 'international_fees', 'international_fees', 'international_fees', 'international_fees', 'international_fees', 'international_fees', 'international_fees', 'international_fees', 'international_fees', 'international_fees', 'international_fees', 'international_fees', 'international_fees', 'international_fees', 'international_fees', 'international_fees', 'last_maintenance', 'last_maintenance', 'last_maintenance', 'last_maintenance', 'last_maintenance', 'last_maintenance', 'last_maintenance', 'last_maintenance', 'last_maintenance', 'last_maintenance', 'last_maintenance', 'last_maintenance', 'last_maintenance', 'last_maintenance', 'last_maintenance', 'last_maintenance', 'last_maintenance', 'last_maintenance', 'last_maintenance', 'last_maintenance', 'last_maintenance', 'last_maintenance', 'last_maintenance', 'last_maintenance', 'last_maintenance', 'last_maintenance', 'last_maintenance', 'last_maintenance', 'last_maintenance', 'last_maintenance', 'meeting_schedule', 'meeting_schedule', 'meeting_schedule', 'meeting_schedule', 'meeting_schedule', 'meeting_schedule', 'meeting_schedule', 'meeting_schedule', 'meeting_schedule', 'meeting_schedule', 'meeting_schedule', 'meeting_schedule', 'meeting_schedule', 'meeting_schedule', 'meeting_schedule', 'meeting_schedule', 'meeting_schedule', 'meeting_schedule', 'meeting_schedule', 'meeting_schedule', 'meeting_schedule', 'meeting_schedule', 'meeting_schedule', 'meeting_schedule', 'meeting_schedule', 'meeting_schedule', 'meeting_schedule', 'meeting_schedule', 'meeting_schedule', 'meeting_schedule', 'ingredients_list', 'ingredients_list', 'ingredients_list', 'ingredients_list', 'ingredients_list', 'ingredients_list', 'ingredients_list', 'ingredients_list', 'ingredients_list', 'ingredients_list', 'ingredients_list', 'ingredients_list', 'ingredients_list', 'ingredients_list', 'ingredients_list', 'ingredients_list', 'ingredients_list', 'ingredients_list', 'ingredients_list', 'ingredients_list', 'ingredients_list', 'ingredients_list', 'ingredients_list', 'ingredients_list', 'ingredients_list', 'ingredients_list', 'ingredients_list', 'ingredients_list', 'ingredients_list', 'ingredients_list', 'report_fraud', 'report_fraud', 'report_fraud', 'report_fraud', 'report_fraud', 'report_fraud', 'report_fraud', 'report_fraud', 'report_fraud', 'report_fraud', 'report_fraud', 'report_fraud', 'report_fraud', 'report_fraud', 'report_fraud', 'report_fraud', 'report_fraud', 'report_fraud', 'report_fraud', 'report_fraud', 'report_fraud', 'report_fraud', 'report_fraud', 'report_fraud', 'report_fraud', 'report_fraud', 'report_fraud', 'report_fraud', 'report_fraud', 'report_fraud', 'measurement_conversion', 'measurement_conversion', 'measurement_conversion', 'measurement_conversion', 'measurement_conversion', 'measurement_conversion', 'measurement_conversion', 'measurement_conversion', 'measurement_conversion', 'measurement_conversion', 'measurement_conversion', 'measurement_conversion', 'measurement_conversion', 'measurement_conversion', 'measurement_conversion', 'measurement_conversion', 'measurement_conversion', 'measurement_conversion', 'measurement_conversion', 'measurement_conversion', 'measurement_conversion', 'measurement_conversion', 'measurement_conversion', 'measurement_conversion', 'measurement_conversion', 'measurement_conversion', 'measurement_conversion', 'measurement_conversion', 'measurement_conversion', 'measurement_conversion', 'smart_home', 'smart_home', 'smart_home', 'smart_home', 'smart_home', 'smart_home', 'smart_home', 'smart_home', 'smart_home', 'smart_home', 'smart_home', 'smart_home', 'smart_home', 'smart_home', 'smart_home', 'smart_home', 'smart_home', 'smart_home', 'smart_home', 'smart_home', 'smart_home', 'smart_home', 'smart_home', 'smart_home', 'smart_home', 'smart_home', 'smart_home', 'smart_home', 'smart_home', 'smart_home', 'book_hotel', 'book_hotel', 'book_hotel', 'book_hotel', 'book_hotel', 'book_hotel', 'book_hotel', 'book_hotel', 'book_hotel', 'book_hotel', 'book_hotel', 'book_hotel', 'book_hotel', 'book_hotel', 'book_hotel', 'book_hotel', 'book_hotel', 'book_hotel', 'book_hotel', 'book_hotel', 'book_hotel', 'book_hotel', 'book_hotel', 'book_hotel', 'book_hotel', 'book_hotel', 'book_hotel', 'book_hotel', 'book_hotel', 'book_hotel', 'current_location', 'current_location', 'current_location', 'current_location', 'current_location', 'current_location', 'current_location', 'current_location', 'current_location', 'current_location', 'current_location', 'current_location', 'current_location', 'current_location', 'current_location', 'current_location', 'current_location', 'current_location', 'current_location', 'current_location', 'current_location', 'current_location', 'current_location', 'current_location', 'current_location', 'current_location', 'current_location', 'current_location', 'current_location', 'current_location', 'weather', 'weather', 'weather', 'weather', 'weather', 'weather', 'weather', 'weather', 'weather', 'weather', 'weather', 'weather', 'weather', 'weather', 'weather', 'weather', 'weather', 'weather', 'weather', 'weather', 'weather', 'weather', 'weather', 'weather', 'weather', 'weather', 'weather', 'weather', 'weather', 'weather', 'taxes', 'taxes', 'taxes', 'taxes', 'taxes', 'taxes', 'taxes', 'taxes', 'taxes', 'taxes', 'taxes', 'taxes', 'taxes', 'taxes', 'taxes', 'taxes', 'taxes', 'taxes', 'taxes', 'taxes', 'taxes', 'taxes', 'taxes', 'taxes', 'taxes', 'taxes', 'taxes', 'taxes', 'taxes', 'taxes', 'min_payment', 'min_payment', 'min_payment', 'min_payment', 'min_payment', 'min_payment', 'min_payment', 'min_payment', 'min_payment', 'min_payment', 'min_payment', 'min_payment', 'min_payment', 'min_payment', 'min_payment', 'min_payment', 'min_payment', 'min_payment', 'min_payment', 'min_payment', 'min_payment', 'min_payment', 'min_payment', 'min_payment', 'min_payment', 'min_payment', 'min_payment', 'min_payment', 'min_payment', 'min_payment', 'whisper_mode', 'whisper_mode', 'whisper_mode', 'whisper_mode', 'whisper_mode', 'whisper_mode', 'whisper_mode', 'whisper_mode', 'whisper_mode', 'whisper_mode', 'whisper_mode', 'whisper_mode', 'whisper_mode', 'whisper_mode', 'whisper_mode', 'whisper_mode', 'whisper_mode', 'whisper_mode', 'whisper_mode', 'whisper_mode', 'whisper_mode', 'whisper_mode', 'whisper_mode', 'whisper_mode', 'whisper_mode', 'whisper_mode', 'whisper_mode', 'whisper_mode', 'whisper_mode', 'whisper_mode', 'cancel', 'cancel', 'cancel', 'cancel', 'cancel', 'cancel', 'cancel', 'cancel', 'cancel', 'cancel', 'cancel', 'cancel', 'cancel', 'cancel', 'cancel', 'cancel', 'cancel', 'cancel', 'cancel', 'cancel', 'cancel', 'cancel', 'cancel', 'cancel', 'cancel', 'cancel', 'cancel', 'cancel', 'cancel', 'cancel', 'international_visa', 'international_visa', 'international_visa', 'international_visa', 'international_visa', 'international_visa', 'international_visa', 'international_visa', 'international_visa', 'international_visa', 'international_visa', 'international_visa', 'international_visa', 'international_visa', 'international_visa', 'international_visa', 'international_visa', 'international_visa', 'international_visa', 'international_visa', 'international_visa', 'international_visa', 'international_visa', 'international_visa', 'international_visa', 'international_visa', 'international_visa', 'international_visa', 'international_visa', 'international_visa', 'vaccines', 'vaccines', 'vaccines', 'vaccines', 'vaccines', 'vaccines', 'vaccines', 'vaccines', 'vaccines', 'vaccines', 'vaccines', 'vaccines', 'vaccines', 'vaccines', 'vaccines', 'vaccines', 'vaccines', 'vaccines', 'vaccines', 'vaccines', 'vaccines', 'vaccines', 'vaccines', 'vaccines', 'vaccines', 'vaccines', 'vaccines', 'vaccines', 'vaccines', 'vaccines', 'pto_balance', 'pto_balance', 'pto_balance', 'pto_balance', 'pto_balance', 'pto_balance', 'pto_balance', 'pto_balance', 'pto_balance', 'pto_balance', 'pto_balance', 'pto_balance', 'pto_balance', 'pto_balance', 'pto_balance', 'pto_balance', 'pto_balance', 'pto_balance', 'pto_balance', 'pto_balance', 'pto_balance', 'pto_balance', 'pto_balance', 'pto_balance', 'pto_balance', 'pto_balance', 'pto_balance', 'pto_balance', 'pto_balance', 'pto_balance', 'directions', 'directions', 'directions', 'directions', 'directions', 'directions', 'directions', 'directions', 'directions', 'directions', 'directions', 'directions', 'directions', 'directions', 'directions', 'directions', 'directions', 'directions', 'directions', 'directions', 'directions', 'directions', 'directions', 'directions', 'directions', 'directions', 'directions', 'directions', 'directions', 'directions', 'spelling', 'spelling', 'spelling', 'spelling', 'spelling', 'spelling', 'spelling', 'spelling', 'spelling', 'spelling', 'spelling', 'spelling', 'spelling', 'spelling', 'spelling', 'spelling', 'spelling', 'spelling', 'spelling', 'spelling', 'spelling', 'spelling', 'spelling', 'spelling', 'spelling', 'spelling', 'spelling', 'spelling', 'spelling', 'spelling', 'greeting', 'greeting', 'greeting', 'greeting', 'greeting', 'greeting', 'greeting', 'greeting', 'greeting', 'greeting', 'greeting', 'greeting', 'greeting', 'greeting', 'greeting', 'greeting', 'greeting', 'greeting', 'greeting', 'greeting', 'greeting', 'greeting', 'greeting', 'greeting', 'greeting', 'greeting', 'greeting', 'greeting', 'greeting', 'greeting', 'reset_settings', 'reset_settings', 'reset_settings', 'reset_settings', 'reset_settings', 'reset_settings', 'reset_settings', 'reset_settings', 'reset_settings', 'reset_settings', 'reset_settings', 'reset_settings', 'reset_settings', 'reset_settings', 'reset_settings', 'reset_settings', 'reset_settings', 'reset_settings', 'reset_settings', 'reset_settings', 'reset_settings', 'reset_settings', 'reset_settings', 'reset_settings', 'reset_settings', 'reset_settings', 'reset_settings', 'reset_settings', 'reset_settings', 'reset_settings', 'what_is_your_name', 'what_is_your_name', 'what_is_your_name', 'what_is_your_name', 'what_is_your_name', 'what_is_your_name', 'what_is_your_name', 'what_is_your_name', 'what_is_your_name', 'what_is_your_name', 'what_is_your_name', 'what_is_your_name', 'what_is_your_name', 'what_is_your_name', 'what_is_your_name', 'what_is_your_name', 'what_is_your_name', 'what_is_your_name', 'what_is_your_name', 'what_is_your_name', 'what_is_your_name', 'what_is_your_name', 'what_is_your_name', 'what_is_your_name', 'what_is_your_name', 'what_is_your_name', 'what_is_your_name', 'what_is_your_name', 'what_is_your_name', 'what_is_your_name', 'direct_deposit', 'direct_deposit', 'direct_deposit', 'direct_deposit', 'direct_deposit', 'direct_deposit', 'direct_deposit', 'direct_deposit', 'direct_deposit', 'direct_deposit', 'direct_deposit', 'direct_deposit', 'direct_deposit', 'direct_deposit', 'direct_deposit', 'direct_deposit', 'direct_deposit', 'direct_deposit', 'direct_deposit', 'direct_deposit', 'direct_deposit', 'direct_deposit', 'direct_deposit', 'direct_deposit', 'direct_deposit', 'direct_deposit', 'direct_deposit', 'direct_deposit', 'direct_deposit', 'direct_deposit', 'interest_rate', 'interest_rate', 'interest_rate', 'interest_rate', 'interest_rate', 'interest_rate', 'interest_rate', 'interest_rate', 'interest_rate', 'interest_rate', 'interest_rate', 'interest_rate', 'interest_rate', 'interest_rate', 'interest_rate', 'interest_rate', 'interest_rate', 'interest_rate', 'interest_rate', 'interest_rate', 'interest_rate', 'interest_rate', 'interest_rate', 'interest_rate', 'interest_rate', 'interest_rate', 'interest_rate', 'interest_rate', 'interest_rate', 'interest_rate', 'credit_limit_change', 'credit_limit_change', 'credit_limit_change', 'credit_limit_change', 'credit_limit_change', 'credit_limit_change', 'credit_limit_change', 'credit_limit_change', 'credit_limit_change', 'credit_limit_change', 'credit_limit_change', 'credit_limit_change', 'credit_limit_change', 'credit_limit_change', 'credit_limit_change', 'credit_limit_change', 'credit_limit_change', 'credit_limit_change', 'credit_limit_change', 'credit_limit_change', 'credit_limit_change', 'credit_limit_change', 'credit_limit_change', 'credit_limit_change', 'credit_limit_change', 'credit_limit_change', 'credit_limit_change', 'credit_limit_change', 'credit_limit_change', 'credit_limit_change', 'what_are_your_hobbies', 'what_are_your_hobbies', 'what_are_your_hobbies', 'what_are_your_hobbies', 'what_are_your_hobbies', 'what_are_your_hobbies', 'what_are_your_hobbies', 'what_are_your_hobbies', 'what_are_your_hobbies', 'what_are_your_hobbies', 'what_are_your_hobbies', 'what_are_your_hobbies', 'what_are_your_hobbies', 'what_are_your_hobbies', 'what_are_your_hobbies', 'what_are_your_hobbies', 'what_are_your_hobbies', 'what_are_your_hobbies', 'what_are_your_hobbies', 'what_are_your_hobbies', 'what_are_your_hobbies', 'what_are_your_hobbies', 'what_are_your_hobbies', 'what_are_your_hobbies', 'what_are_your_hobbies', 'what_are_your_hobbies', 'what_are_your_hobbies', 'what_are_your_hobbies', 'what_are_your_hobbies', 'what_are_your_hobbies', 'book_flight', 'book_flight', 'book_flight', 'book_flight', 'book_flight', 'book_flight', 'book_flight', 'book_flight', 'book_flight', 'book_flight', 'book_flight', 'book_flight', 'book_flight', 'book_flight', 'book_flight', 'book_flight', 'book_flight', 'book_flight', 'book_flight', 'book_flight', 'book_flight', 'book_flight', 'book_flight', 'book_flight', 'book_flight', 'book_flight', 'book_flight', 'book_flight', 'book_flight', 'book_flight', 'shopping_list', 'shopping_list', 'shopping_list', 'shopping_list', 'shopping_list', 'shopping_list', 'shopping_list', 'shopping_list', 'shopping_list', 'shopping_list', 'shopping_list', 'shopping_list', 'shopping_list', 'shopping_list', 'shopping_list', 'shopping_list', 'shopping_list', 'shopping_list', 'shopping_list', 'shopping_list', 'shopping_list', 'shopping_list', 'shopping_list', 'shopping_list', 'shopping_list', 'shopping_list', 'shopping_list', 'shopping_list', 'shopping_list', 'shopping_list', 'text', 'text', 'text', 'text', 'text', 'text', 'text', 'text', 'text', 'text', 'text', 'text', 'text', 'text', 'text', 'text', 'text', 'text', 'text', 'text', 'text', 'text', 'text', 'text', 'text', 'text', 'text', 'text', 'text', 'text', 'bill_balance', 'bill_balance', 'bill_balance', 'bill_balance', 'bill_balance', 'bill_balance', 'bill_balance', 'bill_balance', 'bill_balance', 'bill_balance', 'bill_balance', 'bill_balance', 'bill_balance', 'bill_balance', 'bill_balance', 'bill_balance', 'bill_balance', 'bill_balance', 'bill_balance', 'bill_balance', 'bill_balance', 'bill_balance', 'bill_balance', 'bill_balance', 'bill_balance', 'bill_balance', 'bill_balance', 'bill_balance', 'bill_balance', 'bill_balance', 'share_location', 'share_location', 'share_location', 'share_location', 'share_location', 'share_location', 'share_location', 'share_location', 'share_location', 'share_location', 'share_location', 'share_location', 'share_location', 'share_location', 'share_location', 'share_location', 'share_location', 'share_location', 'share_location', 'share_location', 'share_location', 'share_location', 'share_location', 'share_location', 'share_location', 'share_location', 'share_location', 'share_location', 'share_location', 'share_location', 'redeem_rewards', 'redeem_rewards', 'redeem_rewards', 'redeem_rewards', 'redeem_rewards', 'redeem_rewards', 'redeem_rewards', 'redeem_rewards', 'redeem_rewards', 'redeem_rewards', 'redeem_rewards', 'redeem_rewards', 'redeem_rewards', 'redeem_rewards', 'redeem_rewards', 'redeem_rewards', 'redeem_rewards', 'redeem_rewards', 'redeem_rewards', 'redeem_rewards', 'redeem_rewards', 'redeem_rewards', 'redeem_rewards', 'redeem_rewards', 'redeem_rewards', 'redeem_rewards', 'redeem_rewards', 'redeem_rewards', 'redeem_rewards', 'redeem_rewards', 'play_music', 'play_music', 'play_music', 'play_music', 'play_music', 'play_music', 'play_music', 'play_music', 'play_music', 'play_music', 'play_music', 'play_music', 'play_music', 'play_music', 'play_music', 'play_music', 'play_music', 'play_music', 'play_music', 'play_music', 'play_music', 'play_music', 'play_music', 'play_music', 'play_music', 'play_music', 'play_music', 'play_music', 'play_music', 'play_music', 'calendar_update', 'calendar_update', 'calendar_update', 'calendar_update', 'calendar_update', 'calendar_update', 'calendar_update', 'calendar_update', 'calendar_update', 'calendar_update', 'calendar_update', 'calendar_update', 'calendar_update', 'calendar_update', 'calendar_update', 'calendar_update', 'calendar_update', 'calendar_update', 'calendar_update', 'calendar_update', 'calendar_update', 'calendar_update', 'calendar_update', 'calendar_update', 'calendar_update', 'calendar_update', 'calendar_update', 'calendar_update', 'calendar_update', 'calendar_update', 'are_you_a_bot', 'are_you_a_bot', 'are_you_a_bot', 'are_you_a_bot', 'are_you_a_bot', 'are_you_a_bot', 'are_you_a_bot', 'are_you_a_bot', 'are_you_a_bot', 'are_you_a_bot', 'are_you_a_bot', 'are_you_a_bot', 'are_you_a_bot', 'are_you_a_bot', 'are_you_a_bot', 'are_you_a_bot', 'are_you_a_bot', 'are_you_a_bot', 'are_you_a_bot', 'are_you_a_bot', 'are_you_a_bot', 'are_you_a_bot', 'are_you_a_bot', 'are_you_a_bot', 'are_you_a_bot', 'are_you_a_bot', 'are_you_a_bot', 'are_you_a_bot', 'are_you_a_bot', 'are_you_a_bot', 'gas', 'gas', 'gas', 'gas', 'gas', 'gas', 'gas', 'gas', 'gas', 'gas', 'gas', 'gas', 'gas', 'gas', 'gas', 'gas', 'gas', 'gas', 'gas', 'gas', 'gas', 'gas', 'gas', 'gas', 'gas', 'gas', 'gas', 'gas', 'gas', 'gas', 'expiration_date', 'expiration_date', 'expiration_date', 'expiration_date', 'expiration_date', 'expiration_date', 'expiration_date', 'expiration_date', 'expiration_date', 'expiration_date', 'expiration_date', 'expiration_date', 'expiration_date', 'expiration_date', 'expiration_date', 'expiration_date', 'expiration_date', 'expiration_date', 'expiration_date', 'expiration_date', 'expiration_date', 'expiration_date', 'expiration_date', 'expiration_date', 'expiration_date', 'expiration_date', 'expiration_date', 'expiration_date', 'expiration_date', 'expiration_date', 'update_playlist', 'update_playlist', 'update_playlist', 'update_playlist', 'update_playlist', 'update_playlist', 'update_playlist', 'update_playlist', 'update_playlist', 'update_playlist', 'update_playlist', 'update_playlist', 'update_playlist', 'update_playlist', 'update_playlist', 'update_playlist', 'update_playlist', 'update_playlist', 'update_playlist', 'update_playlist', 'update_playlist', 'update_playlist', 'update_playlist', 'update_playlist', 'update_playlist', 'update_playlist', 'update_playlist', 'update_playlist', 'update_playlist', 'update_playlist', 'cancel_reservation', 'cancel_reservation', 'cancel_reservation', 'cancel_reservation', 'cancel_reservation', 'cancel_reservation', 'cancel_reservation', 'cancel_reservation', 'cancel_reservation', 'cancel_reservation', 'cancel_reservation', 'cancel_reservation', 'cancel_reservation', 'cancel_reservation', 'cancel_reservation', 'cancel_reservation', 'cancel_reservation', 'cancel_reservation', 'cancel_reservation', 'cancel_reservation', 'cancel_reservation', 'cancel_reservation', 'cancel_reservation', 'cancel_reservation', 'cancel_reservation', 'cancel_reservation', 'cancel_reservation', 'cancel_reservation', 'cancel_reservation', 'cancel_reservation', 'tell_joke', 'tell_joke', 'tell_joke', 'tell_joke', 'tell_joke', 'tell_joke', 'tell_joke', 'tell_joke', 'tell_joke', 'tell_joke', 'tell_joke', 'tell_joke', 'tell_joke', 'tell_joke', 'tell_joke', 'tell_joke', 'tell_joke', 'tell_joke', 'tell_joke', 'tell_joke', 'tell_joke', 'tell_joke', 'tell_joke', 'tell_joke', 'tell_joke', 'tell_joke', 'tell_joke', 'tell_joke', 'tell_joke', 'tell_joke', 'change_ai_name', 'change_ai_name', 'change_ai_name', 'change_ai_name', 'change_ai_name', 'change_ai_name', 'change_ai_name', 'change_ai_name', 'change_ai_name', 'change_ai_name', 'change_ai_name', 'change_ai_name', 'change_ai_name', 'change_ai_name', 'change_ai_name', 'change_ai_name', 'change_ai_name', 'change_ai_name', 'change_ai_name', 'change_ai_name', 'change_ai_name', 'change_ai_name', 'change_ai_name', 'change_ai_name', 'change_ai_name', 'change_ai_name', 'change_ai_name', 'change_ai_name', 'change_ai_name', 'change_ai_name', 'how_old_are_you', 'how_old_are_you', 'how_old_are_you', 'how_old_are_you', 'how_old_are_you', 'how_old_are_you', 'how_old_are_you', 'how_old_are_you', 'how_old_are_you', 'how_old_are_you', 'how_old_are_you', 'how_old_are_you', 'how_old_are_you', 'how_old_are_you', 'how_old_are_you', 'how_old_are_you', 'how_old_are_you', 'how_old_are_you', 'how_old_are_you', 'how_old_are_you', 'how_old_are_you', 'how_old_are_you', 'how_old_are_you', 'how_old_are_you', 'how_old_are_you', 'how_old_are_you', 'how_old_are_you', 'how_old_are_you', 'how_old_are_you', 'how_old_are_you', 'car_rental', 'car_rental', 'car_rental', 'car_rental', 'car_rental', 'car_rental', 'car_rental', 'car_rental', 'car_rental', 'car_rental', 'car_rental', 'car_rental', 'car_rental', 'car_rental', 'car_rental', 'car_rental', 'car_rental', 'car_rental', 'car_rental', 'car_rental', 'car_rental', 'car_rental', 'car_rental', 'car_rental', 'car_rental', 'car_rental', 'car_rental', 'car_rental', 'car_rental', 'car_rental', 'jump_start', 'jump_start', 'jump_start', 'jump_start', 'jump_start', 'jump_start', 'jump_start', 'jump_start', 'jump_start', 'jump_start', 'jump_start', 'jump_start', 'jump_start', 'jump_start', 'jump_start', 'jump_start', 'jump_start', 'jump_start', 'jump_start', 'jump_start', 'jump_start', 'jump_start', 'jump_start', 'jump_start', 'jump_start', 'jump_start', 'jump_start', 'jump_start', 'jump_start', 'jump_start', 'meal_suggestion', 'meal_suggestion', 'meal_suggestion', 'meal_suggestion', 'meal_suggestion', 'meal_suggestion', 'meal_suggestion', 'meal_suggestion', 'meal_suggestion', 'meal_suggestion', 'meal_suggestion', 'meal_suggestion', 'meal_suggestion', 'meal_suggestion', 'meal_suggestion', 'meal_suggestion', 'meal_suggestion', 'meal_suggestion', 'meal_suggestion', 'meal_suggestion', 'meal_suggestion', 'meal_suggestion', 'meal_suggestion', 'meal_suggestion', 'meal_suggestion', 'meal_suggestion', 'meal_suggestion', 'meal_suggestion', 'meal_suggestion', 'meal_suggestion', 'recipe', 'recipe', 'recipe', 'recipe', 'recipe', 'recipe', 'recipe', 'recipe', 'recipe', 'recipe', 'recipe', 'recipe', 'recipe', 'recipe', 'recipe', 'recipe', 'recipe', 'recipe', 'recipe', 'recipe', 'recipe', 'recipe', 'recipe', 'recipe', 'recipe', 'recipe', 'recipe', 'recipe', 'recipe', 'recipe', 'income', 'income', 'income', 'income', 'income', 'income', 'income', 'income', 'income', 'income', 'income', 'income', 'income', 'income', 'income', 'income', 'income', 'income', 'income', 'income', 'income', 'income', 'income', 'income', 'income', 'income', 'income', 'income', 'income', 'income', 'order', 'order', 'order', 'order', 'order', 'order', 'order', 'order', 'order', 'order', 'order', 'order', 'order', 'order', 'order', 'order', 'order', 'order', 'order', 'order', 'order', 'order', 'order', 'order', 'order', 'order', 'order', 'order', 'order', 'order', 'traffic', 'traffic', 'traffic', 'traffic', 'traffic', 'traffic', 'traffic', 'traffic', 'traffic', 'traffic', 'traffic', 'traffic', 'traffic', 'traffic', 'traffic', 'traffic', 'traffic', 'traffic', 'traffic', 'traffic', 'traffic', 'traffic', 'traffic', 'traffic', 'traffic', 'traffic', 'traffic', 'traffic', 'traffic', 'traffic', 'order_checks', 'order_checks', 'order_checks', 'order_checks', 'order_checks', 'order_checks', 'order_checks', 'order_checks', 'order_checks', 'order_checks', 'order_checks', 'order_checks', 'order_checks', 'order_checks', 'order_checks', 'order_checks', 'order_checks', 'order_checks', 'order_checks', 'order_checks', 'order_checks', 'order_checks', 'order_checks', 'order_checks', 'order_checks', 'order_checks', 'order_checks', 'order_checks', 'order_checks', 'order_checks', 'card_declined', 'card_declined', 'card_declined', 'card_declined', 'card_declined', 'card_declined', 'card_declined', 'card_declined', 'card_declined', 'card_declined', 'card_declined', 'card_declined', 'card_declined', 'card_declined', 'card_declined', 'card_declined', 'card_declined', 'card_declined', 'card_declined', 'card_declined', 'card_declined', 'card_declined', 'card_declined', 'card_declined', 'card_declined', 'card_declined', 'card_declined', 'card_declined', 'card_declined', 'card_declined')\n"
          ]
        },
        {
          "output_type": "error",
          "ename": "ValueError",
          "evalue": "ignored",
          "traceback": [
            "\u001b[0;31m---------------------------------------------------------------------------\u001b[0m",
            "\u001b[0;31mValueError\u001b[0m                                Traceback (most recent call last)",
            "\u001b[0;32m<ipython-input-88-7392556a27b7>\u001b[0m in \u001b[0;36m<cell line: 12>\u001b[0;34m()\u001b[0m\n\u001b[1;32m     10\u001b[0m \u001b[0;31m# Convert labels to integers using LabelEncoder, fitting on the combined label set\u001b[0m\u001b[0;34m\u001b[0m\u001b[0;34m\u001b[0m\u001b[0m\n\u001b[1;32m     11\u001b[0m \u001b[0mlabel_encoder\u001b[0m \u001b[0;34m=\u001b[0m \u001b[0mLabelEncoder\u001b[0m\u001b[0;34m(\u001b[0m\u001b[0;34m)\u001b[0m\u001b[0;34m\u001b[0m\u001b[0;34m\u001b[0m\u001b[0m\n\u001b[0;32m---> 12\u001b[0;31m \u001b[0my_train\u001b[0m \u001b[0;34m=\u001b[0m \u001b[0mlabel_encoder\u001b[0m\u001b[0;34m.\u001b[0m\u001b[0mfit_transform\u001b[0m\u001b[0;34m(\u001b[0m\u001b[0my_train\u001b[0m\u001b[0;34m)\u001b[0m\u001b[0;34m\u001b[0m\u001b[0;34m\u001b[0m\u001b[0m\n\u001b[0m\u001b[1;32m     13\u001b[0m \u001b[0;31m# y_val = label_encoder.transform(y_val)\u001b[0m\u001b[0;34m\u001b[0m\u001b[0;34m\u001b[0m\u001b[0m\n\u001b[1;32m     14\u001b[0m \u001b[0my_test\u001b[0m \u001b[0;34m=\u001b[0m \u001b[0mlabel_encoder\u001b[0m\u001b[0;34m.\u001b[0m\u001b[0mtransform\u001b[0m\u001b[0;34m(\u001b[0m\u001b[0my_test\u001b[0m\u001b[0;34m)\u001b[0m\u001b[0;34m\u001b[0m\u001b[0;34m\u001b[0m\u001b[0m\n",
            "\u001b[0;32m/usr/local/lib/python3.10/dist-packages/sklearn/utils/_set_output.py\u001b[0m in \u001b[0;36mwrapped\u001b[0;34m(self, X, *args, **kwargs)\u001b[0m\n\u001b[1;32m    138\u001b[0m     \u001b[0;34m@\u001b[0m\u001b[0mwraps\u001b[0m\u001b[0;34m(\u001b[0m\u001b[0mf\u001b[0m\u001b[0;34m)\u001b[0m\u001b[0;34m\u001b[0m\u001b[0;34m\u001b[0m\u001b[0m\n\u001b[1;32m    139\u001b[0m     \u001b[0;32mdef\u001b[0m \u001b[0mwrapped\u001b[0m\u001b[0;34m(\u001b[0m\u001b[0mself\u001b[0m\u001b[0;34m,\u001b[0m \u001b[0mX\u001b[0m\u001b[0;34m,\u001b[0m \u001b[0;34m*\u001b[0m\u001b[0margs\u001b[0m\u001b[0;34m,\u001b[0m \u001b[0;34m**\u001b[0m\u001b[0mkwargs\u001b[0m\u001b[0;34m)\u001b[0m\u001b[0;34m:\u001b[0m\u001b[0;34m\u001b[0m\u001b[0;34m\u001b[0m\u001b[0m\n\u001b[0;32m--> 140\u001b[0;31m         \u001b[0mdata_to_wrap\u001b[0m \u001b[0;34m=\u001b[0m \u001b[0mf\u001b[0m\u001b[0;34m(\u001b[0m\u001b[0mself\u001b[0m\u001b[0;34m,\u001b[0m \u001b[0mX\u001b[0m\u001b[0;34m,\u001b[0m \u001b[0;34m*\u001b[0m\u001b[0margs\u001b[0m\u001b[0;34m,\u001b[0m \u001b[0;34m**\u001b[0m\u001b[0mkwargs\u001b[0m\u001b[0;34m)\u001b[0m\u001b[0;34m\u001b[0m\u001b[0;34m\u001b[0m\u001b[0m\n\u001b[0m\u001b[1;32m    141\u001b[0m         \u001b[0;32mif\u001b[0m \u001b[0misinstance\u001b[0m\u001b[0;34m(\u001b[0m\u001b[0mdata_to_wrap\u001b[0m\u001b[0;34m,\u001b[0m \u001b[0mtuple\u001b[0m\u001b[0;34m)\u001b[0m\u001b[0;34m:\u001b[0m\u001b[0;34m\u001b[0m\u001b[0;34m\u001b[0m\u001b[0m\n\u001b[1;32m    142\u001b[0m             \u001b[0;31m# only wrap the first output for cross decomposition\u001b[0m\u001b[0;34m\u001b[0m\u001b[0;34m\u001b[0m\u001b[0m\n",
            "\u001b[0;32m/usr/local/lib/python3.10/dist-packages/sklearn/preprocessing/_label.py\u001b[0m in \u001b[0;36mfit_transform\u001b[0;34m(self, y)\u001b[0m\n\u001b[1;32m    114\u001b[0m             \u001b[0mEncoded\u001b[0m \u001b[0mlabels\u001b[0m\u001b[0;34m.\u001b[0m\u001b[0;34m\u001b[0m\u001b[0;34m\u001b[0m\u001b[0m\n\u001b[1;32m    115\u001b[0m         \"\"\"\n\u001b[0;32m--> 116\u001b[0;31m         \u001b[0my\u001b[0m \u001b[0;34m=\u001b[0m \u001b[0mcolumn_or_1d\u001b[0m\u001b[0;34m(\u001b[0m\u001b[0my\u001b[0m\u001b[0;34m,\u001b[0m \u001b[0mwarn\u001b[0m\u001b[0;34m=\u001b[0m\u001b[0;32mTrue\u001b[0m\u001b[0;34m)\u001b[0m\u001b[0;34m\u001b[0m\u001b[0;34m\u001b[0m\u001b[0m\n\u001b[0m\u001b[1;32m    117\u001b[0m         \u001b[0mself\u001b[0m\u001b[0;34m.\u001b[0m\u001b[0mclasses_\u001b[0m\u001b[0;34m,\u001b[0m \u001b[0my\u001b[0m \u001b[0;34m=\u001b[0m \u001b[0m_unique\u001b[0m\u001b[0;34m(\u001b[0m\u001b[0my\u001b[0m\u001b[0;34m,\u001b[0m \u001b[0mreturn_inverse\u001b[0m\u001b[0;34m=\u001b[0m\u001b[0;32mTrue\u001b[0m\u001b[0;34m)\u001b[0m\u001b[0;34m\u001b[0m\u001b[0;34m\u001b[0m\u001b[0m\n\u001b[1;32m    118\u001b[0m         \u001b[0;32mreturn\u001b[0m \u001b[0my\u001b[0m\u001b[0;34m\u001b[0m\u001b[0;34m\u001b[0m\u001b[0m\n",
            "\u001b[0;32m/usr/local/lib/python3.10/dist-packages/sklearn/utils/validation.py\u001b[0m in \u001b[0;36mcolumn_or_1d\u001b[0;34m(y, dtype, warn)\u001b[0m\n\u001b[1;32m   1200\u001b[0m         \u001b[0;32mreturn\u001b[0m \u001b[0m_asarray_with_order\u001b[0m\u001b[0;34m(\u001b[0m\u001b[0mxp\u001b[0m\u001b[0;34m.\u001b[0m\u001b[0mreshape\u001b[0m\u001b[0;34m(\u001b[0m\u001b[0my\u001b[0m\u001b[0;34m,\u001b[0m \u001b[0;34m-\u001b[0m\u001b[0;36m1\u001b[0m\u001b[0;34m)\u001b[0m\u001b[0;34m,\u001b[0m \u001b[0morder\u001b[0m\u001b[0;34m=\u001b[0m\u001b[0;34m\"C\"\u001b[0m\u001b[0;34m,\u001b[0m \u001b[0mxp\u001b[0m\u001b[0;34m=\u001b[0m\u001b[0mxp\u001b[0m\u001b[0;34m)\u001b[0m\u001b[0;34m\u001b[0m\u001b[0;34m\u001b[0m\u001b[0m\n\u001b[1;32m   1201\u001b[0m \u001b[0;34m\u001b[0m\u001b[0m\n\u001b[0;32m-> 1202\u001b[0;31m     raise ValueError(\n\u001b[0m\u001b[1;32m   1203\u001b[0m         \u001b[0;34m\"y should be a 1d array, got an array of shape {} instead.\"\u001b[0m\u001b[0;34m.\u001b[0m\u001b[0mformat\u001b[0m\u001b[0;34m(\u001b[0m\u001b[0mshape\u001b[0m\u001b[0;34m)\u001b[0m\u001b[0;34m\u001b[0m\u001b[0;34m\u001b[0m\u001b[0m\n\u001b[1;32m   1204\u001b[0m     )\n",
            "\u001b[0;31mValueError\u001b[0m: y should be a 1d array, got an array of shape (15250, 151) instead."
          ]
        }
      ]
    },
    {
      "cell_type": "code",
      "source": [
        "# probabilities = clf.predict_proba(X_cal)\n",
        "# assert np.allclose(probabilities.sum(axis=1), 1), \"Probabilities do not sum up to 1\"\n"
      ],
      "metadata": {
        "id": "sqVjWgEtp9uK"
      },
      "execution_count": 65,
      "outputs": []
    },
    {
      "cell_type": "code",
      "source": [
        "from sklearn.preprocessing import LabelEncoder\n",
        "\n",
        "# Instantiate the encoder\n",
        "label_encoder = LabelEncoder()\n",
        "\n",
        "# Fit and transform y_test to get integer labels\n",
        "\n",
        "y_test_combined_int = label_encoder.fit_transform(y_test_combined)\n",
        "y_test_is_int = label_encoder.fit_transform(y_test_is)\n",
        "y_test_oos_int = label_encoder.fit_transform(y_test_oos)"
      ],
      "metadata": {
        "id": "pYusBPz_UsgT"
      },
      "execution_count": 71,
      "outputs": []
    },
    {
      "cell_type": "code",
      "source": [
        "y_test_combined_int.shape"
      ],
      "metadata": {
        "colab": {
          "base_uri": "https://localhost:8080/"
        },
        "id": "I7mKMzmZWhuI",
        "outputId": "fb1fe25d-d380-4af0-a0da-d3f345eeb61b"
      },
      "execution_count": 67,
      "outputs": [
        {
          "output_type": "execute_result",
          "data": {
            "text/plain": [
              "(5500,)"
            ]
          },
          "metadata": {},
          "execution_count": 67
        }
      ]
    },
    {
      "cell_type": "code",
      "source": [
        "\n",
        "# Initialize MAPIE\n",
        "from mapie.classification import MapieClassifier\n",
        "\n",
        "mapie_score = MapieClassifier(estimator=model_MLP, cv=\"prefit\", method=\"raps\")\n",
        "mapie_score.fit(X_val_combined, y_val_combined)\n",
        "\n",
        "from mapie.metrics import classification_coverage_score,classification_mean_width_score\n",
        "alpha = 0.05\n",
        "y_pred_score, y_ps_score = mapie_score.predict(X_test_combined, alpha=alpha)\n",
        "y_ps_score = np.squeeze(y_ps_score)\n",
        "cov = classification_coverage_score(y_test_combined_int, y_ps_score)\n",
        "setsize = classification_mean_width_score(y_ps_score)\n",
        "print(\"Coverage for Full Data:\",cov)\n",
        "print(\"Average Set Size for Full Data:\",setsize)"
      ],
      "metadata": {
        "colab": {
          "base_uri": "https://localhost:8080/"
        },
        "id": "9SMnhTnIO18V",
        "outputId": "0e4ddfac-ef9a-4195-db1e-0a016f4f8175"
      },
      "execution_count": 72,
      "outputs": [
        {
          "output_type": "stream",
          "name": "stdout",
          "text": [
            "Coverage for Full Data: 0.9169090909090909\n",
            "Average Set Size for Full Data: 1.4370909090909092\n"
          ]
        }
      ]
    },
    {
      "cell_type": "code",
      "source": [
        "mapie_score.fit(X_val_is, y_val_is)\n",
        "y_pred_score, y_ps_score = mapie_score.predict(X_test_is, alpha=alpha)\n",
        "y_ps_score = np.squeeze(y_ps_score)\n",
        "\n",
        "cov = classification_coverage_score(y_test_is_int, y_ps_score)\n",
        "setsize = classification_mean_width_score(y_ps_score)\n",
        "print(\"Coverage for In-Distribution Data:\",cov)\n",
        "print(\"Average Set Size for In-Distribution  Data:\",setsize)"
      ],
      "metadata": {
        "colab": {
          "base_uri": "https://localhost:8080/"
        },
        "id": "1O2uFmNKVPQQ",
        "outputId": "8959ac6f-7ca3-4ef7-e7a7-de1d0240c7b9"
      },
      "execution_count": 73,
      "outputs": [
        {
          "output_type": "stream",
          "name": "stderr",
          "text": [
            "/usr/local/lib/python3.10/dist-packages/mapie/classification.py:1031: UserWarning: WARNING: your calibration dataset has less labels than your training dataset (training has 151 unique labels while calibration have 150 unique labels\n",
            "  warnings.warn(\n"
          ]
        },
        {
          "output_type": "stream",
          "name": "stdout",
          "text": [
            "Coverage for In-Distribution Data: 0.5288888888888889\n",
            "Average Set Size for In-Distribution  Data: 1.222888888888889\n"
          ]
        }
      ]
    },
    {
      "cell_type": "code",
      "source": [
        "\n",
        "y_pred_score, y_ps_score = mapie_score.predict(X_test_oos, alpha=alpha)\n",
        "y_ps_score = np.squeeze(y_ps_score)\n",
        "\n",
        "cov = classification_coverage_score(y_test_oos_int, y_ps_score)\n",
        "setsize = classification_mean_width_score(y_ps_score)\n",
        "print(\"Coverage for In-Distribution Data:\",cov)\n",
        "print(\"Average Set Size for In-Distribution  Data:\",setsize)"
      ],
      "metadata": {
        "colab": {
          "base_uri": "https://localhost:8080/"
        },
        "id": "Z_BU49O8V7WI",
        "outputId": "2a1312d9-9e12-4040-fbd7-727aa5e217e8"
      },
      "execution_count": 77,
      "outputs": [
        {
          "output_type": "stream",
          "name": "stdout",
          "text": [
            "Coverage for In-Distribution Data: 0.002\n",
            "Average Set Size for In-Distribution  Data: 2.102\n"
          ]
        }
      ]
    },
    {
      "cell_type": "code",
      "source": [
        "print(type(y_ps_score), y_ps_score.dtype, y_ps_score[:5])\n"
      ],
      "metadata": {
        "colab": {
          "base_uri": "https://localhost:8080/"
        },
        "id": "E4ojW6MfRZNZ",
        "outputId": "9ab4dd63-5562-499f-cab0-b7b0b6b063f5"
      },
      "execution_count": 47,
      "outputs": [
        {
          "output_type": "stream",
          "name": "stdout",
          "text": [
            "<class 'numpy.ndarray'> bool [[False False False False False False False False False False False False\n",
            "  False False False False False False False False False False False False\n",
            "  False False False False False False False False False False False False\n",
            "  False False False False False False False False False False False False\n",
            "  False False False False False False False False False False False False\n",
            "  False False False False False False False False False False False False\n",
            "  False False False False False False False False False False False False\n",
            "  False False False False False False False False False False False False\n",
            "  False False False False False False False False False False False False\n",
            "  False False False False False False False False False False False False\n",
            "  False False False False False False False False False False False False\n",
            "   True False False False False False False False False False False False\n",
            "  False False False False False False False]\n",
            " [False False False False False False False False False False False False\n",
            "  False False False False False False False False False False False False\n",
            "  False False False False False False False False False False False False\n",
            "  False False False False False False False False False False False False\n",
            "  False False False False False False False False False False False False\n",
            "  False False False False False False False False False False False False\n",
            "  False False False False False False False False False False False False\n",
            "  False False False False False False False False False False False False\n",
            "  False False False False False False False False False False False False\n",
            "  False False False False False False False False False False False False\n",
            "  False False False False False False False False False False False False\n",
            "   True False False False False False False False False False False False\n",
            "  False False False False False False False]\n",
            " [False False False False False False False False False False False False\n",
            "  False False  True False False False False False False False False False\n",
            "  False False False False False False False False False False False False\n",
            "  False False False False False False False False False False False False\n",
            "  False False False False False False False False False False False False\n",
            "  False False False False False False False False False False False False\n",
            "  False False False False False False False False False False False False\n",
            "  False False False False False False False False False False False False\n",
            "  False False False False False False False False False False False False\n",
            "  False False False False False False False  True False False False False\n",
            "  False False False False False False False False False False False False\n",
            "   True False False False False False False False False False False False\n",
            "  False False False False False False False]\n",
            " [False False False False False False False False False False False False\n",
            "  False False False False False False False False False False False False\n",
            "  False False False False False False False False False False False False\n",
            "  False False False False False False False False False False False False\n",
            "  False False False False False False False False False False False False\n",
            "  False False False False False False False False False False False False\n",
            "  False False False False False False False False False False False False\n",
            "  False False False False False False False False False False False False\n",
            "  False False False False False False False False False False False False\n",
            "  False False False False False False False False False False False False\n",
            "  False False False False False False False False False False False False\n",
            "   True False False False False False False False False False False False\n",
            "  False False False False False False False]\n",
            " [False False False False False False False False False False False False\n",
            "  False False False False False False False False False False False False\n",
            "  False False False False False False False False False False False False\n",
            "  False False False False False False False False False False False False\n",
            "  False False False False False False False False False False False False\n",
            "  False False False False False False False False False False False False\n",
            "  False False False False False False False False  True False False False\n",
            "  False False False False False False False False False False False False\n",
            "  False False False False False False False False False False False False\n",
            "  False False False False False False False False False False False False\n",
            "  False False False False False False False False False False False False\n",
            "   True False False False False False False False False False False False\n",
            "  False False False False False False False]]\n"
          ]
        }
      ]
    },
    {
      "cell_type": "code",
      "source": [
        "\n",
        "results = pd.DataFrame(list(map(np.ravel, y_ps_score)))\n",
        "results['prediction'] = y_pred_score\n",
        "\n",
        "y_test_labels = np.argmax(y_test_final, axis=1)\n",
        "results['label'] = y_test_labels"
      ],
      "metadata": {
        "id": "_HFuu3bNPvLv"
      },
      "execution_count": 23,
      "outputs": []
    },
    {
      "cell_type": "code",
      "source": [
        "results"
      ],
      "metadata": {
        "colab": {
          "base_uri": "https://localhost:8080/",
          "height": 444
        },
        "id": "GzRuE2-8T0RS",
        "outputId": "83de77b3-d8bd-4b94-d530-72697b22ae6c"
      },
      "execution_count": 24,
      "outputs": [
        {
          "output_type": "execute_result",
          "data": {
            "text/plain": [
              "          0      1      2      3      4      5      6      7      8      9  \\\n",
              "0     False   True  False  False  False  False  False  False  False  False   \n",
              "1     False  False  False  False  False  False  False  False  False  False   \n",
              "2     False  False  False  False  False  False  False  False  False  False   \n",
              "3     False  False  False  False  False  False  False  False  False  False   \n",
              "4     False  False  False  False  False  False  False  False  False  False   \n",
              "...     ...    ...    ...    ...    ...    ...    ...    ...    ...    ...   \n",
              "2745  False  False  False  False  False  False  False  False  False  False   \n",
              "2746  False  False  False  False  False  False  False  False  False   True   \n",
              "2747  False  False  False  False  False  False  False  False  False  False   \n",
              "2748  False  False  False  False  False  False  False  False  False  False   \n",
              "2749  False  False  False  False  False  False  False  False  False  False   \n",
              "\n",
              "      ...    143    144    145    146    147    148    149    150  prediction  \\\n",
              "0     ...  False  False  False  False  False  False  False  False          99   \n",
              "1     ...  False  False  False  False  False  False  False  False         141   \n",
              "2     ...  False  False  False  False  False  False  False  False          49   \n",
              "3     ...  False  False  False  False  False  False  False  False         112   \n",
              "4     ...  False  False  False  False  False  False  False  False         133   \n",
              "...   ...    ...    ...    ...    ...    ...    ...    ...    ...         ...   \n",
              "2745  ...  False  False  False  False  False  False  False  False         116   \n",
              "2746  ...  False  False  False  False  False  False  False  False           9   \n",
              "2747  ...  False  False  False  False  False  False  False  False         129   \n",
              "2748  ...  False  False  False  False  False  False  False  False         102   \n",
              "2749  ...  False  False  False  False  False  False  False  False          52   \n",
              "\n",
              "      label  \n",
              "0        99  \n",
              "1       141  \n",
              "2        49  \n",
              "3       112  \n",
              "4       133  \n",
              "...     ...  \n",
              "2745     80  \n",
              "2746      9  \n",
              "2747     80  \n",
              "2748    102  \n",
              "2749     52  \n",
              "\n",
              "[2750 rows x 153 columns]"
            ],
            "text/html": [
              "\n",
              "  <div id=\"df-94c14a28-8df4-4b08-a721-505d5fa1b691\" class=\"colab-df-container\">\n",
              "    <div>\n",
              "<style scoped>\n",
              "    .dataframe tbody tr th:only-of-type {\n",
              "        vertical-align: middle;\n",
              "    }\n",
              "\n",
              "    .dataframe tbody tr th {\n",
              "        vertical-align: top;\n",
              "    }\n",
              "\n",
              "    .dataframe thead th {\n",
              "        text-align: right;\n",
              "    }\n",
              "</style>\n",
              "<table border=\"1\" class=\"dataframe\">\n",
              "  <thead>\n",
              "    <tr style=\"text-align: right;\">\n",
              "      <th></th>\n",
              "      <th>0</th>\n",
              "      <th>1</th>\n",
              "      <th>2</th>\n",
              "      <th>3</th>\n",
              "      <th>4</th>\n",
              "      <th>5</th>\n",
              "      <th>6</th>\n",
              "      <th>7</th>\n",
              "      <th>8</th>\n",
              "      <th>9</th>\n",
              "      <th>...</th>\n",
              "      <th>143</th>\n",
              "      <th>144</th>\n",
              "      <th>145</th>\n",
              "      <th>146</th>\n",
              "      <th>147</th>\n",
              "      <th>148</th>\n",
              "      <th>149</th>\n",
              "      <th>150</th>\n",
              "      <th>prediction</th>\n",
              "      <th>label</th>\n",
              "    </tr>\n",
              "  </thead>\n",
              "  <tbody>\n",
              "    <tr>\n",
              "      <th>0</th>\n",
              "      <td>False</td>\n",
              "      <td>True</td>\n",
              "      <td>False</td>\n",
              "      <td>False</td>\n",
              "      <td>False</td>\n",
              "      <td>False</td>\n",
              "      <td>False</td>\n",
              "      <td>False</td>\n",
              "      <td>False</td>\n",
              "      <td>False</td>\n",
              "      <td>...</td>\n",
              "      <td>False</td>\n",
              "      <td>False</td>\n",
              "      <td>False</td>\n",
              "      <td>False</td>\n",
              "      <td>False</td>\n",
              "      <td>False</td>\n",
              "      <td>False</td>\n",
              "      <td>False</td>\n",
              "      <td>99</td>\n",
              "      <td>99</td>\n",
              "    </tr>\n",
              "    <tr>\n",
              "      <th>1</th>\n",
              "      <td>False</td>\n",
              "      <td>False</td>\n",
              "      <td>False</td>\n",
              "      <td>False</td>\n",
              "      <td>False</td>\n",
              "      <td>False</td>\n",
              "      <td>False</td>\n",
              "      <td>False</td>\n",
              "      <td>False</td>\n",
              "      <td>False</td>\n",
              "      <td>...</td>\n",
              "      <td>False</td>\n",
              "      <td>False</td>\n",
              "      <td>False</td>\n",
              "      <td>False</td>\n",
              "      <td>False</td>\n",
              "      <td>False</td>\n",
              "      <td>False</td>\n",
              "      <td>False</td>\n",
              "      <td>141</td>\n",
              "      <td>141</td>\n",
              "    </tr>\n",
              "    <tr>\n",
              "      <th>2</th>\n",
              "      <td>False</td>\n",
              "      <td>False</td>\n",
              "      <td>False</td>\n",
              "      <td>False</td>\n",
              "      <td>False</td>\n",
              "      <td>False</td>\n",
              "      <td>False</td>\n",
              "      <td>False</td>\n",
              "      <td>False</td>\n",
              "      <td>False</td>\n",
              "      <td>...</td>\n",
              "      <td>False</td>\n",
              "      <td>False</td>\n",
              "      <td>False</td>\n",
              "      <td>False</td>\n",
              "      <td>False</td>\n",
              "      <td>False</td>\n",
              "      <td>False</td>\n",
              "      <td>False</td>\n",
              "      <td>49</td>\n",
              "      <td>49</td>\n",
              "    </tr>\n",
              "    <tr>\n",
              "      <th>3</th>\n",
              "      <td>False</td>\n",
              "      <td>False</td>\n",
              "      <td>False</td>\n",
              "      <td>False</td>\n",
              "      <td>False</td>\n",
              "      <td>False</td>\n",
              "      <td>False</td>\n",
              "      <td>False</td>\n",
              "      <td>False</td>\n",
              "      <td>False</td>\n",
              "      <td>...</td>\n",
              "      <td>False</td>\n",
              "      <td>False</td>\n",
              "      <td>False</td>\n",
              "      <td>False</td>\n",
              "      <td>False</td>\n",
              "      <td>False</td>\n",
              "      <td>False</td>\n",
              "      <td>False</td>\n",
              "      <td>112</td>\n",
              "      <td>112</td>\n",
              "    </tr>\n",
              "    <tr>\n",
              "      <th>4</th>\n",
              "      <td>False</td>\n",
              "      <td>False</td>\n",
              "      <td>False</td>\n",
              "      <td>False</td>\n",
              "      <td>False</td>\n",
              "      <td>False</td>\n",
              "      <td>False</td>\n",
              "      <td>False</td>\n",
              "      <td>False</td>\n",
              "      <td>False</td>\n",
              "      <td>...</td>\n",
              "      <td>False</td>\n",
              "      <td>False</td>\n",
              "      <td>False</td>\n",
              "      <td>False</td>\n",
              "      <td>False</td>\n",
              "      <td>False</td>\n",
              "      <td>False</td>\n",
              "      <td>False</td>\n",
              "      <td>133</td>\n",
              "      <td>133</td>\n",
              "    </tr>\n",
              "    <tr>\n",
              "      <th>...</th>\n",
              "      <td>...</td>\n",
              "      <td>...</td>\n",
              "      <td>...</td>\n",
              "      <td>...</td>\n",
              "      <td>...</td>\n",
              "      <td>...</td>\n",
              "      <td>...</td>\n",
              "      <td>...</td>\n",
              "      <td>...</td>\n",
              "      <td>...</td>\n",
              "      <td>...</td>\n",
              "      <td>...</td>\n",
              "      <td>...</td>\n",
              "      <td>...</td>\n",
              "      <td>...</td>\n",
              "      <td>...</td>\n",
              "      <td>...</td>\n",
              "      <td>...</td>\n",
              "      <td>...</td>\n",
              "      <td>...</td>\n",
              "      <td>...</td>\n",
              "    </tr>\n",
              "    <tr>\n",
              "      <th>2745</th>\n",
              "      <td>False</td>\n",
              "      <td>False</td>\n",
              "      <td>False</td>\n",
              "      <td>False</td>\n",
              "      <td>False</td>\n",
              "      <td>False</td>\n",
              "      <td>False</td>\n",
              "      <td>False</td>\n",
              "      <td>False</td>\n",
              "      <td>False</td>\n",
              "      <td>...</td>\n",
              "      <td>False</td>\n",
              "      <td>False</td>\n",
              "      <td>False</td>\n",
              "      <td>False</td>\n",
              "      <td>False</td>\n",
              "      <td>False</td>\n",
              "      <td>False</td>\n",
              "      <td>False</td>\n",
              "      <td>116</td>\n",
              "      <td>80</td>\n",
              "    </tr>\n",
              "    <tr>\n",
              "      <th>2746</th>\n",
              "      <td>False</td>\n",
              "      <td>False</td>\n",
              "      <td>False</td>\n",
              "      <td>False</td>\n",
              "      <td>False</td>\n",
              "      <td>False</td>\n",
              "      <td>False</td>\n",
              "      <td>False</td>\n",
              "      <td>False</td>\n",
              "      <td>True</td>\n",
              "      <td>...</td>\n",
              "      <td>False</td>\n",
              "      <td>False</td>\n",
              "      <td>False</td>\n",
              "      <td>False</td>\n",
              "      <td>False</td>\n",
              "      <td>False</td>\n",
              "      <td>False</td>\n",
              "      <td>False</td>\n",
              "      <td>9</td>\n",
              "      <td>9</td>\n",
              "    </tr>\n",
              "    <tr>\n",
              "      <th>2747</th>\n",
              "      <td>False</td>\n",
              "      <td>False</td>\n",
              "      <td>False</td>\n",
              "      <td>False</td>\n",
              "      <td>False</td>\n",
              "      <td>False</td>\n",
              "      <td>False</td>\n",
              "      <td>False</td>\n",
              "      <td>False</td>\n",
              "      <td>False</td>\n",
              "      <td>...</td>\n",
              "      <td>False</td>\n",
              "      <td>False</td>\n",
              "      <td>False</td>\n",
              "      <td>False</td>\n",
              "      <td>False</td>\n",
              "      <td>False</td>\n",
              "      <td>False</td>\n",
              "      <td>False</td>\n",
              "      <td>129</td>\n",
              "      <td>80</td>\n",
              "    </tr>\n",
              "    <tr>\n",
              "      <th>2748</th>\n",
              "      <td>False</td>\n",
              "      <td>False</td>\n",
              "      <td>False</td>\n",
              "      <td>False</td>\n",
              "      <td>False</td>\n",
              "      <td>False</td>\n",
              "      <td>False</td>\n",
              "      <td>False</td>\n",
              "      <td>False</td>\n",
              "      <td>False</td>\n",
              "      <td>...</td>\n",
              "      <td>False</td>\n",
              "      <td>False</td>\n",
              "      <td>False</td>\n",
              "      <td>False</td>\n",
              "      <td>False</td>\n",
              "      <td>False</td>\n",
              "      <td>False</td>\n",
              "      <td>False</td>\n",
              "      <td>102</td>\n",
              "      <td>102</td>\n",
              "    </tr>\n",
              "    <tr>\n",
              "      <th>2749</th>\n",
              "      <td>False</td>\n",
              "      <td>False</td>\n",
              "      <td>False</td>\n",
              "      <td>False</td>\n",
              "      <td>False</td>\n",
              "      <td>False</td>\n",
              "      <td>False</td>\n",
              "      <td>False</td>\n",
              "      <td>False</td>\n",
              "      <td>False</td>\n",
              "      <td>...</td>\n",
              "      <td>False</td>\n",
              "      <td>False</td>\n",
              "      <td>False</td>\n",
              "      <td>False</td>\n",
              "      <td>False</td>\n",
              "      <td>False</td>\n",
              "      <td>False</td>\n",
              "      <td>False</td>\n",
              "      <td>52</td>\n",
              "      <td>52</td>\n",
              "    </tr>\n",
              "  </tbody>\n",
              "</table>\n",
              "<p>2750 rows × 153 columns</p>\n",
              "</div>\n",
              "    <div class=\"colab-df-buttons\">\n",
              "\n",
              "  <div class=\"colab-df-container\">\n",
              "    <button class=\"colab-df-convert\" onclick=\"convertToInteractive('df-94c14a28-8df4-4b08-a721-505d5fa1b691')\"\n",
              "            title=\"Convert this dataframe to an interactive table.\"\n",
              "            style=\"display:none;\">\n",
              "\n",
              "  <svg xmlns=\"http://www.w3.org/2000/svg\" height=\"24px\" viewBox=\"0 -960 960 960\">\n",
              "    <path d=\"M120-120v-720h720v720H120Zm60-500h600v-160H180v160Zm220 220h160v-160H400v160Zm0 220h160v-160H400v160ZM180-400h160v-160H180v160Zm440 0h160v-160H620v160ZM180-180h160v-160H180v160Zm440 0h160v-160H620v160Z\"/>\n",
              "  </svg>\n",
              "    </button>\n",
              "\n",
              "  <style>\n",
              "    .colab-df-container {\n",
              "      display:flex;\n",
              "      gap: 12px;\n",
              "    }\n",
              "\n",
              "    .colab-df-convert {\n",
              "      background-color: #E8F0FE;\n",
              "      border: none;\n",
              "      border-radius: 50%;\n",
              "      cursor: pointer;\n",
              "      display: none;\n",
              "      fill: #1967D2;\n",
              "      height: 32px;\n",
              "      padding: 0 0 0 0;\n",
              "      width: 32px;\n",
              "    }\n",
              "\n",
              "    .colab-df-convert:hover {\n",
              "      background-color: #E2EBFA;\n",
              "      box-shadow: 0px 1px 2px rgba(60, 64, 67, 0.3), 0px 1px 3px 1px rgba(60, 64, 67, 0.15);\n",
              "      fill: #174EA6;\n",
              "    }\n",
              "\n",
              "    .colab-df-buttons div {\n",
              "      margin-bottom: 4px;\n",
              "    }\n",
              "\n",
              "    [theme=dark] .colab-df-convert {\n",
              "      background-color: #3B4455;\n",
              "      fill: #D2E3FC;\n",
              "    }\n",
              "\n",
              "    [theme=dark] .colab-df-convert:hover {\n",
              "      background-color: #434B5C;\n",
              "      box-shadow: 0px 1px 3px 1px rgba(0, 0, 0, 0.15);\n",
              "      filter: drop-shadow(0px 1px 2px rgba(0, 0, 0, 0.3));\n",
              "      fill: #FFFFFF;\n",
              "    }\n",
              "  </style>\n",
              "\n",
              "    <script>\n",
              "      const buttonEl =\n",
              "        document.querySelector('#df-94c14a28-8df4-4b08-a721-505d5fa1b691 button.colab-df-convert');\n",
              "      buttonEl.style.display =\n",
              "        google.colab.kernel.accessAllowed ? 'block' : 'none';\n",
              "\n",
              "      async function convertToInteractive(key) {\n",
              "        const element = document.querySelector('#df-94c14a28-8df4-4b08-a721-505d5fa1b691');\n",
              "        const dataTable =\n",
              "          await google.colab.kernel.invokeFunction('convertToInteractive',\n",
              "                                                    [key], {});\n",
              "        if (!dataTable) return;\n",
              "\n",
              "        const docLinkHtml = 'Like what you see? Visit the ' +\n",
              "          '<a target=\"_blank\" href=https://colab.research.google.com/notebooks/data_table.ipynb>data table notebook</a>'\n",
              "          + ' to learn more about interactive tables.';\n",
              "        element.innerHTML = '';\n",
              "        dataTable['output_type'] = 'display_data';\n",
              "        await google.colab.output.renderOutput(dataTable, element);\n",
              "        const docLink = document.createElement('div');\n",
              "        docLink.innerHTML = docLinkHtml;\n",
              "        element.appendChild(docLink);\n",
              "      }\n",
              "    </script>\n",
              "  </div>\n",
              "\n",
              "\n",
              "<div id=\"df-8f3cccad-99ea-4450-b087-6be2dd98e987\">\n",
              "  <button class=\"colab-df-quickchart\" onclick=\"quickchart('df-8f3cccad-99ea-4450-b087-6be2dd98e987')\"\n",
              "            title=\"Suggest charts.\"\n",
              "            style=\"display:none;\">\n",
              "\n",
              "<svg xmlns=\"http://www.w3.org/2000/svg\" height=\"24px\"viewBox=\"0 0 24 24\"\n",
              "     width=\"24px\">\n",
              "    <g>\n",
              "        <path d=\"M19 3H5c-1.1 0-2 .9-2 2v14c0 1.1.9 2 2 2h14c1.1 0 2-.9 2-2V5c0-1.1-.9-2-2-2zM9 17H7v-7h2v7zm4 0h-2V7h2v10zm4 0h-2v-4h2v4z\"/>\n",
              "    </g>\n",
              "</svg>\n",
              "  </button>\n",
              "\n",
              "<style>\n",
              "  .colab-df-quickchart {\n",
              "      --bg-color: #E8F0FE;\n",
              "      --fill-color: #1967D2;\n",
              "      --hover-bg-color: #E2EBFA;\n",
              "      --hover-fill-color: #174EA6;\n",
              "      --disabled-fill-color: #AAA;\n",
              "      --disabled-bg-color: #DDD;\n",
              "  }\n",
              "\n",
              "  [theme=dark] .colab-df-quickchart {\n",
              "      --bg-color: #3B4455;\n",
              "      --fill-color: #D2E3FC;\n",
              "      --hover-bg-color: #434B5C;\n",
              "      --hover-fill-color: #FFFFFF;\n",
              "      --disabled-bg-color: #3B4455;\n",
              "      --disabled-fill-color: #666;\n",
              "  }\n",
              "\n",
              "  .colab-df-quickchart {\n",
              "    background-color: var(--bg-color);\n",
              "    border: none;\n",
              "    border-radius: 50%;\n",
              "    cursor: pointer;\n",
              "    display: none;\n",
              "    fill: var(--fill-color);\n",
              "    height: 32px;\n",
              "    padding: 0;\n",
              "    width: 32px;\n",
              "  }\n",
              "\n",
              "  .colab-df-quickchart:hover {\n",
              "    background-color: var(--hover-bg-color);\n",
              "    box-shadow: 0 1px 2px rgba(60, 64, 67, 0.3), 0 1px 3px 1px rgba(60, 64, 67, 0.15);\n",
              "    fill: var(--button-hover-fill-color);\n",
              "  }\n",
              "\n",
              "  .colab-df-quickchart-complete:disabled,\n",
              "  .colab-df-quickchart-complete:disabled:hover {\n",
              "    background-color: var(--disabled-bg-color);\n",
              "    fill: var(--disabled-fill-color);\n",
              "    box-shadow: none;\n",
              "  }\n",
              "\n",
              "  .colab-df-spinner {\n",
              "    border: 2px solid var(--fill-color);\n",
              "    border-color: transparent;\n",
              "    border-bottom-color: var(--fill-color);\n",
              "    animation:\n",
              "      spin 1s steps(1) infinite;\n",
              "  }\n",
              "\n",
              "  @keyframes spin {\n",
              "    0% {\n",
              "      border-color: transparent;\n",
              "      border-bottom-color: var(--fill-color);\n",
              "      border-left-color: var(--fill-color);\n",
              "    }\n",
              "    20% {\n",
              "      border-color: transparent;\n",
              "      border-left-color: var(--fill-color);\n",
              "      border-top-color: var(--fill-color);\n",
              "    }\n",
              "    30% {\n",
              "      border-color: transparent;\n",
              "      border-left-color: var(--fill-color);\n",
              "      border-top-color: var(--fill-color);\n",
              "      border-right-color: var(--fill-color);\n",
              "    }\n",
              "    40% {\n",
              "      border-color: transparent;\n",
              "      border-right-color: var(--fill-color);\n",
              "      border-top-color: var(--fill-color);\n",
              "    }\n",
              "    60% {\n",
              "      border-color: transparent;\n",
              "      border-right-color: var(--fill-color);\n",
              "    }\n",
              "    80% {\n",
              "      border-color: transparent;\n",
              "      border-right-color: var(--fill-color);\n",
              "      border-bottom-color: var(--fill-color);\n",
              "    }\n",
              "    90% {\n",
              "      border-color: transparent;\n",
              "      border-bottom-color: var(--fill-color);\n",
              "    }\n",
              "  }\n",
              "</style>\n",
              "\n",
              "  <script>\n",
              "    async function quickchart(key) {\n",
              "      const quickchartButtonEl =\n",
              "        document.querySelector('#' + key + ' button');\n",
              "      quickchartButtonEl.disabled = true;  // To prevent multiple clicks.\n",
              "      quickchartButtonEl.classList.add('colab-df-spinner');\n",
              "      try {\n",
              "        const charts = await google.colab.kernel.invokeFunction(\n",
              "            'suggestCharts', [key], {});\n",
              "      } catch (error) {\n",
              "        console.error('Error during call to suggestCharts:', error);\n",
              "      }\n",
              "      quickchartButtonEl.classList.remove('colab-df-spinner');\n",
              "      quickchartButtonEl.classList.add('colab-df-quickchart-complete');\n",
              "    }\n",
              "    (() => {\n",
              "      let quickchartButtonEl =\n",
              "        document.querySelector('#df-8f3cccad-99ea-4450-b087-6be2dd98e987 button');\n",
              "      quickchartButtonEl.style.display =\n",
              "        google.colab.kernel.accessAllowed ? 'block' : 'none';\n",
              "    })();\n",
              "  </script>\n",
              "</div>\n",
              "    </div>\n",
              "  </div>\n"
            ]
          },
          "metadata": {},
          "execution_count": 24
        }
      ]
    },
    {
      "cell_type": "code",
      "source": [
        "def set_pandas_display_options() -> None:\n",
        "    \"\"\"Set pandas display options.\"\"\"\n",
        "    # Ref: https://stackoverflow.com/a/52432757/\n",
        "    display = pd.options.display\n",
        "\n",
        "    display.max_columns = 1000\n",
        "    display.max_rows = 1000\n",
        "    display.max_colwidth = 199\n",
        "    display.width = 1000\n",
        "    # display.precision = 2  # set as needed\n",
        "    # display.float_format = lambda x: '{:,.2f}'.format(x)  # set as needed\n",
        "set_pandas_display_options()"
      ],
      "metadata": {
        "id": "S1bub605QNfH"
      },
      "execution_count": 25,
      "outputs": []
    },
    {
      "cell_type": "code",
      "source": [
        "filtered_results = results.loc[results['prediction'] != results['label']]\n",
        "print(\"Shape of filtered_results:\", filtered_results.shape)"
      ],
      "metadata": {
        "colab": {
          "base_uri": "https://localhost:8080/"
        },
        "id": "rbkX3Nn4QQJo",
        "outputId": "dd6daeff-08c0-47dd-eaab-ca5ebff6c6cd"
      },
      "execution_count": 26,
      "outputs": [
        {
          "output_type": "stream",
          "name": "stdout",
          "text": [
            "Shape of filtered_results: (341, 153)\n"
          ]
        }
      ]
    },
    {
      "cell_type": "code",
      "source": [
        "import matplotlib.pyplot as plt\n",
        "import seaborn as sns\n",
        "import numpy as np\n",
        "\n",
        "# Calculate the true count\n",
        "results['true_count'] = results.iloc[:, :-2].apply(lambda row: sum(row == True), axis=1)\n",
        "\n",
        "# Plotting with different strategies\n",
        "fig, axes = plt.subplots(nrows=1, ncols=2, figsize=(14, 10))\n",
        "\n",
        "# Regular Histogram\n",
        "axes[0].hist(results['true_count'], bins=30, edgecolor='black')\n",
        "axes[0].set_title('Set Size Regular Histogram')\n",
        "axes[0].set_xlabel('Count of True Values')\n",
        "axes[0].set_ylabel('Frequency')\n",
        "\n",
        "# Log Scale\n",
        "axes[1].hist(results['true_count'], bins=30, edgecolor='black', log=True)\n",
        "axes[1].set_title('Set Size Histogram with Log Scale')\n",
        "axes[1].set_xlabel('Count of True Values')\n",
        "axes[1].set_ylabel('Log(Frequency)')\n",
        "\n",
        "\n",
        "plt.tight_layout()\n",
        "plt.show()\n"
      ],
      "metadata": {
        "colab": {
          "base_uri": "https://localhost:8080/",
          "height": 741
        },
        "id": "XX5MWz7hUcVc",
        "outputId": "310b8b1f-112f-43e2-f930-953861b70ef6"
      },
      "execution_count": 27,
      "outputs": [
        {
          "output_type": "display_data",
          "data": {
            "text/plain": [
              "<Figure size 1400x1000 with 2 Axes>"
            ],
            "image/png": "[encoded data removed]"
          },
          "metadata": {}
        }
      ]
    },
    {
      "cell_type": "markdown",
      "source": [
        "cross entropy calculations"
      ],
      "metadata": {
        "id": "NAfFZEOc2VbA"
      }
    },
    {
      "cell_type": "code",
      "source": [
        "import json\n",
        "import numpy as np\n",
        "from sklearn.preprocessing import LabelEncoder\n",
        "from tensorflow.keras.utils import to_categorical\n",
        "from tensorflow.keras.models import Sequential\n",
        "from tensorflow.keras.layers import Dense\n",
        "\n",
        "# 1. Load and preprocess the data\n",
        "def load_and_preprocess_data():\n",
        "    # Define file path\n",
        "    file_path = 'data_oos_plus_embedded.json'\n",
        "\n",
        "    # Load data from JSON file\n",
        "    with open(file_path, 'r') as f:\n",
        "        data = json.load(f)\n",
        "\n",
        "    # Separate features (X) and labels (y) for in-scope data\n",
        "\n",
        "    X_train, y_train = zip(*[(embedding, label) for embedding, label in data[\"train\"]])\n",
        "    X_val, y_val = zip(*[(embedding, label) for embedding, label in data[\"val\"]])\n",
        "    X_test, y_test = zip(*[(embedding, label) for embedding, label in data[\"test\"]])\n",
        "\n",
        "    # Convert lists to numpy arrays\n",
        "    X_train = np.array(X_train)\n",
        "    X_val = np.array(X_val)\n",
        "    X_test = np.array(X_test)\n",
        "\n",
        "    # Convert labels to integers using LabelEncoder\n",
        "    label_encoder = LabelEncoder()\n",
        "    y_train_encoded = label_encoder.fit_transform(y_train)\n",
        "    y_val_encoded = label_encoder.transform(y_val)\n",
        "    y_test_encoded = label_encoder.transform(y_test)\n",
        "\n",
        "    return X_train, y_train_encoded, X_val, y_val_encoded, X_test, y_test_encoded, label_encoder\n",
        "\n",
        "# 2. Load data\n",
        "X_train, y_train_encoded, X_val, y_val_encoded, X_test, y_test_encoded, label_encoder = load_and_preprocess_data()"
      ],
      "metadata": {
        "id": "JeQLLGsL2XuW"
      },
      "execution_count": 28,
      "outputs": []
    },
    {
      "cell_type": "code",
      "source": [
        "y_train_encoded"
      ],
      "metadata": {
        "colab": {
          "base_uri": "https://localhost:8080/"
        },
        "id": "Au-iJtnkKZk7",
        "outputId": "300ff15a-5c06-480e-d1b4-eb0c7d084bd0"
      },
      "execution_count": 29,
      "outputs": [
        {
          "output_type": "execute_result",
          "data": {
            "text/plain": [
              "array([131, 131, 131, ...,  18,  18,  18])"
            ]
          },
          "metadata": {},
          "execution_count": 29
        }
      ]
    },
    {
      "cell_type": "code",
      "source": [
        "# 3. Train a new MLP model on this in-distribution data\n",
        "model = Sequential([\n",
        "    Dense(200, input_shape=(X_train.shape[1],), activation='tanh'),\n",
        "    Dropout(0.5),\n",
        "    Dense(200, activation='tanh'),\n",
        "    Dropout(0.5),\n",
        "    Dense(y_train.shape[1], activation='softmax')\n",
        "    ]) # Number of classes as output nodes\n",
        "\n",
        "\n",
        "model.compile(optimizer='adam', loss='categorical_crossentropy', metrics=['accuracy'])\n",
        "\n",
        "# One-hot encode the labels\n",
        "y_train_onehot = to_categorical(y_train_encoded)\n",
        "y_val_onehot = to_categorical(y_val_encoded)\n",
        "y_train_onehot"
      ],
      "metadata": {
        "colab": {
          "base_uri": "https://localhost:8080/"
        },
        "id": "h1vANjQi4cXk",
        "outputId": "6137434d-d998-42d2-a03f-e16a555a8dbe"
      },
      "execution_count": 95,
      "outputs": [
        {
          "output_type": "execute_result",
          "data": {
            "text/plain": [
              "array([[0., 0., 0., ..., 0., 0., 0.],\n",
              "       [0., 0., 0., ..., 0., 0., 0.],\n",
              "       [0., 0., 0., ..., 0., 0., 0.],\n",
              "       ...,\n",
              "       [0., 0., 0., ..., 0., 0., 0.],\n",
              "       [0., 0., 0., ..., 0., 0., 0.],\n",
              "       [0., 0., 0., ..., 0., 0., 0.]], dtype=float32)"
            ]
          },
          "metadata": {},
          "execution_count": 95
        }
      ]
    },
    {
      "cell_type": "code",
      "source": [
        "print(np.unique(y_train_onehot))"
      ],
      "metadata": {
        "colab": {
          "base_uri": "https://localhost:8080/",
          "height": 179
        },
        "id": "S7u0U_H67MfW",
        "outputId": "932db6d9-0735-4111-e577-7a95f63cadbc"
      },
      "execution_count": 51,
      "outputs": [
        {
          "output_type": "error",
          "ename": "NameError",
          "evalue": "ignored",
          "traceback": [
            "\u001b[0;31m---------------------------------------------------------------------------\u001b[0m",
            "\u001b[0;31mNameError\u001b[0m                                 Traceback (most recent call last)",
            "\u001b[0;32m<ipython-input-51-4e3e784f8b1e>\u001b[0m in \u001b[0;36m<cell line: 1>\u001b[0;34m()\u001b[0m\n\u001b[0;32m----> 1\u001b[0;31m \u001b[0mprint\u001b[0m\u001b[0;34m(\u001b[0m\u001b[0mnp\u001b[0m\u001b[0;34m.\u001b[0m\u001b[0munique\u001b[0m\u001b[0;34m(\u001b[0m\u001b[0my_train_onehot\u001b[0m\u001b[0;34m)\u001b[0m\u001b[0;34m)\u001b[0m\u001b[0;34m\u001b[0m\u001b[0;34m\u001b[0m\u001b[0m\n\u001b[0m",
            "\u001b[0;31mNameError\u001b[0m: name 'y_train_onehot' is not defined"
          ]
        }
      ]
    },
    {
      "cell_type": "code",
      "source": [
        "print(np.unique(y_train))"
      ],
      "metadata": {
        "colab": {
          "base_uri": "https://localhost:8080/"
        },
        "id": "tdqIIzcb7UuS",
        "outputId": "230adb61-0958-4974-b8c7-a51f163850a6"
      },
      "execution_count": 97,
      "outputs": [
        {
          "output_type": "stream",
          "name": "stdout",
          "text": [
            "[0. 1.]\n"
          ]
        }
      ]
    },
    {
      "cell_type": "code",
      "source": [
        "model.fit(X_train, y_train_onehot, validation_data=(X_val, y_val_onehot), epochs=50, batch_size=16)\n",
        "\n",
        "# 4. Make predictions using this model\n",
        "y_pred_probs = model.predict(X_test)\n",
        "y_pred_labels = np.argmax(y_pred_probs, axis=1)\n",
        "\n",
        "# 5. Convert true labels and predicted labels to one-hot encoded representations\n",
        "y_test_onehot = to_categorical(y_test_encoded, num_classes=len(label_encoder.classes_))\n",
        "y_pred_onehot = to_categorical(y_pred_labels, num_classes=len(label_encoder.classes_))\n",
        "\n",
        "# 6. Compute cross-entropy\n",
        "cross_entropy = -np.sum(y_test_onehot * np.log(y_pred_probs)) / y_test_onehot.shape[0]\n",
        "print(\"Cross-Entropy:\", cross_entropy)"
      ],
      "metadata": {
        "id": "H1bN0xHo3ere"
      },
      "execution_count": null,
      "outputs": []
    },
    {
      "cell_type": "code",
      "source": [
        "# y_true is  one-hot encoded ground truth and y_pred is the softmax output of model - ONLY for in-distribution\n"
      ],
      "metadata": {
        "id": "onRnHsKovBQx"
      },
      "execution_count": null,
      "outputs": []
    },
    {
      "cell_type": "code",
      "source": [
        "cross_entropy_losses = -np.sum(y_true * np.log(y_pred + 1e-10), axis=1)  # Added a small value to avoid log(0)\n",
        "\n",
        "# Plot the distribution\n",
        "plt.hist(cross_entropy_losses, bins=50, edgecolor='black')\n",
        "plt.title('Distribution of Cross-Entropy Losses for Intent Classification')\n",
        "plt.xlabel('Cross-Entropy Loss')\n",
        "plt.ylabel('Frequency')\n",
        "plt.show()\n",
        "\n",
        "# Determine the threshold for categorizing difficulty\n",
        "median_loss = np.median(cross_entropy_losses)\n",
        "print(f\"Median Cross-Entropy Loss: {median_loss}\")\n",
        "\n",
        "# Categorize samples based on the threshold\n",
        "easy_samples = np.where(cross_entropy_losses <= median_loss)\n",
        "hard_samples = np.where(cross_entropy_losses > median_loss)\n"
      ],
      "metadata": {
        "id": "iUzzaK53jmpG"
      },
      "execution_count": null,
      "outputs": []
    }
  ]
}